{
 "cells": [
  {
   "cell_type": "code",
   "execution_count": 1,
   "metadata": {
    "collapsed": true
   },
   "outputs": [],
   "source": [
    "import json\n",
    "import pandas as pd"
   ]
  },
  {
   "cell_type": "code",
   "execution_count": 2,
   "metadata": {
    "collapsed": true
   },
   "outputs": [],
   "source": [
    "datfilename = '2016-07-21_15-43.json'\n",
    "with open(datfilename) as datfile:\n",
    "    dat = json.load(datfile)"
   ]
  },
  {
   "cell_type": "markdown",
   "metadata": {},
   "source": [
    "# JSON to table of media files"
   ]
  },
  {
   "cell_type": "code",
   "execution_count": 3,
   "metadata": {
    "collapsed": true
   },
   "outputs": [],
   "source": [
    "def json_to_media_csv(filename,outfilename='media_files.csv'):\n",
    "\n",
    "    with open(filename) as datafile:\n",
    "        data = json.load(datafile)\n",
    "\n",
    "    rowlist = [['COMPLAINT_NUMBER', 'MEDIA_FILE_TYPE', 'IPRA_PORTAL_LABEL', 'IPRA_URL']]\n",
    "    media_dict = {'documents' : 'DOCUMENT', 'audio' : 'AUDIO', 'video' : 'VIDEO'}\n",
    "    for recordno in sorted(data['records'].keys()):\n",
    "        for mediatype in ['video','audio','documents']:\n",
    "            for entry in data['records'][recordno][mediatype]:\n",
    "                rowlist.append([\n",
    "                    recordno, media_dict[mediatype],entry['description'],entry['url']\n",
    "                    ])\n",
    "\n",
    "    df = pd.DataFrame(rowlist[1:],columns=rowlist[0])\n",
    "    df.to_csv(outfilename,index=False)"
   ]
  },
  {
   "cell_type": "code",
   "execution_count": 4,
   "metadata": {
    "collapsed": false
   },
   "outputs": [],
   "source": [
    "json_to_media_csv(datfilename)"
   ]
  },
  {
   "cell_type": "markdown",
   "metadata": {},
   "source": [
    "# JSON to table of subjects"
   ]
  },
  {
   "cell_type": "code",
   "execution_count": 5,
   "metadata": {
    "collapsed": true
   },
   "outputs": [],
   "source": [
    "def json_to_subject_csv(filename,outfilename='subjects.csv'):\n",
    "    \"\"\"Reads in scraped json file and writes CSV table of subjects in cases\n",
    "    \"\"\"\n",
    "\n",
    "    # Read file\n",
    "    with open(filename) as datafile:\n",
    "        data = json.load(datafile)\n",
    "\n",
    "    # Create list of lists of data we want in csv\n",
    "    rowlist = [['COMPLAINT_NUMBER', 'INCIDENT_TYPE', 'INCIDENT_DATETIME', 'SUBJECT_NAME']]\n",
    "    for recordno in sorted(data['records'].keys()):\n",
    "        entry = data['records'][recordno]\n",
    "        for person in entry['subjects']:\n",
    "                rowlist.append([\n",
    "                    recordno, entry['incident_type'],entry['incident_date_time'],person\n",
    "                    ])\n",
    "\n",
    "    # Use pandas to write csv file\n",
    "    df = pd.DataFrame(rowlist[1:],columns=rowlist[0])\n",
    "    df.to_csv(outfilename,index=False)"
   ]
  },
  {
   "cell_type": "code",
   "execution_count": 6,
   "metadata": {
    "collapsed": false
   },
   "outputs": [],
   "source": [
    "json_to_subject_csv(datfilename)"
   ]
  },
  {
   "cell_type": "markdown",
   "metadata": {
    "collapsed": true
   },
   "source": [
    "# JSON to incidents summary"
   ]
  },
  {
   "cell_type": "code",
   "execution_count": 9,
   "metadata": {
    "collapsed": true
   },
   "outputs": [],
   "source": [
    "def json_to_incidents_csv(filename,outfilename='incidents_summary.csv'):\n",
    "    \"\"\"Reads in scraped json file and writes CSV table of summarizing incidents.\n",
    "    \"\"\"\n",
    "\n",
    "    # Read file\n",
    "    with open(filename) as datafile:\n",
    "        data = json.load(datafile)\n",
    "\n",
    "    # Create list of lists of data we want in csv\n",
    "    rowlist = [['COMPLAINT_NUMBER', \n",
    "                'POST_DATETIME',\n",
    "                'INCIDENT_TYPE', \n",
    "                'INCIDENT_DATETIME', \n",
    "                'IPRA_NOTIF_DATE',\n",
    "                'SUBJECTS_COUNT',\n",
    "                'VIDEO_COUNT',\n",
    "                'AUDIO_COUNT',\n",
    "                'DOCUMENT_COUNT',\n",
    "                'NOTES'\n",
    "               ]]\n",
    "    for recordno in sorted(data['records'].keys()):\n",
    "        entry = data['records'][recordno]\n",
    "        rowlist.append([\n",
    "                recordno,\n",
    "                entry['post_date_time'],\n",
    "                entry['incident_type'],\n",
    "                entry['incident_date_time'],\n",
    "                entry['ipra_notification_date'],\n",
    "                len(entry['subjects']),\n",
    "                len(entry['video']),\n",
    "                len(entry['audio']),\n",
    "                len(entry['documents']),\n",
    "                entry['notes'] if len(entry['notes']) > 0 else None\n",
    "            ])\n",
    "\n",
    "    # Use pandas to write csv file\n",
    "    df = pd.DataFrame(rowlist[1:],columns=rowlist[0])\n",
    "    df.to_csv(outfilename,index=False)"
   ]
  },
  {
   "cell_type": "code",
   "execution_count": 10,
   "metadata": {
    "collapsed": true
   },
   "outputs": [],
   "source": [
    "json_to_incidents_csv(datfilename)"
   ]
  },
  {
   "cell_type": "code",
   "execution_count": null,
   "metadata": {
    "collapsed": true
   },
   "outputs": [],
   "source": []
  }
 ],
 "metadata": {
  "kernelspec": {
   "display_name": "Python 3",
   "language": "python",
   "name": "python3"
  },
  "language_info": {
   "codemirror_mode": {
    "name": "ipython",
    "version": 3
   },
   "file_extension": ".py",
   "mimetype": "text/x-python",
   "name": "python",
   "nbconvert_exporter": "python",
   "pygments_lexer": "ipython3",
   "version": "3.5.1"
  }
 },
 "nbformat": 4,
 "nbformat_minor": 0
}
