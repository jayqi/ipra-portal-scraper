{
 "cells": [
  {
   "cell_type": "code",
   "execution_count": 1,
   "metadata": {
    "collapsed": true
   },
   "outputs": [],
   "source": [
    "import requests\n",
    "import re\n",
    "from bs4 import BeautifulSoup\n",
    "import datetime as dt"
   ]
  },
  {
   "cell_type": "code",
   "execution_count": 2,
   "metadata": {
    "collapsed": false,
    "scrolled": true
   },
   "outputs": [
    {
     "name": "stdout",
     "output_type": "stream",
     "text": [
      "Status Code:  200\n"
     ]
    }
   ],
   "source": [
    "url = \"http://portal.iprachicago.org/wp-content/themes/ipra/DynamicSearch.php\"\n",
    "headers = {\n",
    "    'user-agent' : \"Mozilla/5.0 (Macintosh; Intel Mac OS X 10_11_3) AppleWebKit/537.36 (KHTML, like Gecko) Chrome/51.0.2704.103 Safari/537.36\"\n",
    "}\n",
    "\n",
    "r = requests.get(url, headers=headers)\n",
    "print(\"Status Code: \", r.status_code)"
   ]
  },
  {
   "cell_type": "code",
   "execution_count": 3,
   "metadata": {
    "collapsed": false
   },
   "outputs": [
    {
     "data": {
      "text/plain": [
       "'{\"caseSearch\":{\"items\":\"\\\\u003Cdiv class=\\\\u0022dynamic-search-loading-container\\\\u0022\\\\u003E\\\\n\\\\t\\\\t\\\\u00'"
      ]
     },
     "execution_count": 3,
     "metadata": {},
     "output_type": "execute_result"
    }
   ],
   "source": [
    "r.text[0:100]"
   ]
  },
  {
   "cell_type": "code",
   "execution_count": 4,
   "metadata": {
    "collapsed": false
   },
   "outputs": [
    {
     "data": {
      "text/plain": [
       "{'Vary': 'Accept-Encoding,Cookie', 'Server': 'nginx', 'Date': 'Thu, 21 Jul 2016 20:39:16 GMT', 'X-Cache-Group': 'normal', 'Content-Type': 'application/json', 'Accept-Ranges': 'bytes', 'X-Type': 'default', 'X-Cacheable': 'SHORT', 'Connection': 'keep-alive', 'X-Cache': 'MISS', 'Keep-Alive': 'timeout=20', 'X-Pass-Why': '', 'Cache-Control': 'max-age=600, must-revalidate', 'Content-Length': '72944'}"
      ]
     },
     "execution_count": 4,
     "metadata": {},
     "output_type": "execute_result"
    }
   ],
   "source": [
    "r.headers"
   ]
  },
  {
   "cell_type": "code",
   "execution_count": 5,
   "metadata": {
    "collapsed": false
   },
   "outputs": [],
   "source": [
    "content = r.json()['caseSearch']['items']"
   ]
  },
  {
   "cell_type": "code",
   "execution_count": 6,
   "metadata": {
    "collapsed": false
   },
   "outputs": [
    {
     "data": {
      "text/plain": [
       "'<div class=\"dynamic-search-loading-container\">\\n\\t\\t<div class=\"loading-animation\">\\n\\t\\t\\t<img src=\"http://portal.iprachicago.org/wp-content/themes/ipra/img/loadbar.gif\" alt=\"Loading\" />\\n\\t\\t</div>\\n\\t</div>\\n\\n\\t<table class=\"table table-striped\" id=\"ipra-case-search-data-table\">\\n\\t    <thead>\\n\\t        <tr>\\n\\t            <th>Log#</th>\\n\\t            <th>Incident Types</th>\\n\\t            <th>IPRA Notification Date</th>\\n\\t            <th>Incident Date & Time</th>\\n\\t        </tr>\\n\\t    </thead>\\n\\t    <tbody>\\n\\t\\t\\t        <tr>\\n\\t            <th>\\n\\t            \\t<a href=\"http://portal.iprachicago.org/1062377-2/\" rel=\"bookmark\">\\n\\t\\t\\t\\t\\t\\t1062377\\t\\t\\t\\t\\t</a>\\n\\t            </th>\\n\\t            <td>\\n\\t\\t\\t\\t\\tIncident in Police Custody\\t           \\t</td>\\n\\t            <td>\\n\\t            \\t\\t            \\t\\t05-21-2013\\t\\t\\t\\t\\t\\t            </td>\\n\\t            <td>\\n\\t            \\t\\t            \\t\\t05-13-2013 11:00 pm\\t\\t\\t\\t\\t\\t\\t\\t\\t</td>\\n\\t        </tr>\\n\\t\\t\\t        <tr>\\n\\t            <th>\\n\\t            \\t<a href=\"http://portal.iprachicago.org/1066371-2/\" rel=\"bookmark\">\\n\\t\\t\\t\\t\\t\\t1066371\\t\\t\\t\\t\\t</a>\\n\\t            </th>\\n\\t            <td>\\n\\t\\t\\t\\t\\tIncident in Police Custody\\t           \\t</td>\\n\\t            <td>\\n\\t            \\t\\t            \\t\\t12-02-2013\\t\\t\\t\\t\\t\\t            </td>\\n\\t            <td>\\n\\t            \\t\\t            \\t\\t07-25-2013 10:04 pm\\t\\t\\t\\t\\t\\t\\t\\t\\t</td>\\n\\t        </tr>\\n\\t\\t\\t        <tr>\\n\\t            <th>\\n\\t            \\t<a href=\"http://portal.iprachicago.org/1080615-2/\" rel=\"bookmark\">\\n\\t\\t\\t\\t\\t\\t1080615\\t\\t\\t\\t\\t</a>\\n\\t            </th>\\n\\t            <td>\\n\\t\\t\\t\\t\\tFirearm Discharge\\t           \\t</td>\\n\\t            <td>\\n\\t            \\t\\t            \\t\\t05-21-2016\\t\\t\\t\\t\\t\\t            </td>\\n\\t            <td>\\n\\t            \\t\\t            \\t\\t05-21-2016 10:19 pm\\t\\t\\t\\t\\t\\t\\t\\t\\t</td>\\n\\t        </tr>\\n\\t\\t\\t        <tr>\\n\\t            <th>\\n\\t            \\t<a href=\"http://portal.iprachicago.org/1045673-2/\" rel=\"bookmark\">\\n\\t\\t\\t\\t\\t\\t1045673\\t\\t\\t\\t\\t</a>\\n\\t            </th>\\n\\t            <td>\\n\\t\\t\\t\\t\\tFirearm Discharge\\t           \\t</td>\\n\\t            <td>\\n\\t            \\t\\t            \\t\\t05-25-2011\\t\\t\\t\\t\\t\\t            </td>\\n\\t            <td>\\n\\t            \\t\\t            \\t\\t05-25-2011 10:30 pm\\t\\t\\t\\t\\t\\t\\t\\t\\t</td>\\n\\t        </tr>\\n\\t\\t\\t        <tr>\\n\\t            <th>\\n\\t            \\t<a href=\"http://portal.iprachicago.org/1080505-2/\" rel=\"bookmark\">\\n\\t\\t\\t\\t\\t\\t1080505\\t\\t\\t\\t\\t</a>\\n\\t            </th>\\n\\t            <td>\\n\\t\\t\\t\\t\\tFirearm Discharge\\t           \\t</td>\\n\\t            <td>\\n\\t            \\t\\t            \\t\\t05-12-2016\\t\\t\\t\\t\\t\\t            </td>\\n\\t            <td>\\n\\t            \\t\\t            \\t\\t05-12-2016 12:00 pm\\t\\t\\t\\t\\t\\t\\t\\t\\t</td>\\n\\t        </tr>\\n\\t\\t\\t        <tr>\\n\\t            <th>\\n\\t            \\t<a href=\"http://portal.iprachicago.org/1080476-2/\" rel=\"bookmark\">\\n\\t\\t\\t\\t\\t\\t1080476\\t\\t\\t\\t\\t</a>\\n\\t            </th>\\n\\t            <td>\\n\\t\\t\\t\\t\\tFirearm Discharge\\t           \\t</td>\\n\\t            <td>\\n\\t            \\t\\t            \\t\\t05-11-2016\\t\\t\\t\\t\\t\\t            </td>\\n\\t            <td>\\n\\t            \\t\\t            \\t\\t05-10-2016 10:41 pm\\t\\t\\t\\t\\t\\t\\t\\t\\t</td>\\n\\t        </tr>\\n\\t\\t\\t        <tr>\\n\\t            <th>\\n\\t            \\t<a href=\"http://portal.iprachicago.org/1080449-2/\" rel=\"bookmark\">\\n\\t\\t\\t\\t\\t\\t1080449\\t\\t\\t\\t\\t</a>\\n\\t            </th>\\n\\t            <td>\\n\\t\\t\\t\\t\\tFirearm Discharge\\t           \\t</td>\\n\\t            <td>\\n\\t            \\t\\t            \\t\\t05-09-2016\\t\\t\\t\\t\\t\\t            </td>\\n\\t            <td>\\n\\t            \\t\\t            \\t\\t05-09-2016 11:00 pm\\t\\t\\t\\t\\t\\t\\t\\t\\t</td>\\n\\t        </tr>\\n\\t\\t\\t        <tr>\\n\\t            <th>\\n\\t            \\t<a href=\"http://portal.iprachicago.org/1078435-2/\" rel=\"bookmark\">\\n\\t\\t\\t\\t\\t\\t1078435\\t\\t\\t\\t\\t</a>\\n\\t            </th>\\n\\t            <td>\\n\\t\\t\\t\\t\\tTaser Discharge\\t           \\t</td>\\n\\t            <td>\\n\\t            \\t\\t            \\t\\t12-14-2015\\t\\t\\t\\t\\t\\t            </td>\\n\\t            <td>\\n\\t            \\t\\t            \\t\\t12-08-2015 1:09 pm\\t\\t\\t\\t\\t\\t\\t\\t\\t</td>\\n\\t        </tr>\\n\\t\\t\\t        <tr>\\n\\t            <th>\\n\\t            \\t<a href=\"http://portal.iprachicago.org/1080437-2/\" rel=\"bookmark\">\\n\\t\\t\\t\\t\\t\\t1080437\\t\\t\\t\\t\\t</a>\\n\\t            </th>\\n\\t            <td>\\n\\t\\t\\t\\t\\tIncident in Police Custody\\t           \\t</td>\\n\\t            <td>\\n\\t            \\t\\t            \\t\\t05-07-2016\\t\\t\\t\\t\\t\\t            </td>\\n\\t            <td>\\n\\t            \\t\\t            \\t\\t05-07-2016 3:03 pm\\t\\t\\t\\t\\t\\t\\t\\t\\t</td>\\n\\t        </tr>\\n\\t\\t\\t        <tr>\\n\\t            <th>\\n\\t            \\t<a href=\"http://portal.iprachicago.org/1080417-2/\" rel=\"bookmark\">\\n\\t\\t\\t\\t\\t\\t1080417\\t\\t\\t\\t\\t</a>\\n\\t            </th>\\n\\t            <td>\\n\\t\\t\\t\\t\\tFirearm Discharge\\t           \\t</td>\\n\\t            <td>\\n\\t            \\t\\t            \\t\\t05-06-2016\\t\\t\\t\\t\\t\\t            </td>\\n\\t            <td>\\n\\t            \\t\\t            \\t\\t05-06-2016 9:32 am\\t\\t\\t\\t\\t\\t\\t\\t\\t</td>\\n\\t        </tr>\\n\\t\\t\\t        <tr>\\n\\t            <th>\\n\\t            \\t<a href=\"http://portal.iprachicago.org/1080395-2/\" rel=\"bookmark\">\\n\\t\\t\\t\\t\\t\\t1080395\\t\\t\\t\\t\\t</a>\\n\\t            </th>\\n\\t            <td>\\n\\t\\t\\t\\t\\tTaser Discharge\\t           \\t</td>\\n\\t            <td>\\n\\t            \\t\\t            \\t\\t05-04-2016\\t\\t\\t\\t\\t\\t            </td>\\n\\t            <td>\\n\\t            \\t\\t            \\t\\t05-04-2016 1:06 pm\\t\\t\\t\\t\\t\\t\\t\\t\\t</td>\\n\\t        </tr>\\n\\t\\t\\t        <tr>\\n\\t            <th>\\n\\t            \\t<a href=\"http://portal.iprachicago.org/1074294-2/\" rel=\"bookmark\">\\n\\t\\t\\t\\t\\t\\t1074294\\t\\t\\t\\t\\t</a>\\n\\t            </th>\\n\\t            <td>\\n\\t\\t\\t\\t\\tIncident in Police Custody\\t           \\t</td>\\n\\t            <td>\\n\\t            \\t\\t            \\t\\t03-19-2015\\t\\t\\t\\t\\t\\t            </td>\\n\\t            <td>\\n\\t            \\t\\t            \\t\\t03-17-2015 10:38 pm\\t\\t\\t\\t\\t\\t\\t\\t\\t</td>\\n\\t        </tr>\\n\\t\\t\\t        <tr>\\n\\t            <th>\\n\\t            \\t<a href=\"http://portal.iprachicago.org/1074270-2/\" rel=\"bookmark\">\\n\\t\\t\\t\\t\\t\\t1074270\\t\\t\\t\\t\\t</a>\\n\\t            </th>\\n\\t            <td>\\n\\t\\t\\t\\t\\tIncident in Police Custody\\t           \\t</td>\\n\\t            <td>\\n\\t            \\t\\t            \\t\\t03-18-2015\\t\\t\\t\\t\\t\\t            </td>\\n\\t            <td>\\n\\t            \\t\\t            \\t\\t03-04-2015 4:45 pm\\t\\t\\t\\t\\t\\t\\t\\t\\t</td>\\n\\t        </tr>\\n\\t\\t\\t        <tr>\\n\\t            <th>\\n\\t            \\t<a href=\"http://portal.iprachicago.org/1080972-2/\" rel=\"bookmark\">\\n\\t\\t\\t\\t\\t\\t1080972\\t\\t\\t\\t\\t</a>\\n\\t            </th>\\n\\t            <td>\\n\\t\\t\\t\\t\\tIncident in Police Custody\\t           \\t</td>\\n\\t            <td>\\n\\t            \\t\\t            \\t\\t06-13-2016\\t\\t\\t\\t\\t\\t            </td>\\n\\t            <td>\\n\\t            \\t\\t            \\t\\t06-13-2016 3:30 pm\\t\\t\\t\\t\\t\\t\\t\\t\\t</td>\\n\\t        </tr>\\n\\t\\t\\t        <tr>\\n\\t            <th>\\n\\t            \\t<a href=\"http://portal.iprachicago.org/1080144-2/\" rel=\"bookmark\">\\n\\t\\t\\t\\t\\t\\t1080144\\t\\t\\t\\t\\t</a>\\n\\t            </th>\\n\\t            <td>\\n\\t\\t\\t\\t\\tFirearm Discharge\\t           \\t</td>\\n\\t            <td>\\n\\t            \\t\\t            \\t\\t04-15-2016\\t\\t\\t\\t\\t\\t            </td>\\n\\t            <td>\\n\\t            \\t\\t            \\t\\t04-15-2016 10:27 pm\\t\\t\\t\\t\\t\\t\\t\\t\\t</td>\\n\\t        </tr>\\n\\t\\t\\t        <tr>\\n\\t            <th>\\n\\t            \\t<a href=\"http://portal.iprachicago.org/1080064-2/\" rel=\"bookmark\">\\n\\t\\t\\t\\t\\t\\t1080064\\t\\t\\t\\t\\t</a>\\n\\t            </th>\\n\\t            <td>\\n\\t\\t\\t\\t\\tIncident in Police Custody\\t           \\t</td>\\n\\t            <td>\\n\\t            \\t\\t            \\t\\t04-11-2016\\t\\t\\t\\t\\t\\t            </td>\\n\\t            <td>\\n\\t            \\t\\t            \\t\\t04-11-2016 7:43 pm\\t\\t\\t\\t\\t\\t\\t\\t\\t</td>\\n\\t        </tr>\\n\\t\\t\\t        <tr>\\n\\t            <th>\\n\\t            \\t<a href=\"http://portal.iprachicago.org/1080018-2/\" rel=\"bookmark\">\\n\\t\\t\\t\\t\\t\\t1080018\\t\\t\\t\\t\\t</a>\\n\\t            </th>\\n\\t            <td>\\n\\t\\t\\t\\t\\tIncident in Police Custody\\t           \\t</td>\\n\\t            <td>\\n\\t            \\t\\t            \\t\\t04-08-2016\\t\\t\\t\\t\\t\\t            </td>\\n\\t            <td>\\n\\t            \\t\\t            \\t\\t04-07-2016 6:49 pm\\t\\t\\t\\t\\t\\t\\t\\t\\t</td>\\n\\t        </tr>\\n\\t\\t\\t        <tr>\\n\\t            <th>\\n\\t            \\t<a href=\"http://portal.iprachicago.org/1079080-2/\" rel=\"bookmark\">\\n\\t\\t\\t\\t\\t\\t1079080\\t\\t\\t\\t\\t</a>\\n\\t            </th>\\n\\t            <td>\\n\\t\\t\\t\\t\\tFirearm Discharge\\t           \\t</td>\\n\\t            <td>\\n\\t            \\t\\t            \\t\\t01-31-2016\\t\\t\\t\\t\\t\\t            </td>\\n\\t            <td>\\n\\t            \\t\\t            \\t\\t01-31-2016 4:25 am\\t\\t\\t\\t\\t\\t\\t\\t\\t</td>\\n\\t        </tr>\\n\\t\\t\\t        <tr>\\n\\t            <th>\\n\\t            \\t<a href=\"http://portal.iprachicago.org/1052816-2/\" rel=\"bookmark\">\\n\\t\\t\\t\\t\\t\\t1052816\\t\\t\\t\\t\\t</a>\\n\\t            </th>\\n\\t            <td>\\n\\t\\t\\t\\t\\tFirearm Discharge\\t           \\t</td>\\n\\t            <td>\\n\\t            \\t\\t            \\t\\t03-24-2012\\t\\t\\t\\t\\t\\t            </td>\\n\\t            <td>\\n\\t            \\t\\t            \\t\\t03-23-2012 11:05 pm\\t\\t\\t\\t\\t\\t\\t\\t\\t</td>\\n\\t        </tr>\\n\\t\\t\\t        <tr>\\n\\t            <th>\\n\\t            \\t<a href=\"http://portal.iprachicago.org/1052578-2/\" rel=\"bookmark\">\\n\\t\\t\\t\\t\\t\\t1052578\\t\\t\\t\\t\\t</a>\\n\\t            </th>\\n\\t            <td>\\n\\t\\t\\t\\t\\tFirearm Discharge\\t           \\t</td>\\n\\t            <td>\\n\\t            \\t\\t            \\t\\t03-14-2012\\t\\t\\t\\t\\t\\t            </td>\\n\\t            <td>\\n\\t            \\t\\t            \\t\\t03-14-2012 8:32 pm\\t\\t\\t\\t\\t\\t\\t\\t\\t</td>\\n\\t        </tr>\\n\\t\\t\\t        <tr>\\n\\t            <th>\\n\\t            \\t<a href=\"http://portal.iprachicago.org/1045950-2/\" rel=\"bookmark\">\\n\\t\\t\\t\\t\\t\\t1045950\\t\\t\\t\\t\\t</a>\\n\\t            </th>\\n\\t            <td>\\n\\t\\t\\t\\t\\tFirearm Discharge\\t           \\t</td>\\n\\t            <td>\\n\\t            \\t\\t            \\t\\t06-07-2011\\t\\t\\t\\t\\t\\t            </td>\\n\\t            <td>\\n\\t            \\t\\t            \\t\\t06-07-2011 1:48 am\\t\\t\\t\\t\\t\\t\\t\\t\\t</td>\\n\\t        </tr>\\n\\t\\t\\t        <tr>\\n\\t            <th>\\n\\t            \\t<a href=\"http://portal.iprachicago.org/1076204-2/\" rel=\"bookmark\">\\n\\t\\t\\t\\t\\t\\t1076204\\t\\t\\t\\t\\t</a>\\n\\t            </th>\\n\\t            <td>\\n\\t\\t\\t\\t\\tFirearm Discharge\\t           \\t</td>\\n\\t            <td>\\n\\t            \\t\\t            \\t\\t07-19-2015\\t\\t\\t\\t\\t\\t            </td>\\n\\t            <td>\\n\\t            \\t\\t            \\t\\t07-19-2015 3:56 am\\t\\t\\t\\t\\t\\t\\t\\t\\t</td>\\n\\t        </tr>\\n\\t\\t\\t        <tr>\\n\\t            <th>\\n\\t            \\t<a href=\"http://portal.iprachicago.org/1076081-2/\" rel=\"bookmark\">\\n\\t\\t\\t\\t\\t\\t1076081\\t\\t\\t\\t\\t</a>\\n\\t            </th>\\n\\t            <td>\\n\\t\\t\\t\\t\\tFirearm Discharge\\t           \\t</td>\\n\\t            <td>\\n\\t            \\t\\t            \\t\\t07-10-2015\\t\\t\\t\\t\\t\\t            </td>\\n\\t            <td>\\n\\t            \\t\\t            \\t\\t07-10-2015 4:03 pm\\t\\t\\t\\t\\t\\t\\t\\t\\t</td>\\n\\t        </tr>\\n\\t\\t\\t        <tr>\\n\\t            <th>\\n\\t            \\t<a href=\"http://portal.iprachicago.org/1076072-2/\" rel=\"bookmark\">\\n\\t\\t\\t\\t\\t\\t1076072\\t\\t\\t\\t\\t</a>\\n\\t            </th>\\n\\t            <td>\\n\\t\\t\\t\\t\\tFirearm Discharge\\t           \\t</td>\\n\\t            <td>\\n\\t            \\t\\t            \\t\\t07-10-2015\\t\\t\\t\\t\\t\\t            </td>\\n\\t            <td>\\n\\t            \\t\\t            \\t\\t07-09-2015 11:34 pm\\t\\t\\t\\t\\t\\t\\t\\t\\t</td>\\n\\t        </tr>\\n\\t\\t\\t        <tr>\\n\\t            <th>\\n\\t            \\t<a href=\"http://portal.iprachicago.org/1050919-2/\" rel=\"bookmark\">\\n\\t\\t\\t\\t\\t\\t1050919\\t\\t\\t\\t\\t</a>\\n\\t            </th>\\n\\t            <td>\\n\\t\\t\\t\\t\\tFirearm Discharge\\t           \\t</td>\\n\\t            <td>\\n\\t            \\t\\t            \\t\\t12-28-2011\\t\\t\\t\\t\\t\\t            </td>\\n\\t            <td>\\n\\t            \\t\\t            \\t\\t12-28-2011 1:42 am\\t\\t\\t\\t\\t\\t\\t\\t\\t</td>\\n\\t        </tr>\\n\\t\\t\\t        <tr>\\n\\t            <th>\\n\\t            \\t<a href=\"http://portal.iprachicago.org/1075770-2/\" rel=\"bookmark\">\\n\\t\\t\\t\\t\\t\\t1075770\\t\\t\\t\\t\\t</a>\\n\\t            </th>\\n\\t            <td>\\n\\t\\t\\t\\t\\tFirearm Discharge\\t           \\t</td>\\n\\t            <td>\\n\\t            \\t\\t            \\t\\t06-20-2015\\t\\t\\t\\t\\t\\t            </td>\\n\\t            <td>\\n\\t            \\t\\t            \\t\\t06-20-2015 12:10 am\\t\\t\\t\\t\\t\\t\\t\\t\\t</td>\\n\\t        </tr>\\n\\t\\t\\t        <tr>\\n\\t            <th>\\n\\t            \\t<a href=\"http://portal.iprachicago.org/1042532-2/\" rel=\"bookmark\">\\n\\t\\t\\t\\t\\t\\t1042532\\t\\t\\t\\t\\t</a>\\n\\t            </th>\\n\\t            <td>\\n\\t\\t\\t\\t\\tFirearm Discharge\\t           \\t</td>\\n\\t            <td>\\n\\t            \\t\\t            \\t\\t01-07-2011\\t\\t\\t\\t\\t\\t            </td>\\n\\t            <td>\\n\\t            \\t\\t            \\t\\t01-07-2011 1:33 am\\t\\t\\t\\t\\t\\t\\t\\t\\t</td>\\n\\t        </tr>\\n\\t\\t\\t        <tr>\\n\\t            <th>\\n\\t            \\t<a href=\"http://portal.iprachicago.org/1071524-2/\" rel=\"bookmark\">\\n\\t\\t\\t\\t\\t\\t1071524\\t\\t\\t\\t\\t</a>\\n\\t            </th>\\n\\t            <td>\\n\\t\\t\\t\\t\\tFirearm Discharge\\t           \\t</td>\\n\\t            <td>\\n\\t            \\t\\t            \\t\\t09-13-2014\\t\\t\\t\\t\\t\\t            </td>\\n\\t            <td>\\n\\t            \\t\\t            \\t\\t09-13-2014 10:12 pm\\t\\t\\t\\t\\t\\t\\t\\t\\t</td>\\n\\t        </tr>\\n\\t\\t\\t        <tr>\\n\\t            <th>\\n\\t            \\t<a href=\"http://portal.iprachicago.org/1042469-2/\" rel=\"bookmark\">\\n\\t\\t\\t\\t\\t\\t1042469\\t\\t\\t\\t\\t</a>\\n\\t            </th>\\n\\t            <td>\\n\\t\\t\\t\\t\\tFirearm Discharge\\t           \\t</td>\\n\\t            <td>\\n\\t            \\t\\t            \\t\\t01-04-2011\\t\\t\\t\\t\\t\\t            </td>\\n\\t            <td>\\n\\t            \\t\\t            \\t\\t01-04-2011 9:35 pm\\t\\t\\t\\t\\t\\t\\t\\t\\t</td>\\n\\t        </tr>\\n\\t\\t\\t        <tr>\\n\\t            <th>\\n\\t            \\t<a href=\"http://portal.iprachicago.org/1078178-2/\" rel=\"bookmark\">\\n\\t\\t\\t\\t\\t\\t1078178\\t\\t\\t\\t\\t</a>\\n\\t            </th>\\n\\t            <td>\\n\\t\\t\\t\\t\\tIncident in Police Custody\\t           \\t</td>\\n\\t            <td>\\n\\t            \\t\\t            \\t\\t11-24-2015\\t\\t\\t\\t\\t\\t            </td>\\n\\t            <td>\\n\\t            \\t\\t            \\t\\t11-21-2015 10:05 pm\\t\\t\\t\\t\\t\\t\\t\\t\\t</td>\\n\\t        </tr>\\n\\t\\t\\t        <tr>\\n\\t            <th>\\n\\t            \\t<a href=\"http://portal.iprachicago.org/1072342-2/\" rel=\"bookmark\">\\n\\t\\t\\t\\t\\t\\t1072342\\t\\t\\t\\t\\t</a>\\n\\t            </th>\\n\\t            <td>\\n\\t\\t\\t\\t\\tFirearm Discharge\\t           \\t</td>\\n\\t            <td>\\n\\t            \\t\\t            \\t\\t11-01-2014\\t\\t\\t\\t\\t\\t            </td>\\n\\t            <td>\\n\\t            \\t\\t            \\t\\t11-01-2014 8:22 pm\\t\\t\\t\\t\\t\\t\\t\\t\\t</td>\\n\\t        </tr>\\n\\t\\t\\t        <tr>\\n\\t            <th>\\n\\t            \\t<a href=\"http://portal.iprachicago.org/1070445-2/\" rel=\"bookmark\">\\n\\t\\t\\t\\t\\t\\t1070445\\t\\t\\t\\t\\t</a>\\n\\t            </th>\\n\\t            <td>\\n\\t\\t\\t\\t\\tFirearm Discharge\\t           \\t</td>\\n\\t            <td>\\n\\t            \\t\\t            \\t\\t07-19-2014\\t\\t\\t\\t\\t\\t            </td>\\n\\t            <td>\\n\\t            \\t\\t            \\t\\t07-19-2014 6:10 am\\t\\t\\t\\t\\t\\t\\t\\t\\t</td>\\n\\t        </tr>\\n\\t\\t\\t        <tr>\\n\\t            <th>\\n\\t            \\t<a href=\"http://portal.iprachicago.org/1077051-2/\" rel=\"bookmark\">\\n\\t\\t\\t\\t\\t\\t1077051\\t\\t\\t\\t\\t</a>\\n\\t            </th>\\n\\t            <td>\\n\\t\\t\\t\\t\\tIncident in Police Custody\\t           \\t</td>\\n\\t            <td>\\n\\t            \\t\\t            \\t\\t09-08-2015\\t\\t\\t\\t\\t\\t            </td>\\n\\t            <td>\\n\\t            \\t\\t            \\t\\t09-04-2015 4:20 pm\\t\\t\\t\\t\\t\\t\\t\\t\\t</td>\\n\\t        </tr>\\n\\t\\t\\t        <tr>\\n\\t            <th>\\n\\t            \\t<a href=\"http://portal.iprachicago.org/1076980-2/\" rel=\"bookmark\">\\n\\t\\t\\t\\t\\t\\t1076980\\t\\t\\t\\t\\t</a>\\n\\t            </th>\\n\\t            <td>\\n\\t\\t\\t\\t\\tIncident in Police Custody\\t           \\t</td>\\n\\t            <td>\\n\\t            \\t\\t            \\t\\t09-02-2015\\t\\t\\t\\t\\t\\t            </td>\\n\\t            <td>\\n\\t            \\t\\t            \\t\\t09-02-2015 7:51 pm\\t\\t\\t\\t\\t\\t\\t\\t\\t</td>\\n\\t        </tr>\\n\\t\\t\\t        <tr>\\n\\t            <th>\\n\\t            \\t<a href=\"http://portal.iprachicago.org/1079728-2/\" rel=\"bookmark\">\\n\\t\\t\\t\\t\\t\\t1079728\\t\\t\\t\\t\\t</a>\\n\\t            </th>\\n\\t            <td>\\n\\t\\t\\t\\t\\tFirearm Discharge\\t           \\t</td>\\n\\t            <td>\\n\\t            \\t\\t            \\t\\t03-19-2016\\t\\t\\t\\t\\t\\t            </td>\\n\\t            <td>\\n\\t            \\t\\t            \\t\\t03-19-2016 9:30 pm\\t\\t\\t\\t\\t\\t\\t\\t\\t</td>\\n\\t        </tr>\\n\\t\\t\\t        <tr>\\n\\t            <th>\\n\\t            \\t<a href=\"http://portal.iprachicago.org/1074934-2/\" rel=\"bookmark\">\\n\\t\\t\\t\\t\\t\\t1074934\\t\\t\\t\\t\\t</a>\\n\\t            </th>\\n\\t            <td>\\n\\t\\t\\t\\t\\tFirearm Discharge\\t           \\t</td>\\n\\t            <td>\\n\\t            \\t\\t            \\t\\t05-01-2015\\t\\t\\t\\t\\t\\t            </td>\\n\\t            <td>\\n\\t            \\t\\t            \\t\\t05-01-2015 3:25 am\\t\\t\\t\\t\\t\\t\\t\\t\\t</td>\\n\\t        </tr>\\n\\t\\t\\t        <tr>\\n\\t            <th>\\n\\t            \\t<a href=\"http://portal.iprachicago.org/1070168-2/\" rel=\"bookmark\">\\n\\t\\t\\t\\t\\t\\t1070168\\t\\t\\t\\t\\t</a>\\n\\t            </th>\\n\\t            <td>\\n\\t\\t\\t\\t\\tFirearm Discharge\\t           \\t</td>\\n\\t            <td>\\n\\t            \\t\\t            \\t\\t07-05-2014\\t\\t\\t\\t\\t\\t            </td>\\n\\t            <td>\\n\\t            \\t\\t            \\t\\t07-05-2014 6:40 pm\\t\\t\\t\\t\\t\\t\\t\\t\\t</td>\\n\\t        </tr>\\n\\t\\t\\t        <tr>\\n\\t            <th>\\n\\t            \\t<a href=\"http://portal.iprachicago.org/1074736-2/\" rel=\"bookmark\">\\n\\t\\t\\t\\t\\t\\t1074736\\t\\t\\t\\t\\t</a>\\n\\t            </th>\\n\\t            <td>\\n\\t\\t\\t\\t\\tFirearm Discharge\\t           \\t</td>\\n\\t            <td>\\n\\t            \\t\\t            \\t\\t04-17-2015\\t\\t\\t\\t\\t\\t            </td>\\n\\t            <td>\\n\\t            \\t\\t            \\t\\t04-17-2015 10:53 pm\\t\\t\\t\\t\\t\\t\\t\\t\\t</td>\\n\\t        </tr>\\n\\t\\t\\t        <tr>\\n\\t            <th>\\n\\t            \\t<a href=\"http://portal.iprachicago.org/1070148-2/\" rel=\"bookmark\">\\n\\t\\t\\t\\t\\t\\t1070148\\t\\t\\t\\t\\t</a>\\n\\t            </th>\\n\\t            <td>\\n\\t\\t\\t\\t\\tFirearm Discharge\\t           \\t</td>\\n\\t            <td>\\n\\t            \\t\\t            \\t\\t07-04-2014\\t\\t\\t\\t\\t\\t            </td>\\n\\t            <td>\\n\\t            \\t\\t            \\t\\t07-04-2014 9:53 pm\\t\\t\\t\\t\\t\\t\\t\\t\\t</td>\\n\\t        </tr>\\n\\t\\t\\t        <tr>\\n\\t            <th>\\n\\t            \\t<a href=\"http://portal.iprachicago.org/1074534-2/\" rel=\"bookmark\">\\n\\t\\t\\t\\t\\t\\t1074534\\t\\t\\t\\t\\t</a>\\n\\t            </th>\\n\\t            <td>\\n\\t\\t\\t\\t\\tFirearm Discharge\\t           \\t</td>\\n\\t            <td>\\n\\t            \\t\\t            \\t\\t04-04-2015\\t\\t\\t\\t\\t\\t            </td>\\n\\t            <td>\\n\\t            \\t\\t            \\t\\t04-04-2015 4:19 pm\\t\\t\\t\\t\\t\\t\\t\\t\\t</td>\\n\\t        </tr>\\n\\t\\t\\t        <tr>\\n\\t            <th>\\n\\t            \\t<a href=\"http://portal.iprachicago.org/1069981-2/\" rel=\"bookmark\">\\n\\t\\t\\t\\t\\t\\t1069981\\t\\t\\t\\t\\t</a>\\n\\t            </th>\\n\\t            <td>\\n\\t\\t\\t\\t\\tFirearm Discharge\\t           \\t</td>\\n\\t            <td>\\n\\t            \\t\\t            \\t\\t06-24-2014\\t\\t\\t\\t\\t\\t            </td>\\n\\t            <td>\\n\\t            \\t\\t            \\t\\t06-24-2014 6:23 pm\\t\\t\\t\\t\\t\\t\\t\\t\\t</td>\\n\\t        </tr>\\n\\t\\t\\t        <tr>\\n\\t            <th>\\n\\t            \\t<a href=\"http://portal.iprachicago.org/1069721-2/\" rel=\"bookmark\">\\n\\t\\t\\t\\t\\t\\t1069721\\t\\t\\t\\t\\t</a>\\n\\t            </th>\\n\\t            <td>\\n\\t\\t\\t\\t\\tFirearm Discharge\\t           \\t</td>\\n\\t            <td>\\n\\t            \\t\\t            \\t\\t06-11-2014\\t\\t\\t\\t\\t\\t            </td>\\n\\t            <td>\\n\\t            \\t\\t            \\t\\t06-10-2014 11:46 pm\\t\\t\\t\\t\\t\\t\\t\\t\\t</td>\\n\\t        </tr>\\n\\t\\t\\t        <tr>\\n\\t            <th>\\n\\t            \\t<a href=\"http://portal.iprachicago.org/1073787-2/\" rel=\"bookmark\">\\n\\t\\t\\t\\t\\t\\t1073787\\t\\t\\t\\t\\t</a>\\n\\t            </th>\\n\\t            <td>\\n\\t\\t\\t\\t\\tFirearm Discharge\\t           \\t</td>\\n\\t            <td>\\n\\t            \\t\\t            \\t\\t02-14-2015\\t\\t\\t\\t\\t\\t            </td>\\n\\t            <td>\\n\\t            \\t\\t            \\t\\t02-14-2015 12:29 am\\t\\t\\t\\t\\t\\t\\t\\t\\t</td>\\n\\t        </tr>\\n\\t\\t\\t        <tr>\\n\\t            <th>\\n\\t            \\t<a href=\"http://portal.iprachicago.org/1073710-2/\" rel=\"bookmark\">\\n\\t\\t\\t\\t\\t\\t1073710\\t\\t\\t\\t\\t</a>\\n\\t            </th>\\n\\t            <td>\\n\\t\\t\\t\\t\\tFirearm Discharge\\t           \\t</td>\\n\\t            <td>\\n\\t            \\t\\t            \\t\\t02-09-2015\\t\\t\\t\\t\\t\\t            </td>\\n\\t            <td>\\n\\t            \\t\\t            \\t\\t02-09-2015 3:30 am\\t\\t\\t\\t\\t\\t\\t\\t\\t</td>\\n\\t        </tr>\\n\\t\\t\\t        <tr>\\n\\t            <th>\\n\\t            \\t<a href=\"http://portal.iprachicago.org/1069058-2/\" rel=\"bookmark\">\\n\\t\\t\\t\\t\\t\\t1069058\\t\\t\\t\\t\\t</a>\\n\\t            </th>\\n\\t            <td>\\n\\t\\t\\t\\t\\tIncident in Police Custody\\t           \\t</td>\\n\\t            <td>\\n\\t            \\t\\t            \\t\\t05-09-2014\\t\\t\\t\\t\\t\\t            </td>\\n\\t            <td>\\n\\t            \\t\\t            \\t\\t05-07-2014 12:17 am\\t\\t\\t\\t\\t\\t\\t\\t\\t</td>\\n\\t        </tr>\\n\\t\\t\\t        <tr>\\n\\t            <th>\\n\\t            \\t<a href=\"http://portal.iprachicago.org/1073693-2/\" rel=\"bookmark\">\\n\\t\\t\\t\\t\\t\\t1073693\\t\\t\\t\\t\\t</a>\\n\\t            </th>\\n\\t            <td>\\n\\t\\t\\t\\t\\tFirearm Discharge\\t           \\t</td>\\n\\t            <td>\\n\\t            \\t\\t            \\t\\t02-07-2015\\t\\t\\t\\t\\t\\t            </td>\\n\\t            <td>\\n\\t            \\t\\t            \\t\\t02-07-2015 2:46 pm\\t\\t\\t\\t\\t\\t\\t\\t\\t</td>\\n\\t        </tr>\\n\\t\\t\\t        <tr>\\n\\t            <th>\\n\\t            \\t<a href=\"http://portal.iprachicago.org/1073105-2/\" rel=\"bookmark\">\\n\\t\\t\\t\\t\\t\\t1073105\\t\\t\\t\\t\\t</a>\\n\\t            </th>\\n\\t            <td>\\n\\t\\t\\t\\t\\tFirearm Discharge\\t           \\t</td>\\n\\t            <td>\\n\\t            \\t\\t            \\t\\t12-25-2014\\t\\t\\t\\t\\t\\t            </td>\\n\\t            <td>\\n\\t            \\t\\t            \\t\\t12-25-2014 6:41 pm\\t\\t\\t\\t\\t\\t\\t\\t\\t</td>\\n\\t        </tr>\\n\\t\\t\\t        <tr>\\n\\t            <th>\\n\\t            \\t<a href=\"http://portal.iprachicago.org/1079743-2/\" rel=\"bookmark\">\\n\\t\\t\\t\\t\\t\\t1079743\\t\\t\\t\\t\\t</a>\\n\\t            </th>\\n\\t            <td>\\n\\t\\t\\t\\t\\tIncident in Police Custody\\t           \\t</td>\\n\\t            <td>\\n\\t            \\t\\t            \\t\\t03-21-2016\\t\\t\\t\\t\\t\\t            </td>\\n\\t            <td>\\n\\t            \\t\\t            \\t\\t03-21-2016 2:30 am\\t\\t\\t\\t\\t\\t\\t\\t\\t</td>\\n\\t        </tr>\\n\\t\\t\\t        <tr>\\n\\t            <th>\\n\\t            \\t<a href=\"http://portal.iprachicago.org/1076844-2/\" rel=\"bookmark\">\\n\\t\\t\\t\\t\\t\\t1076844\\t\\t\\t\\t\\t</a>\\n\\t            </th>\\n\\t            <td>\\n\\t\\t\\t\\t\\tIncident in Police Custody\\t           \\t</td>\\n\\t            <td>\\n\\t            \\t\\t            \\t\\t08-24-2015\\t\\t\\t\\t\\t\\t            </td>\\n\\t            <td>\\n\\t            \\t\\t            \\t\\t08-22-2015 11:45 am\\t\\t\\t\\t\\t\\t\\t\\t\\t</td>\\n\\t        </tr>\\n\\t\\t\\t        <tr>\\n\\t            <th>\\n\\t            \\t<a href=\"http://portal.iprachicago.org/1069651-2/\" rel=\"bookmark\">\\n\\t\\t\\t\\t\\t\\t1069651\\t\\t\\t\\t\\t</a>\\n\\t            </th>\\n\\t            <td>\\n\\t\\t\\t\\t\\tFirearm Discharge\\t           \\t</td>\\n\\t            <td>\\n\\t            \\t\\t            \\t\\t06-07-2014\\t\\t\\t\\t\\t\\t            </td>\\n\\t            <td>\\n\\t            \\t\\t            \\t\\t06-06-2014 11:28 pm\\t\\t\\t\\t\\t\\t\\t\\t\\t</td>\\n\\t        </tr>\\n\\t\\t\\t        <tr>\\n\\t            <th>\\n\\t            \\t<a href=\"http://portal.iprachicago.org/1078530-2/\" rel=\"bookmark\">\\n\\t\\t\\t\\t\\t\\t1078530\\t\\t\\t\\t\\t</a>\\n\\t            </th>\\n\\t            <td>\\n\\t\\t\\t\\t\\tFirearm Discharge\\t           \\t</td>\\n\\t            <td>\\n\\t            \\t\\t            \\t\\t12-20-2015\\t\\t\\t\\t\\t\\t            </td>\\n\\t            <td>\\n\\t            \\t\\t            \\t\\t12-20-2015 10:37 am\\t\\t\\t\\t\\t\\t\\t\\t\\t</td>\\n\\t        </tr>\\n\\t\\t\\t        <tr>\\n\\t            <th>\\n\\t            \\t<a href=\"http://portal.iprachicago.org/1076808-2/\" rel=\"bookmark\">\\n\\t\\t\\t\\t\\t\\t1076808\\t\\t\\t\\t\\t</a>\\n\\t            </th>\\n\\t            <td>\\n\\t\\t\\t\\t\\tIncident in Police Custody\\t           \\t</td>\\n\\t            <td>\\n\\t            \\t\\t            \\t\\t08-21-2015\\t\\t\\t\\t\\t\\t            </td>\\n\\t            <td>\\n\\t            \\t\\t            \\t\\t03-19-2015 5:09 am\\t\\t\\t\\t\\t\\t\\t\\t\\t</td>\\n\\t        </tr>\\n\\t\\t\\t        <tr>\\n\\t            <th>\\n\\t            \\t<a href=\"http://portal.iprachicago.org/1078616-2/\" rel=\"bookmark\">\\n\\t\\t\\t\\t\\t\\t1078616\\t\\t\\t\\t\\t</a>\\n\\t            </th>\\n\\t            <td>\\n\\t\\t\\t\\t\\tFirearm Discharge\\t           \\t</td>\\n\\t            <td>\\n\\t            \\t\\t            \\t\\t12-26-2015\\t\\t\\t\\t\\t\\t            </td>\\n\\t            <td>\\n\\t            \\t\\t            \\t\\t12-26-2015 4:25 am\\t\\t\\t\\t\\t\\t\\t\\t\\t</td>\\n\\t        </tr>\\n\\t\\t\\t        <tr>\\n\\t            <th>\\n\\t            \\t<a href=\"http://portal.iprachicago.org/1068271-2/\" rel=\"bookmark\">\\n\\t\\t\\t\\t\\t\\t1068271\\t\\t\\t\\t\\t</a>\\n\\t            </th>\\n\\t            <td>\\n\\t\\t\\t\\t\\tFirearm Discharge\\t           \\t</td>\\n\\t            <td>\\n\\t            \\t\\t            \\t\\t03-29-2014\\t\\t\\t\\t\\t\\t            </td>\\n\\t            <td>\\n\\t            \\t\\t            \\t\\t03-29-2014 8:49 pm\\t\\t\\t\\t\\t\\t\\t\\t\\t</td>\\n\\t        </tr>\\n\\t\\t\\t        <tr>\\n\\t            <th>\\n\\t            \\t<a href=\"http://portal.iprachicago.org/1078413-2/\" rel=\"bookmark\">\\n\\t\\t\\t\\t\\t\\t1078413\\t\\t\\t\\t\\t</a>\\n\\t            </th>\\n\\t            <td>\\n\\t\\t\\t\\t\\tFirearm Discharge\\t           \\t</td>\\n\\t            <td>\\n\\t            \\t\\t            \\t\\t12-12-2015\\t\\t\\t\\t\\t\\t            </td>\\n\\t            <td>\\n\\t            \\t\\t            \\t\\t12-12-2015 6:09 am\\t\\t\\t\\t\\t\\t\\t\\t\\t</td>\\n\\t        </tr>\\n\\t\\t\\t        <tr>\\n\\t            <th>\\n\\t            \\t<a href=\"http://portal.iprachicago.org/1068101-2/\" rel=\"bookmark\">\\n\\t\\t\\t\\t\\t\\t1068101\\t\\t\\t\\t\\t</a>\\n\\t            </th>\\n\\t            <td>\\n\\t\\t\\t\\t\\tFirearm Discharge\\t           \\t</td>\\n\\t            <td>\\n\\t            \\t\\t            \\t\\t03-20-2014\\t\\t\\t\\t\\t\\t            </td>\\n\\t            <td>\\n\\t            \\t\\t            \\t\\t03-20-2014 6:42 pm\\t\\t\\t\\t\\t\\t\\t\\t\\t</td>\\n\\t        </tr>\\n\\t\\t\\t        <tr>\\n\\t            <th>\\n\\t            \\t<a href=\"http://portal.iprachicago.org/1066296-2/\" rel=\"bookmark\">\\n\\t\\t\\t\\t\\t\\t1066296\\t\\t\\t\\t\\t</a>\\n\\t            </th>\\n\\t            <td>\\n\\t\\t\\t\\t\\tIncident in Police Custody\\t           \\t</td>\\n\\t            <td>\\n\\t            \\t\\t            \\t\\t11-26-2013\\t\\t\\t\\t\\t\\t            </td>\\n\\t            <td>\\n\\t            \\t\\t            \\t\\t11-25-2013 7:55 pm\\t\\t\\t\\t\\t\\t\\t\\t\\t</td>\\n\\t        </tr>\\n\\t\\t\\t        <tr>\\n\\t            <th>\\n\\t            \\t<a href=\"http://portal.iprachicago.org/1077848-2/\" rel=\"bookmark\">\\n\\t\\t\\t\\t\\t\\t1077848\\t\\t\\t\\t\\t</a>\\n\\t            </th>\\n\\t            <td>\\n\\t\\t\\t\\t\\tFirearm Discharge\\t           \\t</td>\\n\\t            <td>\\n\\t            \\t\\t            \\t\\t10-31-2015\\t\\t\\t\\t\\t\\t            </td>\\n\\t            <td>\\n\\t            \\t\\t            \\t\\t10-31-2015 1:26 am\\t\\t\\t\\t\\t\\t\\t\\t\\t</td>\\n\\t        </tr>\\n\\t\\t\\t        <tr>\\n\\t            <th>\\n\\t            \\t<a href=\"http://portal.iprachicago.org/1076618-2/\" rel=\"bookmark\">\\n\\t\\t\\t\\t\\t\\t1076618\\t\\t\\t\\t\\t</a>\\n\\t            </th>\\n\\t            <td>\\n\\t\\t\\t\\t\\tIncident in Police Custody\\t           \\t</td>\\n\\t            <td>\\n\\t            \\t\\t            \\t\\t08-10-2015\\t\\t\\t\\t\\t\\t            </td>\\n\\t            <td>\\n\\t            \\t\\t            \\t\\t03-23-2014 10:11 pm\\t\\t\\t\\t\\t\\t\\t\\t\\t</td>\\n\\t        </tr>\\n\\t\\t\\t        <tr>\\n\\t            <th>\\n\\t            \\t<a href=\"http://portal.iprachicago.org/1068046-2/\" rel=\"bookmark\">\\n\\t\\t\\t\\t\\t\\t1068046\\t\\t\\t\\t\\t</a>\\n\\t            </th>\\n\\t            <td>\\n\\t\\t\\t\\t\\tFirearm Discharge\\t           \\t</td>\\n\\t            <td>\\n\\t            \\t\\t            \\t\\t03-17-2014\\t\\t\\t\\t\\t\\t            </td>\\n\\t            <td>\\n\\t            \\t\\t            \\t\\t03-17-2014 9:51 pm\\t\\t\\t\\t\\t\\t\\t\\t\\t</td>\\n\\t        </tr>\\n\\t\\t\\t        <tr>\\n\\t            <th>\\n\\t            \\t<a href=\"http://portal.iprachicago.org/1077428-2/\" rel=\"bookmark\">\\n\\t\\t\\t\\t\\t\\t1077428\\t\\t\\t\\t\\t</a>\\n\\t            </th>\\n\\t            <td>\\n\\t\\t\\t\\t\\tFirearm Discharge\\t           \\t</td>\\n\\t            <td>\\n\\t            \\t\\t            \\t\\t10-04-2015\\t\\t\\t\\t\\t\\t            </td>\\n\\t            <td>\\n\\t            \\t\\t            \\t\\t10-04-2015 8:27 am\\t\\t\\t\\t\\t\\t\\t\\t\\t</td>\\n\\t        </tr>\\n\\t\\t\\t        <tr>\\n\\t            <th>\\n\\t            \\t<a href=\"http://portal.iprachicago.org/1076214-2/\" rel=\"bookmark\">\\n\\t\\t\\t\\t\\t\\t1076214\\t\\t\\t\\t\\t</a>\\n\\t            </th>\\n\\t            <td>\\n\\t\\t\\t\\t\\tIncident in Police Custody\\t           \\t</td>\\n\\t            <td>\\n\\t            \\t\\t            \\t\\t07-20-2015\\t\\t\\t\\t\\t\\t            </td>\\n\\t            <td>\\n\\t            \\t\\t            \\t\\t07-20-2015 1:15 am\\t\\t\\t\\t\\t\\t\\t\\t\\t</td>\\n\\t        </tr>\\n\\t\\t\\t        <tr>\\n\\t            <th>\\n\\t            \\t<a href=\"http://portal.iprachicago.org/1067572-2/\" rel=\"bookmark\">\\n\\t\\t\\t\\t\\t\\t1067572\\t\\t\\t\\t\\t</a>\\n\\t            </th>\\n\\t            <td>\\n\\t\\t\\t\\t\\tFirearm Discharge\\t           \\t</td>\\n\\t            <td>\\n\\t            \\t\\t            \\t\\t02-18-2014\\t\\t\\t\\t\\t\\t            </td>\\n\\t            <td>\\n\\t            \\t\\t            \\t\\t02-18-2014 12:00 am\\t\\t\\t\\t\\t\\t\\t\\t\\t</td>\\n\\t        </tr>\\n\\t\\t\\t        <tr>\\n\\t            <th>\\n\\t            \\t<a href=\"http://portal.iprachicago.org/1078789-2/\" rel=\"bookmark\">\\n\\t\\t\\t\\t\\t\\t1078789\\t\\t\\t\\t\\t</a>\\n\\t            </th>\\n\\t            <td>\\n\\t\\t\\t\\t\\tFirearm Discharge\\t           \\t</td>\\n\\t            <td>\\n\\t            \\t\\t            \\t\\t01-07-2016\\t\\t\\t\\t\\t\\t            </td>\\n\\t            <td>\\n\\t            \\t\\t            \\t\\t01-07-2016 10:27 pm\\t\\t\\t\\t\\t\\t\\t\\t\\t</td>\\n\\t        </tr>\\n\\t\\t\\t        <tr>\\n\\t            <th>\\n\\t            \\t<a href=\"http://portal.iprachicago.org/1075866-2/\" rel=\"bookmark\">\\n\\t\\t\\t\\t\\t\\t1075866\\t\\t\\t\\t\\t</a>\\n\\t            </th>\\n\\t            <td>\\n\\t\\t\\t\\t\\tIncident in Police Custody\\t           \\t</td>\\n\\t            <td>\\n\\t            \\t\\t            \\t\\t06-26-2015\\t\\t\\t\\t\\t\\t            </td>\\n\\t            <td>\\n\\t            \\t\\t            \\t\\t08-27-2013 12:00 am\\t\\t\\t\\t\\t\\t\\t\\t\\t</td>\\n\\t        </tr>\\n\\t\\t\\t        <tr>\\n\\t            <th>\\n\\t            \\t<a href=\"http://portal.iprachicago.org/1077396-2/\" rel=\"bookmark\">\\n\\t\\t\\t\\t\\t\\t1077396\\t\\t\\t\\t\\t</a>\\n\\t            </th>\\n\\t            <td>\\n\\t\\t\\t\\t\\tFirearm Discharge\\t           \\t</td>\\n\\t            <td>\\n\\t            \\t\\t            \\t\\t10-01-2015\\t\\t\\t\\t\\t\\t            </td>\\n\\t            <td>\\n\\t            \\t\\t            \\t\\t10-01-2015 6:31 pm\\t\\t\\t\\t\\t\\t\\t\\t\\t</td>\\n\\t        </tr>\\n\\t\\t\\t        <tr>\\n\\t            <th>\\n\\t            \\t<a href=\"http://portal.iprachicago.org/1072859-2/\" rel=\"bookmark\">\\n\\t\\t\\t\\t\\t\\t1072859\\t\\t\\t\\t\\t</a>\\n\\t            </th>\\n\\t            <td>\\n\\t\\t\\t\\t\\tFirearm Discharge\\t           \\t</td>\\n\\t            <td>\\n\\t            \\t\\t            \\t\\t12-07-2014\\t\\t\\t\\t\\t\\t            </td>\\n\\t            <td>\\n\\t            \\t\\t            \\t\\t12-07-2014 6:27 pm\\t\\t\\t\\t\\t\\t\\t\\t\\t</td>\\n\\t        </tr>\\n\\t\\t\\t        <tr>\\n\\t            <th>\\n\\t            \\t<a href=\"http://portal.iprachicago.org/1066725-2/\" rel=\"bookmark\">\\n\\t\\t\\t\\t\\t\\t1066725\\t\\t\\t\\t\\t</a>\\n\\t            </th>\\n\\t            <td>\\n\\t\\t\\t\\t\\tFirearm Discharge\\t           \\t</td>\\n\\t            <td>\\n\\t            \\t\\t            \\t\\t12-22-2013\\t\\t\\t\\t\\t\\t            </td>\\n\\t            <td>\\n\\t            \\t\\t            \\t\\t12-22-2013 5:06 pm\\t\\t\\t\\t\\t\\t\\t\\t\\t</td>\\n\\t        </tr>\\n\\t\\t\\t        <tr>\\n\\t            <th>\\n\\t            \\t<a href=\"http://portal.iprachicago.org/1077328-2/\" rel=\"bookmark\">\\n\\t\\t\\t\\t\\t\\t1077328\\t\\t\\t\\t\\t</a>\\n\\t            </th>\\n\\t            <td>\\n\\t\\t\\t\\t\\tFirearm Discharge\\t           \\t</td>\\n\\t            <td>\\n\\t            \\t\\t            \\t\\t09-25-2015\\t\\t\\t\\t\\t\\t            </td>\\n\\t            <td>\\n\\t            \\t\\t            \\t\\t09-25-2015 8:53 pm\\t\\t\\t\\t\\t\\t\\t\\t\\t</td>\\n\\t        </tr>\\n\\t\\t\\t        <tr>\\n\\t            <th>\\n\\t            \\t<a href=\"http://portal.iprachicago.org/1075692-2/\" rel=\"bookmark\">\\n\\t\\t\\t\\t\\t\\t1075692\\t\\t\\t\\t\\t</a>\\n\\t            </th>\\n\\t            <td>\\n\\t\\t\\t\\t\\tIncident in Police Custody\\t           \\t</td>\\n\\t            <td>\\n\\t            \\t\\t            \\t\\t06-16-2015\\t\\t\\t\\t\\t\\t            </td>\\n\\t            <td>\\n\\t            \\t\\t            \\t\\t06-16-2015 12:20 am\\t\\t\\t\\t\\t\\t\\t\\t\\t</td>\\n\\t        </tr>\\n\\t\\t\\t        <tr>\\n\\t            <th>\\n\\t            \\t<a href=\"http://portal.iprachicago.org/1078952-2/\" rel=\"bookmark\">\\n\\t\\t\\t\\t\\t\\t1078952\\t\\t\\t\\t\\t</a>\\n\\t            </th>\\n\\t            <td>\\n\\t\\t\\t\\t\\tFirearm Discharge\\t           \\t</td>\\n\\t            <td>\\n\\t            \\t\\t            \\t\\t01-21-2016\\t\\t\\t\\t\\t\\t            </td>\\n\\t            <td>\\n\\t            \\t\\t            \\t\\t12-29-2015 2:40 am\\t\\t\\t\\t\\t\\t\\t\\t\\t</td>\\n\\t        </tr>\\n\\t\\t\\t        <tr>\\n\\t            <th>\\n\\t            \\t<a href=\"http://portal.iprachicago.org/1072855-2/\" rel=\"bookmark\">\\n\\t\\t\\t\\t\\t\\t1072855\\t\\t\\t\\t\\t</a>\\n\\t            </th>\\n\\t            <td>\\n\\t\\t\\t\\t\\tFirearm Discharge\\t           \\t</td>\\n\\t            <td>\\n\\t            \\t\\t            \\t\\t12-07-2014\\t\\t\\t\\t\\t\\t            </td>\\n\\t            <td>\\n\\t            \\t\\t            \\t\\t12-06-2014 10:49 pm\\t\\t\\t\\t\\t\\t\\t\\t\\t</td>\\n\\t        </tr>\\n\\t\\t\\t        <tr>\\n\\t            <th>\\n\\t            \\t<a href=\"http://portal.iprachicago.org/1065714-2/\" rel=\"bookmark\">\\n\\t\\t\\t\\t\\t\\t1065714\\t\\t\\t\\t\\t</a>\\n\\t            </th>\\n\\t            <td>\\n\\t\\t\\t\\t\\tFirearm Discharge\\t           \\t</td>\\n\\t            <td>\\n\\t            \\t\\t            \\t\\t10-24-2013\\t\\t\\t\\t\\t\\t            </td>\\n\\t            <td>\\n\\t            \\t\\t            \\t\\t10-24-2013 6:40 pm\\t\\t\\t\\t\\t\\t\\t\\t\\t</td>\\n\\t        </tr>\\n\\t\\t\\t        <tr>\\n\\t            <th>\\n\\t            \\t<a href=\"http://portal.iprachicago.org/1072297-2/\" rel=\"bookmark\">\\n\\t\\t\\t\\t\\t\\t1072297\\t\\t\\t\\t\\t</a>\\n\\t            </th>\\n\\t            <td>\\n\\t\\t\\t\\t\\tFirearm Discharge\\t           \\t</td>\\n\\t            <td>\\n\\t            \\t\\t            \\t\\t10-30-2014\\t\\t\\t\\t\\t\\t            </td>\\n\\t            <td>\\n\\t            \\t\\t            \\t\\t10-29-2014 11:03 pm\\t\\t\\t\\t\\t\\t\\t\\t\\t</td>\\n\\t        </tr>\\n\\t\\t\\t        <tr>\\n\\t            <th>\\n\\t            \\t<a href=\"http://portal.iprachicago.org/1075655-2/\" rel=\"bookmark\">\\n\\t\\t\\t\\t\\t\\t1075655\\t\\t\\t\\t\\t</a>\\n\\t            </th>\\n\\t            <td>\\n\\t\\t\\t\\t\\tIncident in Police Custody\\t           \\t</td>\\n\\t            <td>\\n\\t            \\t\\t            \\t\\t06-13-2015\\t\\t\\t\\t\\t\\t            </td>\\n\\t            <td>\\n\\t            \\t\\t            \\t\\t06-13-2015 4:20 am\\t\\t\\t\\t\\t\\t\\t\\t\\t</td>\\n\\t        </tr>\\n\\t\\t\\t        <tr>\\n\\t            <th>\\n\\t            \\t<a href=\"http://portal.iprachicago.org/1049286-2/\" rel=\"bookmark\">\\n\\t\\t\\t\\t\\t\\t1049286\\t\\t\\t\\t\\t</a>\\n\\t            </th>\\n\\t            <td>\\n\\t\\t\\t\\t\\tIncident in Police Custody\\t           \\t</td>\\n\\t            <td>\\n\\t            \\t\\t            \\t\\t10-13-2011\\t\\t\\t\\t\\t\\t            </td>\\n\\t            <td>\\n\\t            \\t\\t            \\t\\t10-13-2011 12:17 am\\t\\t\\t\\t\\t\\t\\t\\t\\t</td>\\n\\t        </tr>\\n\\t\\t\\t        <tr>\\n\\t            <th>\\n\\t            \\t<a href=\"http://portal.iprachicago.org/1077146-2/\" rel=\"bookmark\">\\n\\t\\t\\t\\t\\t\\t1077146\\t\\t\\t\\t\\t</a>\\n\\t            </th>\\n\\t            <td>\\n\\t\\t\\t\\t\\tFirearm Discharge\\t           \\t</td>\\n\\t            <td>\\n\\t            \\t\\t            \\t\\t09-14-2015\\t\\t\\t\\t\\t\\t            </td>\\n\\t            <td>\\n\\t            \\t\\t            \\t\\t09-14-2015 9:38 pm\\t\\t\\t\\t\\t\\t\\t\\t\\t</td>\\n\\t        </tr>\\n\\t\\t\\t        <tr>\\n\\t            <th>\\n\\t            \\t<a href=\"http://portal.iprachicago.org/1075069-2/\" rel=\"bookmark\">\\n\\t\\t\\t\\t\\t\\t1075069\\t\\t\\t\\t\\t</a>\\n\\t            </th>\\n\\t            <td>\\n\\t\\t\\t\\t\\tIncident in Police Custody\\t           \\t</td>\\n\\t            <td>\\n\\t            \\t\\t            \\t\\t05-08-2015\\t\\t\\t\\t\\t\\t            </td>\\n\\t            <td>\\n\\t            \\t\\t            \\t\\t05-08-2015 3:05 am\\t\\t\\t\\t\\t\\t\\t\\t\\t</td>\\n\\t        </tr>\\n\\t\\t\\t        <tr>\\n\\t            <th>\\n\\t            \\t<a href=\"http://portal.iprachicago.org/1074984-2/\" rel=\"bookmark\">\\n\\t\\t\\t\\t\\t\\t1074984\\t\\t\\t\\t\\t</a>\\n\\t            </th>\\n\\t            <td>\\n\\t\\t\\t\\t\\tIncident in Police Custody\\t           \\t</td>\\n\\t            <td>\\n\\t            \\t\\t            \\t\\t05-04-2015\\t\\t\\t\\t\\t\\t            </td>\\n\\t            <td>\\n\\t            \\t\\t            \\t\\t05-03-2015 10:30 pm\\t\\t\\t\\t\\t\\t\\t\\t\\t</td>\\n\\t        </tr>\\n\\t\\t\\t        <tr>\\n\\t            <th>\\n\\t            \\t<a href=\"http://portal.iprachicago.org/1065582-2/\" rel=\"bookmark\">\\n\\t\\t\\t\\t\\t\\t1065582\\t\\t\\t\\t\\t</a>\\n\\t            </th>\\n\\t            <td>\\n\\t\\t\\t\\t\\tFirearm Discharge\\t           \\t</td>\\n\\t            <td>\\n\\t            \\t\\t            \\t\\t10-18-2013\\t\\t\\t\\t\\t\\t            </td>\\n\\t            <td>\\n\\t            \\t\\t            \\t\\t10-18-2013 1:10 am\\t\\t\\t\\t\\t\\t\\t\\t\\t</td>\\n\\t        </tr>\\n\\t\\t\\t        <tr>\\n\\t            <th>\\n\\t            \\t<a href=\"http://portal.iprachicago.org/1076922-2/\" rel=\"bookmark\">\\n\\t\\t\\t\\t\\t\\t1076922\\t\\t\\t\\t\\t</a>\\n\\t            </th>\\n\\t            <td>\\n\\t\\t\\t\\t\\tFirearm Discharge\\t           \\t</td>\\n\\t            <td>\\n\\t            \\t\\t            \\t\\t08-29-2015\\t\\t\\t\\t\\t\\t            </td>\\n\\t            <td>\\n\\t            \\t\\t            \\t\\t08-29-2015 1:30 am\\t\\t\\t\\t\\t\\t\\t\\t\\t</td>\\n\\t        </tr>\\n\\t\\t\\t        <tr>\\n\\t            <th>\\n\\t            \\t<a href=\"http://portal.iprachicago.org/1074962-2/\" rel=\"bookmark\">\\n\\t\\t\\t\\t\\t\\t1074962\\t\\t\\t\\t\\t</a>\\n\\t            </th>\\n\\t            <td>\\n\\t\\t\\t\\t\\tIncident in Police Custody\\t           \\t</td>\\n\\t            <td>\\n\\t            \\t\\t            \\t\\t05-02-2015\\t\\t\\t\\t\\t\\t            </td>\\n\\t            <td>\\n\\t            \\t\\t            \\t\\t04-30-2015 2:00 am\\t\\t\\t\\t\\t\\t\\t\\t\\t</td>\\n\\t        </tr>\\n\\t\\t\\t        <tr>\\n\\t            <th>\\n\\t            \\t<a href=\"http://portal.iprachicago.org/1069633-2/\" rel=\"bookmark\">\\n\\t\\t\\t\\t\\t\\t1069633\\t\\t\\t\\t\\t</a>\\n\\t            </th>\\n\\t            <td>\\n\\t\\t\\t\\t\\tOther Use Of Force\\t           \\t</td>\\n\\t            <td>\\n\\t            \\t\\t            \\t\\t06-06-2014\\t\\t\\t\\t\\t\\t            </td>\\n\\t            <td>\\n\\t            \\t\\t            \\t\\t06-03-2014 11:16 pm\\t\\t\\t\\t\\t\\t\\t\\t\\t</td>\\n\\t        </tr>\\n\\t\\t\\t        <tr>\\n\\t            <th>\\n\\t            \\t<a href=\"http://portal.iprachicago.org/1063442-2/\" rel=\"bookmark\">\\n\\t\\t\\t\\t\\t\\t1063442\\t\\t\\t\\t\\t</a>\\n\\t            </th>\\n\\t            <td>\\n\\t\\t\\t\\t\\tFirearm Discharge\\t           \\t</td>\\n\\t            <td>\\n\\t            \\t\\t            \\t\\t07-11-2013\\t\\t\\t\\t\\t\\t            </td>\\n\\t            <td>\\n\\t            \\t\\t            \\t\\t07-11-2013 1:05 pm\\t\\t\\t\\t\\t\\t\\t\\t\\t</td>\\n\\t        </tr>\\n\\t\\t\\t        <tr>\\n\\t            <th>\\n\\t            \\t<a href=\"http://portal.iprachicago.org/1074111-2/\" rel=\"bookmark\">\\n\\t\\t\\t\\t\\t\\t1074111\\t\\t\\t\\t\\t</a>\\n\\t            </th>\\n\\t            <td>\\n\\t\\t\\t\\t\\tIncident in Police Custody\\t           \\t</td>\\n\\t            <td>\\n\\t            \\t\\t            \\t\\t03-09-2015\\t\\t\\t\\t\\t\\t            </td>\\n\\t            <td>\\n\\t            \\t\\t            \\t\\t03-09-2015 9:45 pm\\t\\t\\t\\t\\t\\t\\t\\t\\t</td>\\n\\t        </tr>\\n\\t\\t\\t        <tr>\\n\\t            <th>\\n\\t            \\t<a href=\"http://portal.iprachicago.org/1076815-2/\" rel=\"bookmark\">\\n\\t\\t\\t\\t\\t\\t1076815\\t\\t\\t\\t\\t</a>\\n\\t            </th>\\n\\t            <td>\\n\\t\\t\\t\\t\\tFirearm Discharge\\t           \\t</td>\\n\\t            <td>\\n\\t            \\t\\t            \\t\\t08-21-2015\\t\\t\\t\\t\\t\\t            </td>\\n\\t            <td>\\n\\t            \\t\\t            \\t\\t08-21-2015 7:28 pm\\t\\t\\t\\t\\t\\t\\t\\t\\t</td>\\n\\t        </tr>\\n\\t\\t\\t        <tr>\\n\\t            <th>\\n\\t            \\t<a href=\"http://portal.iprachicago.org/1076797-2/\" rel=\"bookmark\">\\n\\t\\t\\t\\t\\t\\t1076797\\t\\t\\t\\t\\t</a>\\n\\t            </th>\\n\\t            <td>\\n\\t\\t\\t\\t\\tFirearm Discharge\\t           \\t</td>\\n\\t            <td>\\n\\t            \\t\\t            \\t\\t08-20-2015\\t\\t\\t\\t\\t\\t            </td>\\n\\t            <td>\\n\\t            \\t\\t            \\t\\t08-20-2015 10:25 pm\\t\\t\\t\\t\\t\\t\\t\\t\\t</td>\\n\\t        </tr>\\n\\t\\t\\t        <tr>\\n\\t            <th>\\n\\t            \\t<a href=\"http://portal.iprachicago.org/1063127-2/\" rel=\"bookmark\">\\n\\t\\t\\t\\t\\t\\t1063127\\t\\t\\t\\t\\t</a>\\n\\t            </th>\\n\\t            <td>\\n\\t\\t\\t\\t\\tFirearm Discharge\\t           \\t</td>\\n\\t            <td>\\n\\t            \\t\\t            \\t\\t06-26-2013\\t\\t\\t\\t\\t\\t            </td>\\n\\t            <td>\\n\\t            \\t\\t            \\t\\t06-26-2013 12:09 am\\t\\t\\t\\t\\t\\t\\t\\t\\t</td>\\n\\t        </tr>\\n\\t\\t\\t        <tr>\\n\\t            <th>\\n\\t            \\t<a href=\"http://portal.iprachicago.org/1076714-2/\" rel=\"bookmark\">\\n\\t\\t\\t\\t\\t\\t1076714\\t\\t\\t\\t\\t</a>\\n\\t            </th>\\n\\t            <td>\\n\\t\\t\\t\\t\\tFirearm Discharge\\t           \\t</td>\\n\\t            <td>\\n\\t            \\t\\t            \\t\\t08-15-2015\\t\\t\\t\\t\\t\\t            </td>\\n\\t            <td>\\n\\t            \\t\\t            \\t\\t08-15-2015 7:48 pm\\t\\t\\t\\t\\t\\t\\t\\t\\t</td>\\n\\t        </tr>\\n\\t\\t\\t        <tr>\\n\\t            <th>\\n\\t            \\t<a href=\"http://portal.iprachicago.org/1073789-2/\" rel=\"bookmark\">\\n\\t\\t\\t\\t\\t\\t1073789\\t\\t\\t\\t\\t</a>\\n\\t            </th>\\n\\t            <td>\\n\\t\\t\\t\\t\\tIncident in Police Custody\\t           \\t</td>\\n\\t            <td>\\n\\t            \\t\\t            \\t\\t02-14-2015\\t\\t\\t\\t\\t\\t            </td>\\n\\t            <td>\\n\\t            \\t\\t            \\t\\t02-14-2015 3:22 am\\t\\t\\t\\t\\t\\t\\t\\t\\t</td>\\n\\t        </tr>\\n\\t\\t\\t        <tr>\\n\\t            <th>\\n\\t            \\t<a href=\"http://portal.iprachicago.org/1061883-2/\" rel=\"bookmark\">\\n\\t\\t\\t\\t\\t\\t1061883\\t\\t\\t\\t\\t</a>\\n\\t            </th>\\n\\t            <td>\\n\\t\\t\\t\\t\\tFirearm Discharge\\t           \\t</td>\\n\\t            <td>\\n\\t            \\t\\t            \\t\\t04-30-2013\\t\\t\\t\\t\\t\\t            </td>\\n\\t            <td>\\n\\t            \\t\\t            \\t\\t04-30-2013 9:30 pm\\t\\t\\t\\t\\t\\t\\t\\t\\t</td>\\n\\t        </tr>\\n\\t\\t\\t        <tr>\\n\\t            <th>\\n\\t            \\t<a href=\"http://portal.iprachicago.org/1076425-2/\" rel=\"bookmark\">\\n\\t\\t\\t\\t\\t\\t1076425\\t\\t\\t\\t\\t</a>\\n\\t            </th>\\n\\t            <td>\\n\\t\\t\\t\\t\\tFirearm Discharge\\t           \\t</td>\\n\\t            <td>\\n\\t            \\t\\t            \\t\\t07-30-2015\\t\\t\\t\\t\\t\\t            </td>\\n\\t            <td>\\n\\t            \\t\\t            \\t\\t07-30-2015 3:15 am\\t\\t\\t\\t\\t\\t\\t\\t\\t</td>\\n\\t        </tr>\\n\\t\\t\\t        <tr>\\n\\t            <th>\\n\\t            \\t<a href=\"http://portal.iprachicago.org/1060844-2/\" rel=\"bookmark\">\\n\\t\\t\\t\\t\\t\\t1060844\\t\\t\\t\\t\\t</a>\\n\\t            </th>\\n\\t            <td>\\n\\t\\t\\t\\t\\tFirearm Discharge\\t           \\t</td>\\n\\t            <td>\\n\\t            \\t\\t            \\t\\t03-19-2013\\t\\t\\t\\t\\t\\t            </td>\\n\\t            <td>\\n\\t            \\t\\t            \\t\\t03-19-2013 9:50 pm\\t\\t\\t\\t\\t\\t\\t\\t\\t</td>\\n\\t        </tr>\\n\\t\\t\\t        <tr>\\n\\t            <th>\\n\\t            \\t<a href=\"http://portal.iprachicago.org/1073410-2/\" rel=\"bookmark\">\\n\\t\\t\\t\\t\\t\\t1073410\\t\\t\\t\\t\\t</a>\\n\\t            </th>\\n\\t            <td>\\n\\t\\t\\t\\t\\tIncident in Police Custody\\t           \\t</td>\\n\\t            <td>\\n\\t            \\t\\t            \\t\\t01-18-2015\\t\\t\\t\\t\\t\\t            </td>\\n\\t            <td>\\n\\t            \\t\\t            \\t\\t01-18-2015 4:55 am\\t\\t\\t\\t\\t\\t\\t\\t\\t</td>\\n\\t        </tr>\\n\\t\\t\\t        <tr>\\n\\t            <th>\\n\\t            \\t<a href=\"http://portal.iprachicago.org/1076367-2/\" rel=\"bookmark\">\\n\\t\\t\\t\\t\\t\\t1076367\\t\\t\\t\\t\\t</a>\\n\\t            </th>\\n\\t            <td>\\n\\t\\t\\t\\t\\tFirearm Discharge\\t           \\t</td>\\n\\t            <td>\\n\\t            \\t\\t            \\t\\t07-27-2015\\t\\t\\t\\t\\t\\t            </td>\\n\\t            <td>\\n\\t            \\t\\t            \\t\\t07-27-2015 5:00 pm\\t\\t\\t\\t\\t\\t\\t\\t\\t</td>\\n\\t        </tr>\\n\\t\\t\\t        <tr>\\n\\t            <th>\\n\\t            \\t<a href=\"http://portal.iprachicago.org/1071635-2/\" rel=\"bookmark\">\\n\\t\\t\\t\\t\\t\\t1071635\\t\\t\\t\\t\\t</a>\\n\\t            </th>\\n\\t            <td>\\n\\t\\t\\t\\t\\tIncident in Police Custody\\t           \\t</td>\\n\\t            <td>\\n\\t            \\t\\t            \\t\\t09-20-2014\\t\\t\\t\\t\\t\\t            </td>\\n\\t            <td>\\n\\t            \\t\\t            \\t\\t09-20-2014 6:18 pm\\t\\t\\t\\t\\t\\t\\t\\t\\t</td>\\n\\t        </tr>\\n\\t\\t\\t        <tr>\\n\\t            <th>\\n\\t            \\t<a href=\"http://portal.iprachicago.org/1071970-2/\" rel=\"bookmark\">\\n\\t\\t\\t\\t\\t\\t1071970\\t\\t\\t\\t\\t</a>\\n\\t            </th>\\n\\t            <td>\\n\\t\\t\\t\\t\\tFirearm Discharge\\t           \\t</td>\\n\\t            <td>\\n\\t            \\t\\t            \\t\\t10-12-2014\\t\\t\\t\\t\\t\\t            </td>\\n\\t            <td>\\n\\t            \\t\\t            \\t\\t10-12-2014 12:35 am\\t\\t\\t\\t\\t\\t\\t\\t\\t</td>\\n\\t        </tr>\\n\\t\\t\\t        <tr>\\n\\t            <th>\\n\\t            \\t<a href=\"http://portal.iprachicago.org/1071320-2/\" rel=\"bookmark\">\\n\\t\\t\\t\\t\\t\\t1071320\\t\\t\\t\\t\\t</a>\\n\\t            </th>\\n\\t            <td>\\n\\t\\t\\t\\t\\tIncident in Police Custody\\t           \\t</td>\\n\\t            <td>\\n\\t            \\t\\t            \\t\\t09-02-2014\\t\\t\\t\\t\\t\\t            </td>\\n\\t            <td>\\n\\t            \\t\\t            \\t\\t07-12-2014 10:30 pm\\t\\t\\t\\t\\t\\t\\t\\t\\t</td>\\n\\t        </tr>\\n\\t\\t\\t        <tr>\\n\\t            <th>\\n\\t            \\t<a href=\"http://portal.iprachicago.org/1079273-3/\" rel=\"bookmark\">\\n\\t\\t\\t\\t\\t\\t1079273\\t\\t\\t\\t\\t</a>\\n\\t            </th>\\n\\t            <td>\\n\\t\\t\\t\\t\\tIncident in Police Custody\\t           \\t</td>\\n\\t            <td>\\n\\t            \\t\\t            \\t\\t02-16-2016\\t\\t\\t\\t\\t\\t            </td>\\n\\t            <td>\\n\\t            \\t\\t            \\t\\t09-11-2015 12:22 am\\t\\t\\t\\t\\t\\t\\t\\t\\t</td>\\n\\t        </tr>\\n\\t\\t\\t        <tr>\\n\\t            <th>\\n\\t            \\t<a href=\"http://portal.iprachicago.org/1070681-2/\" rel=\"bookmark\">\\n\\t\\t\\t\\t\\t\\t1070681\\t\\t\\t\\t\\t</a>\\n\\t            </th>\\n\\t            <td>\\n\\t\\t\\t\\t\\tIncident in Police Custody\\t           \\t</td>\\n\\t            <td>\\n\\t            \\t\\t            \\t\\t07-31-2014\\t\\t\\t\\t\\t\\t            </td>\\n\\t            <td>\\n\\t            \\t\\t            \\t\\t07-30-2014 3:00 am\\t\\t\\t\\t\\t\\t\\t\\t\\t</td>\\n\\t        </tr>\\n\\t\\t\\t        <tr>\\n\\t            <th>\\n\\t            \\t<a href=\"http://portal.iprachicago.org/1071168-2/\" rel=\"bookmark\">\\n\\t\\t\\t\\t\\t\\t1071168\\t\\t\\t\\t\\t</a>\\n\\t            </th>\\n\\t            <td>\\n\\t\\t\\t\\t\\tFirearm Discharge\\t           \\t</td>\\n\\t            <td>\\n\\t            \\t\\t            \\t\\t08-24-2014\\t\\t\\t\\t\\t\\t            </td>\\n\\t            <td>\\n\\t            \\t\\t            \\t\\t08-24-2014 8:58 pm\\t\\t\\t\\t\\t\\t\\t\\t\\t</td>\\n\\t        </tr>\\n\\t\\t\\t        <tr>\\n\\t            <th>\\n\\t            \\t<a href=\"http://portal.iprachicago.org/1060762-2/\" rel=\"bookmark\">\\n\\t\\t\\t\\t\\t\\t1060762\\t\\t\\t\\t\\t</a>\\n\\t            </th>\\n\\t            <td>\\n\\t\\t\\t\\t\\tFirearm Discharge\\t           \\t</td>\\n\\t            <td>\\n\\t            \\t\\t            \\t\\t03-16-2013\\t\\t\\t\\t\\t\\t            </td>\\n\\t            <td>\\n\\t            \\t\\t            \\t\\t03-16-2013 2:55 am\\t\\t\\t\\t\\t\\t\\t\\t\\t</td>\\n\\t        </tr>\\n\\t\\t\\t        <tr>\\n\\t            <th>\\n\\t            \\t<a href=\"http://portal.iprachicago.org/1079160-2/\" rel=\"bookmark\">\\n\\t\\t\\t\\t\\t\\t1079160\\t\\t\\t\\t\\t</a>\\n\\t            </th>\\n\\t            <td>\\n\\t\\t\\t\\t\\tFirearm Discharge\\t           \\t</td>\\n\\t            <td>\\n\\t            \\t\\t            \\t\\t02-06-2016\\t\\t\\t\\t\\t\\t            </td>\\n\\t            <td>\\n\\t            \\t\\t            \\t\\t02-06-2016 12:00 pm\\t\\t\\t\\t\\t\\t\\t\\t\\t</td>\\n\\t        </tr>\\n\\t\\t\\t        <tr>\\n\\t            <th>\\n\\t            \\t<a href=\"http://portal.iprachicago.org/1079618-2/\" rel=\"bookmark\">\\n\\t\\t\\t\\t\\t\\t1079618\\t\\t\\t\\t\\t</a>\\n\\t            </th>\\n\\t            <td>\\n\\t\\t\\t\\t\\tFirearm Discharge\\t           \\t</td>\\n\\t            <td>\\n\\t            \\t\\t            \\t\\t03-12-2016\\t\\t\\t\\t\\t\\t            </td>\\n\\t            <td>\\n\\t            \\t\\t            \\t\\t03-12-2016 12:40 am\\t\\t\\t\\t\\t\\t\\t\\t\\t</td>\\n\\t        </tr>\\n\\t\\t\\t        <tr>\\n\\t            <th>\\n\\t            \\t<a href=\"http://portal.iprachicago.org/1058573-2/\" rel=\"bookmark\">\\n\\t\\t\\t\\t\\t\\t1058573\\t\\t\\t\\t\\t</a>\\n\\t            </th>\\n\\t            <td>\\n\\t\\t\\t\\t\\tFirearm Discharge\\t           \\t</td>\\n\\t            <td>\\n\\t            \\t\\t            \\t\\t11-22-2012\\t\\t\\t\\t\\t\\t            </td>\\n\\t            <td>\\n\\t            \\t\\t            \\t\\t11-22-2012 3:55 pm\\t\\t\\t\\t\\t\\t\\t\\t\\t</td>\\n\\t        </tr>\\n\\t\\t\\t        <tr>\\n\\t            <th>\\n\\t            \\t<a href=\"http://portal.iprachicago.org/1079644-2/\" rel=\"bookmark\">\\n\\t\\t\\t\\t\\t\\t1079644\\t\\t\\t\\t\\t</a>\\n\\t            </th>\\n\\t            <td>\\n\\t\\t\\t\\t\\tFirearm Discharge\\t           \\t</td>\\n\\t            <td>\\n\\t            \\t\\t            \\t\\t03-10-2016\\t\\t\\t\\t\\t\\t            </td>\\n\\t            <td>\\n\\t            \\t\\t            \\t\\t03-10-2016 5:55 am\\t\\t\\t\\t\\t\\t\\t\\t\\t</td>\\n\\t        </tr>\\n\\t\\t\\t        <tr>\\n\\t            <th>\\n\\t            \\t<a href=\"http://portal.iprachicago.org/1058279-2/\" rel=\"bookmark\">\\n\\t\\t\\t\\t\\t\\t1058279\\t\\t\\t\\t\\t</a>\\n\\t            </th>\\n\\t            <td>\\n\\t\\t\\t\\t\\tFirearm Discharge\\t           \\t</td>\\n\\t            <td>\\n\\t            \\t\\t            \\t\\t11-08-2012\\t\\t\\t\\t\\t\\t            </td>\\n\\t            <td>\\n\\t            \\t\\t            \\t\\t11-08-2012 3:43 pm\\t\\t\\t\\t\\t\\t\\t\\t\\t</td>\\n\\t        </tr>\\n\\t\\t\\t        <tr>\\n\\t            <th>\\n\\t            \\t<a href=\"http://portal.iprachicago.org/1076261-2/\" rel=\"bookmark\">\\n\\t\\t\\t\\t\\t\\t1076261\\t\\t\\t\\t\\t</a>\\n\\t            </th>\\n\\t            <td>\\n\\t\\t\\t\\t\\tFirearm Discharge\\t           \\t</td>\\n\\t            <td>\\n\\t            \\t\\t            \\t\\t07-22-2015\\t\\t\\t\\t\\t\\t            </td>\\n\\t            <td>\\n\\t            \\t\\t            \\t\\t07-22-2015 1:41 am\\t\\t\\t\\t\\t\\t\\t\\t\\t</td>\\n\\t        </tr>\\n\\t\\t\\t        <tr>\\n\\t            <th>\\n\\t            \\t<a href=\"http://portal.iprachicago.org/1057079-2/\" rel=\"bookmark\">\\n\\t\\t\\t\\t\\t\\t1057079\\t\\t\\t\\t\\t</a>\\n\\t            </th>\\n\\t            <td>\\n\\t\\t\\t\\t\\tFirearm Discharge\\t           \\t</td>\\n\\t            <td>\\n\\t            \\t\\t            \\t\\t09-14-2012\\t\\t\\t\\t\\t\\t            </td>\\n\\t            <td>\\n\\t            \\t\\t            \\t\\t09-14-2012 9:33 pm\\t\\t\\t\\t\\t\\t\\t\\t\\t</td>\\n\\t        </tr>\\n\\t\\t\\t        <tr>\\n\\t            <th>\\n\\t            \\t<a href=\"http://portal.iprachicago.org/1079661-2/\" rel=\"bookmark\">\\n\\t\\t\\t\\t\\t\\t1079661\\t\\t\\t\\t\\t</a>\\n\\t            </th>\\n\\t            <td>\\n\\t\\t\\t\\t\\tFirearm Discharge\\t           \\t</td>\\n\\t            <td>\\n\\t            \\t\\t            \\t\\t03-14-2016\\t\\t\\t\\t\\t\\t            </td>\\n\\t            <td>\\n\\t            \\t\\t            \\t\\t03-14-2016 9:46 pm\\t\\t\\t\\t\\t\\t\\t\\t\\t</td>\\n\\t        </tr>\\n\\t\\t\\t        <tr>\\n\\t            <th>\\n\\t            \\t<a href=\"http://portal.iprachicago.org/1056803-2/\" rel=\"bookmark\">\\n\\t\\t\\t\\t\\t\\t1056803\\t\\t\\t\\t\\t</a>\\n\\t            </th>\\n\\t            <td>\\n\\t\\t\\t\\t\\tFirearm Discharge\\t           \\t</td>\\n\\t            <td>\\n\\t            \\t\\t            \\t\\t09-04-2012\\t\\t\\t\\t\\t\\t            </td>\\n\\t            <td>\\n\\t            \\t\\t            \\t\\t09-04-2012 3:39 am\\t\\t\\t\\t\\t\\t\\t\\t\\t</td>\\n\\t        </tr>\\n\\t\\t\\t        <tr>\\n\\t            <th>\\n\\t            \\t<a href=\"http://portal.iprachicago.org/1078622-2/\" rel=\"bookmark\">\\n\\t\\t\\t\\t\\t\\t1078622\\t\\t\\t\\t\\t</a>\\n\\t            </th>\\n\\t            <td>\\n\\t\\t\\t\\t\\tFirearm Discharge\\t           \\t</td>\\n\\t            <td>\\n\\t            \\t\\t            \\t\\t12-26-2015\\t\\t\\t\\t\\t\\t            </td>\\n\\t            <td>\\n\\t            \\t\\t            \\t\\t12-26-2015 1:30 pm\\t\\t\\t\\t\\t\\t\\t\\t\\t</td>\\n\\t        </tr>\\n\\t\\t\\t        <tr>\\n\\t            <th>\\n\\t            \\t<a href=\"http://portal.iprachicago.org/1078329-2/\" rel=\"bookmark\">\\n\\t\\t\\t\\t\\t\\t1078329\\t\\t\\t\\t\\t</a>\\n\\t            </th>\\n\\t            <td>\\n\\t\\t\\t\\t\\tIncident in Police Custody\\t           \\t</td>\\n\\t            <td>\\n\\t            \\t\\t            \\t\\t12-05-2015\\t\\t\\t\\t\\t\\t            </td>\\n\\t            <td>\\n\\t            \\t\\t            \\t\\t12-13-2012 7:45 am\\t\\t\\t\\t\\t\\t\\t\\t\\t</td>\\n\\t        </tr>\\n\\t\\t\\t        <tr>\\n\\t            <th>\\n\\t            \\t<a href=\"http://portal.iprachicago.org/1076216-2/\" rel=\"bookmark\">\\n\\t\\t\\t\\t\\t\\t1076216\\t\\t\\t\\t\\t</a>\\n\\t            </th>\\n\\t            <td>\\n\\t\\t\\t\\t\\tFirearm Discharge\\t           \\t</td>\\n\\t            <td>\\n\\t            \\t\\t            \\t\\t07-20-2015\\t\\t\\t\\t\\t\\t            </td>\\n\\t            <td>\\n\\t            \\t\\t            \\t\\t07-20-2015 4:01 am\\t\\t\\t\\t\\t\\t\\t\\t\\t</td>\\n\\t        </tr>\\n\\t\\t\\t        <tr>\\n\\t            <th>\\n\\t            \\t<a href=\"http://portal.iprachicago.org/1056252-2/\" rel=\"bookmark\">\\n\\t\\t\\t\\t\\t\\t1056252\\t\\t\\t\\t\\t</a>\\n\\t            </th>\\n\\t            <td>\\n\\t\\t\\t\\t\\tFirearm Discharge\\t           \\t</td>\\n\\t            <td>\\n\\t            \\t\\t            \\t\\t08-11-2012\\t\\t\\t\\t\\t\\t            </td>\\n\\t            <td>\\n\\t            \\t\\t            \\t\\t08-11-2012 9:51 pm\\t\\t\\t\\t\\t\\t\\t\\t\\t</td>\\n\\t        </tr>\\n\\t\\t\\t        <tr>\\n\\t            <th>\\n\\t            \\t<a href=\"http://portal.iprachicago.org/1053667-2/\" rel=\"bookmark\">\\n\\t\\t\\t\\t\\t\\t1053667\\t\\t\\t\\t\\t</a>\\n\\t            </th>\\n\\t            <td>\\n\\t\\t\\t\\t\\tFirearm Discharge\\t           \\t</td>\\n\\t            <td>\\n\\t            \\t\\t            \\t\\t04-30-2012\\t\\t\\t\\t\\t\\t            </td>\\n\\t            <td>\\n\\t            \\t\\t            \\t\\t04-30-2012 2:51 am\\t\\t\\t\\t\\t\\t\\t\\t\\t</td>\\n\\t        </tr>\\n\\t\\t\\t        <tr>\\n\\t            <th>\\n\\t            \\t<a href=\"http://portal.iprachicago.org/1044336-2/\" rel=\"bookmark\">\\n\\t\\t\\t\\t\\t\\t1044336\\t\\t\\t\\t\\t</a>\\n\\t            </th>\\n\\t            <td>\\n\\t\\t\\t\\t\\tFirearm Discharge\\t           \\t</td>\\n\\t            <td>\\n\\t            \\t\\t            \\t\\t03-29-2011\\t\\t\\t\\t\\t\\t            </td>\\n\\t            <td>\\n\\t            \\t\\t            \\t\\t03-29-2011 7:48 am\\t\\t\\t\\t\\t\\t\\t\\t\\t</td>\\n\\t        </tr>\\n\\t\\t\\t        <tr>\\n\\t            <th>\\n\\t            \\t<a href=\"http://portal.iprachicago.org/1077477-2/\" rel=\"bookmark\">\\n\\t\\t\\t\\t\\t\\t1077477\\t\\t\\t\\t\\t</a>\\n\\t            </th>\\n\\t            <td>\\n\\t\\t\\t\\t\\tOther Use Of Force\\t           \\t</td>\\n\\t            <td>\\n\\t            \\t\\t            \\t\\t10-07-2015\\t\\t\\t\\t\\t\\t            </td>\\n\\t            <td>\\n\\t            \\t\\t            \\t\\t10-07-2015 3:40 am\\t\\t\\t\\t\\t\\t\\t\\t\\t</td>\\n\\t        </tr>\\n\\t\\t\\t\\t</tbody>\\n\\t</table>'"
      ]
     },
     "execution_count": 6,
     "metadata": {},
     "output_type": "execute_result"
    }
   ],
   "source": [
    "content"
   ]
  },
  {
   "cell_type": "code",
   "execution_count": 7,
   "metadata": {
    "collapsed": false
   },
   "outputs": [
    {
     "data": {
      "text/plain": [
       "'<div class=\"dynamic-search-loading-container\"><div class=\"loading-animation\"><img src=\"http://portal.iprachicago.org/wp-content/themes/ipra/img/loadbar.gif\" alt=\"Loading\" /></div></div><table class=\"table table-striped\" id=\"ipra-case-search-data-table\">    <thead>        <tr>            <th>Log#</th>            <th>Incident Types</th>            <th>IPRA Notification Date</th>            <th>Incident Date & Time</th>        </tr>    </thead>    <tbody>        <tr>            <th>            <a href=\"http://portal.iprachicago.org/1062377-2/\" rel=\"bookmark\">1062377</a>            </th>            <td>Incident in Police Custody           </td>            <td>                        05-21-2013            </td>            <td>                        05-13-2013 11:00 pm</td>        </tr>        <tr>            <th>            <a href=\"http://portal.iprachicago.org/1066371-2/\" rel=\"bookmark\">1066371</a>            </th>            <td>Incident in Police Custody           </td>            <td>                        12-02-2013            </td>            <td>                        07-25-2013 10:04 pm</td>        </tr>        <tr>            <th>            <a href=\"http://portal.iprachicago.org/1080615-2/\" rel=\"bookmark\">1080615</a>            </th>            <td>Firearm Discharge           </td>            <td>                        05-21-2016            </td>            <td>                        05-21-2016 10:19 pm</td>        </tr>        <tr>            <th>            <a href=\"http://portal.iprachicago.org/1045673-2/\" rel=\"bookmark\">1045673</a>            </th>            <td>Firearm Discharge           </td>            <td>                        05-25-2011            </td>            <td>                        05-25-2011 10:30 pm</td>        </tr>        <tr>            <th>            <a href=\"http://portal.iprachicago.org/1080505-2/\" rel=\"bookmark\">1080505</a>            </th>            <td>Firearm Discharge           </td>            <td>                        05-12-2016            </td>            <td>                        05-12-2016 12:00 pm</td>        </tr>        <tr>            <th>            <a href=\"http://portal.iprachicago.org/1080476-2/\" rel=\"bookmark\">1080476</a>            </th>            <td>Firearm Discharge           </td>            <td>                        05-11-2016            </td>            <td>                        05-10-2016 10:41 pm</td>        </tr>        <tr>            <th>            <a href=\"http://portal.iprachicago.org/1080449-2/\" rel=\"bookmark\">1080449</a>            </th>            <td>Firearm Discharge           </td>            <td>                        05-09-2016            </td>            <td>                        05-09-2016 11:00 pm</td>        </tr>        <tr>            <th>            <a href=\"http://portal.iprachicago.org/1078435-2/\" rel=\"bookmark\">1078435</a>            </th>            <td>Taser Discharge           </td>            <td>                        12-14-2015            </td>            <td>                        12-08-2015 1:09 pm</td>        </tr>        <tr>            <th>            <a href=\"http://portal.iprachicago.org/1080437-2/\" rel=\"bookmark\">1080437</a>            </th>            <td>Incident in Police Custody           </td>            <td>                        05-07-2016            </td>            <td>                        05-07-2016 3:03 pm</td>        </tr>        <tr>            <th>            <a href=\"http://portal.iprachicago.org/1080417-2/\" rel=\"bookmark\">1080417</a>            </th>            <td>Firearm Discharge           </td>            <td>                        05-06-2016            </td>            <td>                        05-06-2016 9:32 am</td>        </tr>        <tr>            <th>            <a href=\"http://portal.iprachicago.org/1080395-2/\" rel=\"bookmark\">1080395</a>            </th>            <td>Taser Discharge           </td>            <td>                        05-04-2016            </td>            <td>                        05-04-2016 1:06 pm</td>        </tr>        <tr>            <th>            <a href=\"http://portal.iprachicago.org/1074294-2/\" rel=\"bookmark\">1074294</a>            </th>            <td>Incident in Police Custody           </td>            <td>                        03-19-2015            </td>            <td>                        03-17-2015 10:38 pm</td>        </tr>        <tr>            <th>            <a href=\"http://portal.iprachicago.org/1074270-2/\" rel=\"bookmark\">1074270</a>            </th>            <td>Incident in Police Custody           </td>            <td>                        03-18-2015            </td>            <td>                        03-04-2015 4:45 pm</td>        </tr>        <tr>            <th>            <a href=\"http://portal.iprachicago.org/1080972-2/\" rel=\"bookmark\">1080972</a>            </th>            <td>Incident in Police Custody           </td>            <td>                        06-13-2016            </td>            <td>                        06-13-2016 3:30 pm</td>        </tr>        <tr>            <th>            <a href=\"http://portal.iprachicago.org/1080144-2/\" rel=\"bookmark\">1080144</a>            </th>            <td>Firearm Discharge           </td>            <td>                        04-15-2016            </td>            <td>                        04-15-2016 10:27 pm</td>        </tr>        <tr>            <th>            <a href=\"http://portal.iprachicago.org/1080064-2/\" rel=\"bookmark\">1080064</a>            </th>            <td>Incident in Police Custody           </td>            <td>                        04-11-2016            </td>            <td>                        04-11-2016 7:43 pm</td>        </tr>        <tr>            <th>            <a href=\"http://portal.iprachicago.org/1080018-2/\" rel=\"bookmark\">1080018</a>            </th>            <td>Incident in Police Custody           </td>            <td>                        04-08-2016            </td>            <td>                        04-07-2016 6:49 pm</td>        </tr>        <tr>            <th>            <a href=\"http://portal.iprachicago.org/1079080-2/\" rel=\"bookmark\">1079080</a>            </th>            <td>Firearm Discharge           </td>            <td>                        01-31-2016            </td>            <td>                        01-31-2016 4:25 am</td>        </tr>        <tr>            <th>            <a href=\"http://portal.iprachicago.org/1052816-2/\" rel=\"bookmark\">1052816</a>            </th>            <td>Firearm Discharge           </td>            <td>                        03-24-2012            </td>            <td>                        03-23-2012 11:05 pm</td>        </tr>        <tr>            <th>            <a href=\"http://portal.iprachicago.org/1052578-2/\" rel=\"bookmark\">1052578</a>            </th>            <td>Firearm Discharge           </td>            <td>                        03-14-2012            </td>            <td>                        03-14-2012 8:32 pm</td>        </tr>        <tr>            <th>            <a href=\"http://portal.iprachicago.org/1045950-2/\" rel=\"bookmark\">1045950</a>            </th>            <td>Firearm Discharge           </td>            <td>                        06-07-2011            </td>            <td>                        06-07-2011 1:48 am</td>        </tr>        <tr>            <th>            <a href=\"http://portal.iprachicago.org/1076204-2/\" rel=\"bookmark\">1076204</a>            </th>            <td>Firearm Discharge           </td>            <td>                        07-19-2015            </td>            <td>                        07-19-2015 3:56 am</td>        </tr>        <tr>            <th>            <a href=\"http://portal.iprachicago.org/1076081-2/\" rel=\"bookmark\">1076081</a>            </th>            <td>Firearm Discharge           </td>            <td>                        07-10-2015            </td>            <td>                        07-10-2015 4:03 pm</td>        </tr>        <tr>            <th>            <a href=\"http://portal.iprachicago.org/1076072-2/\" rel=\"bookmark\">1076072</a>            </th>            <td>Firearm Discharge           </td>            <td>                        07-10-2015            </td>            <td>                        07-09-2015 11:34 pm</td>        </tr>        <tr>            <th>            <a href=\"http://portal.iprachicago.org/1050919-2/\" rel=\"bookmark\">1050919</a>            </th>            <td>Firearm Discharge           </td>            <td>                        12-28-2011            </td>            <td>                        12-28-2011 1:42 am</td>        </tr>        <tr>            <th>            <a href=\"http://portal.iprachicago.org/1075770-2/\" rel=\"bookmark\">1075770</a>            </th>            <td>Firearm Discharge           </td>            <td>                        06-20-2015            </td>            <td>                        06-20-2015 12:10 am</td>        </tr>        <tr>            <th>            <a href=\"http://portal.iprachicago.org/1042532-2/\" rel=\"bookmark\">1042532</a>            </th>            <td>Firearm Discharge           </td>            <td>                        01-07-2011            </td>            <td>                        01-07-2011 1:33 am</td>        </tr>        <tr>            <th>            <a href=\"http://portal.iprachicago.org/1071524-2/\" rel=\"bookmark\">1071524</a>            </th>            <td>Firearm Discharge           </td>            <td>                        09-13-2014            </td>            <td>                        09-13-2014 10:12 pm</td>        </tr>        <tr>            <th>            <a href=\"http://portal.iprachicago.org/1042469-2/\" rel=\"bookmark\">1042469</a>            </th>            <td>Firearm Discharge           </td>            <td>                        01-04-2011            </td>            <td>                        01-04-2011 9:35 pm</td>        </tr>        <tr>            <th>            <a href=\"http://portal.iprachicago.org/1078178-2/\" rel=\"bookmark\">1078178</a>            </th>            <td>Incident in Police Custody           </td>            <td>                        11-24-2015            </td>            <td>                        11-21-2015 10:05 pm</td>        </tr>        <tr>            <th>            <a href=\"http://portal.iprachicago.org/1072342-2/\" rel=\"bookmark\">1072342</a>            </th>            <td>Firearm Discharge           </td>            <td>                        11-01-2014            </td>            <td>                        11-01-2014 8:22 pm</td>        </tr>        <tr>            <th>            <a href=\"http://portal.iprachicago.org/1070445-2/\" rel=\"bookmark\">1070445</a>            </th>            <td>Firearm Discharge           </td>            <td>                        07-19-2014            </td>            <td>                        07-19-2014 6:10 am</td>        </tr>        <tr>            <th>            <a href=\"http://portal.iprachicago.org/1077051-2/\" rel=\"bookmark\">1077051</a>            </th>            <td>Incident in Police Custody           </td>            <td>                        09-08-2015            </td>            <td>                        09-04-2015 4:20 pm</td>        </tr>        <tr>            <th>            <a href=\"http://portal.iprachicago.org/1076980-2/\" rel=\"bookmark\">1076980</a>            </th>            <td>Incident in Police Custody           </td>            <td>                        09-02-2015            </td>            <td>                        09-02-2015 7:51 pm</td>        </tr>        <tr>            <th>            <a href=\"http://portal.iprachicago.org/1079728-2/\" rel=\"bookmark\">1079728</a>            </th>            <td>Firearm Discharge           </td>            <td>                        03-19-2016            </td>            <td>                        03-19-2016 9:30 pm</td>        </tr>        <tr>            <th>            <a href=\"http://portal.iprachicago.org/1074934-2/\" rel=\"bookmark\">1074934</a>            </th>            <td>Firearm Discharge           </td>            <td>                        05-01-2015            </td>            <td>                        05-01-2015 3:25 am</td>        </tr>        <tr>            <th>            <a href=\"http://portal.iprachicago.org/1070168-2/\" rel=\"bookmark\">1070168</a>            </th>            <td>Firearm Discharge           </td>            <td>                        07-05-2014            </td>            <td>                        07-05-2014 6:40 pm</td>        </tr>        <tr>            <th>            <a href=\"http://portal.iprachicago.org/1074736-2/\" rel=\"bookmark\">1074736</a>            </th>            <td>Firearm Discharge           </td>            <td>                        04-17-2015            </td>            <td>                        04-17-2015 10:53 pm</td>        </tr>        <tr>            <th>            <a href=\"http://portal.iprachicago.org/1070148-2/\" rel=\"bookmark\">1070148</a>            </th>            <td>Firearm Discharge           </td>            <td>                        07-04-2014            </td>            <td>                        07-04-2014 9:53 pm</td>        </tr>        <tr>            <th>            <a href=\"http://portal.iprachicago.org/1074534-2/\" rel=\"bookmark\">1074534</a>            </th>            <td>Firearm Discharge           </td>            <td>                        04-04-2015            </td>            <td>                        04-04-2015 4:19 pm</td>        </tr>        <tr>            <th>            <a href=\"http://portal.iprachicago.org/1069981-2/\" rel=\"bookmark\">1069981</a>            </th>            <td>Firearm Discharge           </td>            <td>                        06-24-2014            </td>            <td>                        06-24-2014 6:23 pm</td>        </tr>        <tr>            <th>            <a href=\"http://portal.iprachicago.org/1069721-2/\" rel=\"bookmark\">1069721</a>            </th>            <td>Firearm Discharge           </td>            <td>                        06-11-2014            </td>            <td>                        06-10-2014 11:46 pm</td>        </tr>        <tr>            <th>            <a href=\"http://portal.iprachicago.org/1073787-2/\" rel=\"bookmark\">1073787</a>            </th>            <td>Firearm Discharge           </td>            <td>                        02-14-2015            </td>            <td>                        02-14-2015 12:29 am</td>        </tr>        <tr>            <th>            <a href=\"http://portal.iprachicago.org/1073710-2/\" rel=\"bookmark\">1073710</a>            </th>            <td>Firearm Discharge           </td>            <td>                        02-09-2015            </td>            <td>                        02-09-2015 3:30 am</td>        </tr>        <tr>            <th>            <a href=\"http://portal.iprachicago.org/1069058-2/\" rel=\"bookmark\">1069058</a>            </th>            <td>Incident in Police Custody           </td>            <td>                        05-09-2014            </td>            <td>                        05-07-2014 12:17 am</td>        </tr>        <tr>            <th>            <a href=\"http://portal.iprachicago.org/1073693-2/\" rel=\"bookmark\">1073693</a>            </th>            <td>Firearm Discharge           </td>            <td>                        02-07-2015            </td>            <td>                        02-07-2015 2:46 pm</td>        </tr>        <tr>            <th>            <a href=\"http://portal.iprachicago.org/1073105-2/\" rel=\"bookmark\">1073105</a>            </th>            <td>Firearm Discharge           </td>            <td>                        12-25-2014            </td>            <td>                        12-25-2014 6:41 pm</td>        </tr>        <tr>            <th>            <a href=\"http://portal.iprachicago.org/1079743-2/\" rel=\"bookmark\">1079743</a>            </th>            <td>Incident in Police Custody           </td>            <td>                        03-21-2016            </td>            <td>                        03-21-2016 2:30 am</td>        </tr>        <tr>            <th>            <a href=\"http://portal.iprachicago.org/1076844-2/\" rel=\"bookmark\">1076844</a>            </th>            <td>Incident in Police Custody           </td>            <td>                        08-24-2015            </td>            <td>                        08-22-2015 11:45 am</td>        </tr>        <tr>            <th>            <a href=\"http://portal.iprachicago.org/1069651-2/\" rel=\"bookmark\">1069651</a>            </th>            <td>Firearm Discharge           </td>            <td>                        06-07-2014            </td>            <td>                        06-06-2014 11:28 pm</td>        </tr>        <tr>            <th>            <a href=\"http://portal.iprachicago.org/1078530-2/\" rel=\"bookmark\">1078530</a>            </th>            <td>Firearm Discharge           </td>            <td>                        12-20-2015            </td>            <td>                        12-20-2015 10:37 am</td>        </tr>        <tr>            <th>            <a href=\"http://portal.iprachicago.org/1076808-2/\" rel=\"bookmark\">1076808</a>            </th>            <td>Incident in Police Custody           </td>            <td>                        08-21-2015            </td>            <td>                        03-19-2015 5:09 am</td>        </tr>        <tr>            <th>            <a href=\"http://portal.iprachicago.org/1078616-2/\" rel=\"bookmark\">1078616</a>            </th>            <td>Firearm Discharge           </td>            <td>                        12-26-2015            </td>            <td>                        12-26-2015 4:25 am</td>        </tr>        <tr>            <th>            <a href=\"http://portal.iprachicago.org/1068271-2/\" rel=\"bookmark\">1068271</a>            </th>            <td>Firearm Discharge           </td>            <td>                        03-29-2014            </td>            <td>                        03-29-2014 8:49 pm</td>        </tr>        <tr>            <th>            <a href=\"http://portal.iprachicago.org/1078413-2/\" rel=\"bookmark\">1078413</a>            </th>            <td>Firearm Discharge           </td>            <td>                        12-12-2015            </td>            <td>                        12-12-2015 6:09 am</td>        </tr>        <tr>            <th>            <a href=\"http://portal.iprachicago.org/1068101-2/\" rel=\"bookmark\">1068101</a>            </th>            <td>Firearm Discharge           </td>            <td>                        03-20-2014            </td>            <td>                        03-20-2014 6:42 pm</td>        </tr>        <tr>            <th>            <a href=\"http://portal.iprachicago.org/1066296-2/\" rel=\"bookmark\">1066296</a>            </th>            <td>Incident in Police Custody           </td>            <td>                        11-26-2013            </td>            <td>                        11-25-2013 7:55 pm</td>        </tr>        <tr>            <th>            <a href=\"http://portal.iprachicago.org/1077848-2/\" rel=\"bookmark\">1077848</a>            </th>            <td>Firearm Discharge           </td>            <td>                        10-31-2015            </td>            <td>                        10-31-2015 1:26 am</td>        </tr>        <tr>            <th>            <a href=\"http://portal.iprachicago.org/1076618-2/\" rel=\"bookmark\">1076618</a>            </th>            <td>Incident in Police Custody           </td>            <td>                        08-10-2015            </td>            <td>                        03-23-2014 10:11 pm</td>        </tr>        <tr>            <th>            <a href=\"http://portal.iprachicago.org/1068046-2/\" rel=\"bookmark\">1068046</a>            </th>            <td>Firearm Discharge           </td>            <td>                        03-17-2014            </td>            <td>                        03-17-2014 9:51 pm</td>        </tr>        <tr>            <th>            <a href=\"http://portal.iprachicago.org/1077428-2/\" rel=\"bookmark\">1077428</a>            </th>            <td>Firearm Discharge           </td>            <td>                        10-04-2015            </td>            <td>                        10-04-2015 8:27 am</td>        </tr>        <tr>            <th>            <a href=\"http://portal.iprachicago.org/1076214-2/\" rel=\"bookmark\">1076214</a>            </th>            <td>Incident in Police Custody           </td>            <td>                        07-20-2015            </td>            <td>                        07-20-2015 1:15 am</td>        </tr>        <tr>            <th>            <a href=\"http://portal.iprachicago.org/1067572-2/\" rel=\"bookmark\">1067572</a>            </th>            <td>Firearm Discharge           </td>            <td>                        02-18-2014            </td>            <td>                        02-18-2014 12:00 am</td>        </tr>        <tr>            <th>            <a href=\"http://portal.iprachicago.org/1078789-2/\" rel=\"bookmark\">1078789</a>            </th>            <td>Firearm Discharge           </td>            <td>                        01-07-2016            </td>            <td>                        01-07-2016 10:27 pm</td>        </tr>        <tr>            <th>            <a href=\"http://portal.iprachicago.org/1075866-2/\" rel=\"bookmark\">1075866</a>            </th>            <td>Incident in Police Custody           </td>            <td>                        06-26-2015            </td>            <td>                        08-27-2013 12:00 am</td>        </tr>        <tr>            <th>            <a href=\"http://portal.iprachicago.org/1077396-2/\" rel=\"bookmark\">1077396</a>            </th>            <td>Firearm Discharge           </td>            <td>                        10-01-2015            </td>            <td>                        10-01-2015 6:31 pm</td>        </tr>        <tr>            <th>            <a href=\"http://portal.iprachicago.org/1072859-2/\" rel=\"bookmark\">1072859</a>            </th>            <td>Firearm Discharge           </td>            <td>                        12-07-2014            </td>            <td>                        12-07-2014 6:27 pm</td>        </tr>        <tr>            <th>            <a href=\"http://portal.iprachicago.org/1066725-2/\" rel=\"bookmark\">1066725</a>            </th>            <td>Firearm Discharge           </td>            <td>                        12-22-2013            </td>            <td>                        12-22-2013 5:06 pm</td>        </tr>        <tr>            <th>            <a href=\"http://portal.iprachicago.org/1077328-2/\" rel=\"bookmark\">1077328</a>            </th>            <td>Firearm Discharge           </td>            <td>                        09-25-2015            </td>            <td>                        09-25-2015 8:53 pm</td>        </tr>        <tr>            <th>            <a href=\"http://portal.iprachicago.org/1075692-2/\" rel=\"bookmark\">1075692</a>            </th>            <td>Incident in Police Custody           </td>            <td>                        06-16-2015            </td>            <td>                        06-16-2015 12:20 am</td>        </tr>        <tr>            <th>            <a href=\"http://portal.iprachicago.org/1078952-2/\" rel=\"bookmark\">1078952</a>            </th>            <td>Firearm Discharge           </td>            <td>                        01-21-2016            </td>            <td>                        12-29-2015 2:40 am</td>        </tr>        <tr>            <th>            <a href=\"http://portal.iprachicago.org/1072855-2/\" rel=\"bookmark\">1072855</a>            </th>            <td>Firearm Discharge           </td>            <td>                        12-07-2014            </td>            <td>                        12-06-2014 10:49 pm</td>        </tr>        <tr>            <th>            <a href=\"http://portal.iprachicago.org/1065714-2/\" rel=\"bookmark\">1065714</a>            </th>            <td>Firearm Discharge           </td>            <td>                        10-24-2013            </td>            <td>                        10-24-2013 6:40 pm</td>        </tr>        <tr>            <th>            <a href=\"http://portal.iprachicago.org/1072297-2/\" rel=\"bookmark\">1072297</a>            </th>            <td>Firearm Discharge           </td>            <td>                        10-30-2014            </td>            <td>                        10-29-2014 11:03 pm</td>        </tr>        <tr>            <th>            <a href=\"http://portal.iprachicago.org/1075655-2/\" rel=\"bookmark\">1075655</a>            </th>            <td>Incident in Police Custody           </td>            <td>                        06-13-2015            </td>            <td>                        06-13-2015 4:20 am</td>        </tr>        <tr>            <th>            <a href=\"http://portal.iprachicago.org/1049286-2/\" rel=\"bookmark\">1049286</a>            </th>            <td>Incident in Police Custody           </td>            <td>                        10-13-2011            </td>            <td>                        10-13-2011 12:17 am</td>        </tr>        <tr>            <th>            <a href=\"http://portal.iprachicago.org/1077146-2/\" rel=\"bookmark\">1077146</a>            </th>            <td>Firearm Discharge           </td>            <td>                        09-14-2015            </td>            <td>                        09-14-2015 9:38 pm</td>        </tr>        <tr>            <th>            <a href=\"http://portal.iprachicago.org/1075069-2/\" rel=\"bookmark\">1075069</a>            </th>            <td>Incident in Police Custody           </td>            <td>                        05-08-2015            </td>            <td>                        05-08-2015 3:05 am</td>        </tr>        <tr>            <th>            <a href=\"http://portal.iprachicago.org/1074984-2/\" rel=\"bookmark\">1074984</a>            </th>            <td>Incident in Police Custody           </td>            <td>                        05-04-2015            </td>            <td>                        05-03-2015 10:30 pm</td>        </tr>        <tr>            <th>            <a href=\"http://portal.iprachicago.org/1065582-2/\" rel=\"bookmark\">1065582</a>            </th>            <td>Firearm Discharge           </td>            <td>                        10-18-2013            </td>            <td>                        10-18-2013 1:10 am</td>        </tr>        <tr>            <th>            <a href=\"http://portal.iprachicago.org/1076922-2/\" rel=\"bookmark\">1076922</a>            </th>            <td>Firearm Discharge           </td>            <td>                        08-29-2015            </td>            <td>                        08-29-2015 1:30 am</td>        </tr>        <tr>            <th>            <a href=\"http://portal.iprachicago.org/1074962-2/\" rel=\"bookmark\">1074962</a>            </th>            <td>Incident in Police Custody           </td>            <td>                        05-02-2015            </td>            <td>                        04-30-2015 2:00 am</td>        </tr>        <tr>            <th>            <a href=\"http://portal.iprachicago.org/1069633-2/\" rel=\"bookmark\">1069633</a>            </th>            <td>Other Use Of Force           </td>            <td>                        06-06-2014            </td>            <td>                        06-03-2014 11:16 pm</td>        </tr>        <tr>            <th>            <a href=\"http://portal.iprachicago.org/1063442-2/\" rel=\"bookmark\">1063442</a>            </th>            <td>Firearm Discharge           </td>            <td>                        07-11-2013            </td>            <td>                        07-11-2013 1:05 pm</td>        </tr>        <tr>            <th>            <a href=\"http://portal.iprachicago.org/1074111-2/\" rel=\"bookmark\">1074111</a>            </th>            <td>Incident in Police Custody           </td>            <td>                        03-09-2015            </td>            <td>                        03-09-2015 9:45 pm</td>        </tr>        <tr>            <th>            <a href=\"http://portal.iprachicago.org/1076815-2/\" rel=\"bookmark\">1076815</a>            </th>            <td>Firearm Discharge           </td>            <td>                        08-21-2015            </td>            <td>                        08-21-2015 7:28 pm</td>        </tr>        <tr>            <th>            <a href=\"http://portal.iprachicago.org/1076797-2/\" rel=\"bookmark\">1076797</a>            </th>            <td>Firearm Discharge           </td>            <td>                        08-20-2015            </td>            <td>                        08-20-2015 10:25 pm</td>        </tr>        <tr>            <th>            <a href=\"http://portal.iprachicago.org/1063127-2/\" rel=\"bookmark\">1063127</a>            </th>            <td>Firearm Discharge           </td>            <td>                        06-26-2013            </td>            <td>                        06-26-2013 12:09 am</td>        </tr>        <tr>            <th>            <a href=\"http://portal.iprachicago.org/1076714-2/\" rel=\"bookmark\">1076714</a>            </th>            <td>Firearm Discharge           </td>            <td>                        08-15-2015            </td>            <td>                        08-15-2015 7:48 pm</td>        </tr>        <tr>            <th>            <a href=\"http://portal.iprachicago.org/1073789-2/\" rel=\"bookmark\">1073789</a>            </th>            <td>Incident in Police Custody           </td>            <td>                        02-14-2015            </td>            <td>                        02-14-2015 3:22 am</td>        </tr>        <tr>            <th>            <a href=\"http://portal.iprachicago.org/1061883-2/\" rel=\"bookmark\">1061883</a>            </th>            <td>Firearm Discharge           </td>            <td>                        04-30-2013            </td>            <td>                        04-30-2013 9:30 pm</td>        </tr>        <tr>            <th>            <a href=\"http://portal.iprachicago.org/1076425-2/\" rel=\"bookmark\">1076425</a>            </th>            <td>Firearm Discharge           </td>            <td>                        07-30-2015            </td>            <td>                        07-30-2015 3:15 am</td>        </tr>        <tr>            <th>            <a href=\"http://portal.iprachicago.org/1060844-2/\" rel=\"bookmark\">1060844</a>            </th>            <td>Firearm Discharge           </td>            <td>                        03-19-2013            </td>            <td>                        03-19-2013 9:50 pm</td>        </tr>        <tr>            <th>            <a href=\"http://portal.iprachicago.org/1073410-2/\" rel=\"bookmark\">1073410</a>            </th>            <td>Incident in Police Custody           </td>            <td>                        01-18-2015            </td>            <td>                        01-18-2015 4:55 am</td>        </tr>        <tr>            <th>            <a href=\"http://portal.iprachicago.org/1076367-2/\" rel=\"bookmark\">1076367</a>            </th>            <td>Firearm Discharge           </td>            <td>                        07-27-2015            </td>            <td>                        07-27-2015 5:00 pm</td>        </tr>        <tr>            <th>            <a href=\"http://portal.iprachicago.org/1071635-2/\" rel=\"bookmark\">1071635</a>            </th>            <td>Incident in Police Custody           </td>            <td>                        09-20-2014            </td>            <td>                        09-20-2014 6:18 pm</td>        </tr>        <tr>            <th>            <a href=\"http://portal.iprachicago.org/1071970-2/\" rel=\"bookmark\">1071970</a>            </th>            <td>Firearm Discharge           </td>            <td>                        10-12-2014            </td>            <td>                        10-12-2014 12:35 am</td>        </tr>        <tr>            <th>            <a href=\"http://portal.iprachicago.org/1071320-2/\" rel=\"bookmark\">1071320</a>            </th>            <td>Incident in Police Custody           </td>            <td>                        09-02-2014            </td>            <td>                        07-12-2014 10:30 pm</td>        </tr>        <tr>            <th>            <a href=\"http://portal.iprachicago.org/1079273-3/\" rel=\"bookmark\">1079273</a>            </th>            <td>Incident in Police Custody           </td>            <td>                        02-16-2016            </td>            <td>                        09-11-2015 12:22 am</td>        </tr>        <tr>            <th>            <a href=\"http://portal.iprachicago.org/1070681-2/\" rel=\"bookmark\">1070681</a>            </th>            <td>Incident in Police Custody           </td>            <td>                        07-31-2014            </td>            <td>                        07-30-2014 3:00 am</td>        </tr>        <tr>            <th>            <a href=\"http://portal.iprachicago.org/1071168-2/\" rel=\"bookmark\">1071168</a>            </th>            <td>Firearm Discharge           </td>            <td>                        08-24-2014            </td>            <td>                        08-24-2014 8:58 pm</td>        </tr>        <tr>            <th>            <a href=\"http://portal.iprachicago.org/1060762-2/\" rel=\"bookmark\">1060762</a>            </th>            <td>Firearm Discharge           </td>            <td>                        03-16-2013            </td>            <td>                        03-16-2013 2:55 am</td>        </tr>        <tr>            <th>            <a href=\"http://portal.iprachicago.org/1079160-2/\" rel=\"bookmark\">1079160</a>            </th>            <td>Firearm Discharge           </td>            <td>                        02-06-2016            </td>            <td>                        02-06-2016 12:00 pm</td>        </tr>        <tr>            <th>            <a href=\"http://portal.iprachicago.org/1079618-2/\" rel=\"bookmark\">1079618</a>            </th>            <td>Firearm Discharge           </td>            <td>                        03-12-2016            </td>            <td>                        03-12-2016 12:40 am</td>        </tr>        <tr>            <th>            <a href=\"http://portal.iprachicago.org/1058573-2/\" rel=\"bookmark\">1058573</a>            </th>            <td>Firearm Discharge           </td>            <td>                        11-22-2012            </td>            <td>                        11-22-2012 3:55 pm</td>        </tr>        <tr>            <th>            <a href=\"http://portal.iprachicago.org/1079644-2/\" rel=\"bookmark\">1079644</a>            </th>            <td>Firearm Discharge           </td>            <td>                        03-10-2016            </td>            <td>                        03-10-2016 5:55 am</td>        </tr>        <tr>            <th>            <a href=\"http://portal.iprachicago.org/1058279-2/\" rel=\"bookmark\">1058279</a>            </th>            <td>Firearm Discharge           </td>            <td>                        11-08-2012            </td>            <td>                        11-08-2012 3:43 pm</td>        </tr>        <tr>            <th>            <a href=\"http://portal.iprachicago.org/1076261-2/\" rel=\"bookmark\">1076261</a>            </th>            <td>Firearm Discharge           </td>            <td>                        07-22-2015            </td>            <td>                        07-22-2015 1:41 am</td>        </tr>        <tr>            <th>            <a href=\"http://portal.iprachicago.org/1057079-2/\" rel=\"bookmark\">1057079</a>            </th>            <td>Firearm Discharge           </td>            <td>                        09-14-2012            </td>            <td>                        09-14-2012 9:33 pm</td>        </tr>        <tr>            <th>            <a href=\"http://portal.iprachicago.org/1079661-2/\" rel=\"bookmark\">1079661</a>            </th>            <td>Firearm Discharge           </td>            <td>                        03-14-2016            </td>            <td>                        03-14-2016 9:46 pm</td>        </tr>        <tr>            <th>            <a href=\"http://portal.iprachicago.org/1056803-2/\" rel=\"bookmark\">1056803</a>            </th>            <td>Firearm Discharge           </td>            <td>                        09-04-2012            </td>            <td>                        09-04-2012 3:39 am</td>        </tr>        <tr>            <th>            <a href=\"http://portal.iprachicago.org/1078622-2/\" rel=\"bookmark\">1078622</a>            </th>            <td>Firearm Discharge           </td>            <td>                        12-26-2015            </td>            <td>                        12-26-2015 1:30 pm</td>        </tr>        <tr>            <th>            <a href=\"http://portal.iprachicago.org/1078329-2/\" rel=\"bookmark\">1078329</a>            </th>            <td>Incident in Police Custody           </td>            <td>                        12-05-2015            </td>            <td>                        12-13-2012 7:45 am</td>        </tr>        <tr>            <th>            <a href=\"http://portal.iprachicago.org/1076216-2/\" rel=\"bookmark\">1076216</a>            </th>            <td>Firearm Discharge           </td>            <td>                        07-20-2015            </td>            <td>                        07-20-2015 4:01 am</td>        </tr>        <tr>            <th>            <a href=\"http://portal.iprachicago.org/1056252-2/\" rel=\"bookmark\">1056252</a>            </th>            <td>Firearm Discharge           </td>            <td>                        08-11-2012            </td>            <td>                        08-11-2012 9:51 pm</td>        </tr>        <tr>            <th>            <a href=\"http://portal.iprachicago.org/1053667-2/\" rel=\"bookmark\">1053667</a>            </th>            <td>Firearm Discharge           </td>            <td>                        04-30-2012            </td>            <td>                        04-30-2012 2:51 am</td>        </tr>        <tr>            <th>            <a href=\"http://portal.iprachicago.org/1044336-2/\" rel=\"bookmark\">1044336</a>            </th>            <td>Firearm Discharge           </td>            <td>                        03-29-2011            </td>            <td>                        03-29-2011 7:48 am</td>        </tr>        <tr>            <th>            <a href=\"http://portal.iprachicago.org/1077477-2/\" rel=\"bookmark\">1077477</a>            </th>            <td>Other Use Of Force           </td>            <td>                        10-07-2015            </td>            <td>                        10-07-2015 3:40 am</td>        </tr></tbody></table>'"
      ]
     },
     "execution_count": 7,
     "metadata": {},
     "output_type": "execute_result"
    }
   ],
   "source": [
    "content = re.sub(r'\\n','',content)\n",
    "content = re.sub(r'\\t','',content)\n",
    "content"
   ]
  },
  {
   "cell_type": "code",
   "execution_count": 8,
   "metadata": {
    "collapsed": false
   },
   "outputs": [],
   "source": [
    "soup = BeautifulSoup(content, 'html.parser')"
   ]
  },
  {
   "cell_type": "code",
   "execution_count": 9,
   "metadata": {
    "collapsed": false
   },
   "outputs": [
    {
     "data": {
      "text/plain": [
       "<div class=\"dynamic-search-loading-container\"><div class=\"loading-animation\"><img alt=\"Loading\" src=\"http://portal.iprachicago.org/wp-content/themes/ipra/img/loadbar.gif\"/></div></div><table class=\"table table-striped\" id=\"ipra-case-search-data-table\"> <thead> <tr> <th>Log#</th> <th>Incident Types</th> <th>IPRA Notification Date</th> <th>Incident Date &amp; Time</th> </tr> </thead> <tbody> <tr> <th> <a href=\"http://portal.iprachicago.org/1062377-2/\" rel=\"bookmark\">1062377</a> </th> <td>Incident in Police Custody           </td> <td>                        05-21-2013            </td> <td>                        05-13-2013 11:00 pm</td> </tr> <tr> <th> <a href=\"http://portal.iprachicago.org/1066371-2/\" rel=\"bookmark\">1066371</a> </th> <td>Incident in Police Custody           </td> <td>                        12-02-2013            </td> <td>                        07-25-2013 10:04 pm</td> </tr> <tr> <th> <a href=\"http://portal.iprachicago.org/1080615-2/\" rel=\"bookmark\">1080615</a> </th> <td>Firearm Discharge           </td> <td>                        05-21-2016            </td> <td>                        05-21-2016 10:19 pm</td> </tr> <tr> <th> <a href=\"http://portal.iprachicago.org/1045673-2/\" rel=\"bookmark\">1045673</a> </th> <td>Firearm Discharge           </td> <td>                        05-25-2011            </td> <td>                        05-25-2011 10:30 pm</td> </tr> <tr> <th> <a href=\"http://portal.iprachicago.org/1080505-2/\" rel=\"bookmark\">1080505</a> </th> <td>Firearm Discharge           </td> <td>                        05-12-2016            </td> <td>                        05-12-2016 12:00 pm</td> </tr> <tr> <th> <a href=\"http://portal.iprachicago.org/1080476-2/\" rel=\"bookmark\">1080476</a> </th> <td>Firearm Discharge           </td> <td>                        05-11-2016            </td> <td>                        05-10-2016 10:41 pm</td> </tr> <tr> <th> <a href=\"http://portal.iprachicago.org/1080449-2/\" rel=\"bookmark\">1080449</a> </th> <td>Firearm Discharge           </td> <td>                        05-09-2016            </td> <td>                        05-09-2016 11:00 pm</td> </tr> <tr> <th> <a href=\"http://portal.iprachicago.org/1078435-2/\" rel=\"bookmark\">1078435</a> </th> <td>Taser Discharge           </td> <td>                        12-14-2015            </td> <td>                        12-08-2015 1:09 pm</td> </tr> <tr> <th> <a href=\"http://portal.iprachicago.org/1080437-2/\" rel=\"bookmark\">1080437</a> </th> <td>Incident in Police Custody           </td> <td>                        05-07-2016            </td> <td>                        05-07-2016 3:03 pm</td> </tr> <tr> <th> <a href=\"http://portal.iprachicago.org/1080417-2/\" rel=\"bookmark\">1080417</a> </th> <td>Firearm Discharge           </td> <td>                        05-06-2016            </td> <td>                        05-06-2016 9:32 am</td> </tr> <tr> <th> <a href=\"http://portal.iprachicago.org/1080395-2/\" rel=\"bookmark\">1080395</a> </th> <td>Taser Discharge           </td> <td>                        05-04-2016            </td> <td>                        05-04-2016 1:06 pm</td> </tr> <tr> <th> <a href=\"http://portal.iprachicago.org/1074294-2/\" rel=\"bookmark\">1074294</a> </th> <td>Incident in Police Custody           </td> <td>                        03-19-2015            </td> <td>                        03-17-2015 10:38 pm</td> </tr> <tr> <th> <a href=\"http://portal.iprachicago.org/1074270-2/\" rel=\"bookmark\">1074270</a> </th> <td>Incident in Police Custody           </td> <td>                        03-18-2015            </td> <td>                        03-04-2015 4:45 pm</td> </tr> <tr> <th> <a href=\"http://portal.iprachicago.org/1080972-2/\" rel=\"bookmark\">1080972</a> </th> <td>Incident in Police Custody           </td> <td>                        06-13-2016            </td> <td>                        06-13-2016 3:30 pm</td> </tr> <tr> <th> <a href=\"http://portal.iprachicago.org/1080144-2/\" rel=\"bookmark\">1080144</a> </th> <td>Firearm Discharge           </td> <td>                        04-15-2016            </td> <td>                        04-15-2016 10:27 pm</td> </tr> <tr> <th> <a href=\"http://portal.iprachicago.org/1080064-2/\" rel=\"bookmark\">1080064</a> </th> <td>Incident in Police Custody           </td> <td>                        04-11-2016            </td> <td>                        04-11-2016 7:43 pm</td> </tr> <tr> <th> <a href=\"http://portal.iprachicago.org/1080018-2/\" rel=\"bookmark\">1080018</a> </th> <td>Incident in Police Custody           </td> <td>                        04-08-2016            </td> <td>                        04-07-2016 6:49 pm</td> </tr> <tr> <th> <a href=\"http://portal.iprachicago.org/1079080-2/\" rel=\"bookmark\">1079080</a> </th> <td>Firearm Discharge           </td> <td>                        01-31-2016            </td> <td>                        01-31-2016 4:25 am</td> </tr> <tr> <th> <a href=\"http://portal.iprachicago.org/1052816-2/\" rel=\"bookmark\">1052816</a> </th> <td>Firearm Discharge           </td> <td>                        03-24-2012            </td> <td>                        03-23-2012 11:05 pm</td> </tr> <tr> <th> <a href=\"http://portal.iprachicago.org/1052578-2/\" rel=\"bookmark\">1052578</a> </th> <td>Firearm Discharge           </td> <td>                        03-14-2012            </td> <td>                        03-14-2012 8:32 pm</td> </tr> <tr> <th> <a href=\"http://portal.iprachicago.org/1045950-2/\" rel=\"bookmark\">1045950</a> </th> <td>Firearm Discharge           </td> <td>                        06-07-2011            </td> <td>                        06-07-2011 1:48 am</td> </tr> <tr> <th> <a href=\"http://portal.iprachicago.org/1076204-2/\" rel=\"bookmark\">1076204</a> </th> <td>Firearm Discharge           </td> <td>                        07-19-2015            </td> <td>                        07-19-2015 3:56 am</td> </tr> <tr> <th> <a href=\"http://portal.iprachicago.org/1076081-2/\" rel=\"bookmark\">1076081</a> </th> <td>Firearm Discharge           </td> <td>                        07-10-2015            </td> <td>                        07-10-2015 4:03 pm</td> </tr> <tr> <th> <a href=\"http://portal.iprachicago.org/1076072-2/\" rel=\"bookmark\">1076072</a> </th> <td>Firearm Discharge           </td> <td>                        07-10-2015            </td> <td>                        07-09-2015 11:34 pm</td> </tr> <tr> <th> <a href=\"http://portal.iprachicago.org/1050919-2/\" rel=\"bookmark\">1050919</a> </th> <td>Firearm Discharge           </td> <td>                        12-28-2011            </td> <td>                        12-28-2011 1:42 am</td> </tr> <tr> <th> <a href=\"http://portal.iprachicago.org/1075770-2/\" rel=\"bookmark\">1075770</a> </th> <td>Firearm Discharge           </td> <td>                        06-20-2015            </td> <td>                        06-20-2015 12:10 am</td> </tr> <tr> <th> <a href=\"http://portal.iprachicago.org/1042532-2/\" rel=\"bookmark\">1042532</a> </th> <td>Firearm Discharge           </td> <td>                        01-07-2011            </td> <td>                        01-07-2011 1:33 am</td> </tr> <tr> <th> <a href=\"http://portal.iprachicago.org/1071524-2/\" rel=\"bookmark\">1071524</a> </th> <td>Firearm Discharge           </td> <td>                        09-13-2014            </td> <td>                        09-13-2014 10:12 pm</td> </tr> <tr> <th> <a href=\"http://portal.iprachicago.org/1042469-2/\" rel=\"bookmark\">1042469</a> </th> <td>Firearm Discharge           </td> <td>                        01-04-2011            </td> <td>                        01-04-2011 9:35 pm</td> </tr> <tr> <th> <a href=\"http://portal.iprachicago.org/1078178-2/\" rel=\"bookmark\">1078178</a> </th> <td>Incident in Police Custody           </td> <td>                        11-24-2015            </td> <td>                        11-21-2015 10:05 pm</td> </tr> <tr> <th> <a href=\"http://portal.iprachicago.org/1072342-2/\" rel=\"bookmark\">1072342</a> </th> <td>Firearm Discharge           </td> <td>                        11-01-2014            </td> <td>                        11-01-2014 8:22 pm</td> </tr> <tr> <th> <a href=\"http://portal.iprachicago.org/1070445-2/\" rel=\"bookmark\">1070445</a> </th> <td>Firearm Discharge           </td> <td>                        07-19-2014            </td> <td>                        07-19-2014 6:10 am</td> </tr> <tr> <th> <a href=\"http://portal.iprachicago.org/1077051-2/\" rel=\"bookmark\">1077051</a> </th> <td>Incident in Police Custody           </td> <td>                        09-08-2015            </td> <td>                        09-04-2015 4:20 pm</td> </tr> <tr> <th> <a href=\"http://portal.iprachicago.org/1076980-2/\" rel=\"bookmark\">1076980</a> </th> <td>Incident in Police Custody           </td> <td>                        09-02-2015            </td> <td>                        09-02-2015 7:51 pm</td> </tr> <tr> <th> <a href=\"http://portal.iprachicago.org/1079728-2/\" rel=\"bookmark\">1079728</a> </th> <td>Firearm Discharge           </td> <td>                        03-19-2016            </td> <td>                        03-19-2016 9:30 pm</td> </tr> <tr> <th> <a href=\"http://portal.iprachicago.org/1074934-2/\" rel=\"bookmark\">1074934</a> </th> <td>Firearm Discharge           </td> <td>                        05-01-2015            </td> <td>                        05-01-2015 3:25 am</td> </tr> <tr> <th> <a href=\"http://portal.iprachicago.org/1070168-2/\" rel=\"bookmark\">1070168</a> </th> <td>Firearm Discharge           </td> <td>                        07-05-2014            </td> <td>                        07-05-2014 6:40 pm</td> </tr> <tr> <th> <a href=\"http://portal.iprachicago.org/1074736-2/\" rel=\"bookmark\">1074736</a> </th> <td>Firearm Discharge           </td> <td>                        04-17-2015            </td> <td>                        04-17-2015 10:53 pm</td> </tr> <tr> <th> <a href=\"http://portal.iprachicago.org/1070148-2/\" rel=\"bookmark\">1070148</a> </th> <td>Firearm Discharge           </td> <td>                        07-04-2014            </td> <td>                        07-04-2014 9:53 pm</td> </tr> <tr> <th> <a href=\"http://portal.iprachicago.org/1074534-2/\" rel=\"bookmark\">1074534</a> </th> <td>Firearm Discharge           </td> <td>                        04-04-2015            </td> <td>                        04-04-2015 4:19 pm</td> </tr> <tr> <th> <a href=\"http://portal.iprachicago.org/1069981-2/\" rel=\"bookmark\">1069981</a> </th> <td>Firearm Discharge           </td> <td>                        06-24-2014            </td> <td>                        06-24-2014 6:23 pm</td> </tr> <tr> <th> <a href=\"http://portal.iprachicago.org/1069721-2/\" rel=\"bookmark\">1069721</a> </th> <td>Firearm Discharge           </td> <td>                        06-11-2014            </td> <td>                        06-10-2014 11:46 pm</td> </tr> <tr> <th> <a href=\"http://portal.iprachicago.org/1073787-2/\" rel=\"bookmark\">1073787</a> </th> <td>Firearm Discharge           </td> <td>                        02-14-2015            </td> <td>                        02-14-2015 12:29 am</td> </tr> <tr> <th> <a href=\"http://portal.iprachicago.org/1073710-2/\" rel=\"bookmark\">1073710</a> </th> <td>Firearm Discharge           </td> <td>                        02-09-2015            </td> <td>                        02-09-2015 3:30 am</td> </tr> <tr> <th> <a href=\"http://portal.iprachicago.org/1069058-2/\" rel=\"bookmark\">1069058</a> </th> <td>Incident in Police Custody           </td> <td>                        05-09-2014            </td> <td>                        05-07-2014 12:17 am</td> </tr> <tr> <th> <a href=\"http://portal.iprachicago.org/1073693-2/\" rel=\"bookmark\">1073693</a> </th> <td>Firearm Discharge           </td> <td>                        02-07-2015            </td> <td>                        02-07-2015 2:46 pm</td> </tr> <tr> <th> <a href=\"http://portal.iprachicago.org/1073105-2/\" rel=\"bookmark\">1073105</a> </th> <td>Firearm Discharge           </td> <td>                        12-25-2014            </td> <td>                        12-25-2014 6:41 pm</td> </tr> <tr> <th> <a href=\"http://portal.iprachicago.org/1079743-2/\" rel=\"bookmark\">1079743</a> </th> <td>Incident in Police Custody           </td> <td>                        03-21-2016            </td> <td>                        03-21-2016 2:30 am</td> </tr> <tr> <th> <a href=\"http://portal.iprachicago.org/1076844-2/\" rel=\"bookmark\">1076844</a> </th> <td>Incident in Police Custody           </td> <td>                        08-24-2015            </td> <td>                        08-22-2015 11:45 am</td> </tr> <tr> <th> <a href=\"http://portal.iprachicago.org/1069651-2/\" rel=\"bookmark\">1069651</a> </th> <td>Firearm Discharge           </td> <td>                        06-07-2014            </td> <td>                        06-06-2014 11:28 pm</td> </tr> <tr> <th> <a href=\"http://portal.iprachicago.org/1078530-2/\" rel=\"bookmark\">1078530</a> </th> <td>Firearm Discharge           </td> <td>                        12-20-2015            </td> <td>                        12-20-2015 10:37 am</td> </tr> <tr> <th> <a href=\"http://portal.iprachicago.org/1076808-2/\" rel=\"bookmark\">1076808</a> </th> <td>Incident in Police Custody           </td> <td>                        08-21-2015            </td> <td>                        03-19-2015 5:09 am</td> </tr> <tr> <th> <a href=\"http://portal.iprachicago.org/1078616-2/\" rel=\"bookmark\">1078616</a> </th> <td>Firearm Discharge           </td> <td>                        12-26-2015            </td> <td>                        12-26-2015 4:25 am</td> </tr> <tr> <th> <a href=\"http://portal.iprachicago.org/1068271-2/\" rel=\"bookmark\">1068271</a> </th> <td>Firearm Discharge           </td> <td>                        03-29-2014            </td> <td>                        03-29-2014 8:49 pm</td> </tr> <tr> <th> <a href=\"http://portal.iprachicago.org/1078413-2/\" rel=\"bookmark\">1078413</a> </th> <td>Firearm Discharge           </td> <td>                        12-12-2015            </td> <td>                        12-12-2015 6:09 am</td> </tr> <tr> <th> <a href=\"http://portal.iprachicago.org/1068101-2/\" rel=\"bookmark\">1068101</a> </th> <td>Firearm Discharge           </td> <td>                        03-20-2014            </td> <td>                        03-20-2014 6:42 pm</td> </tr> <tr> <th> <a href=\"http://portal.iprachicago.org/1066296-2/\" rel=\"bookmark\">1066296</a> </th> <td>Incident in Police Custody           </td> <td>                        11-26-2013            </td> <td>                        11-25-2013 7:55 pm</td> </tr> <tr> <th> <a href=\"http://portal.iprachicago.org/1077848-2/\" rel=\"bookmark\">1077848</a> </th> <td>Firearm Discharge           </td> <td>                        10-31-2015            </td> <td>                        10-31-2015 1:26 am</td> </tr> <tr> <th> <a href=\"http://portal.iprachicago.org/1076618-2/\" rel=\"bookmark\">1076618</a> </th> <td>Incident in Police Custody           </td> <td>                        08-10-2015            </td> <td>                        03-23-2014 10:11 pm</td> </tr> <tr> <th> <a href=\"http://portal.iprachicago.org/1068046-2/\" rel=\"bookmark\">1068046</a> </th> <td>Firearm Discharge           </td> <td>                        03-17-2014            </td> <td>                        03-17-2014 9:51 pm</td> </tr> <tr> <th> <a href=\"http://portal.iprachicago.org/1077428-2/\" rel=\"bookmark\">1077428</a> </th> <td>Firearm Discharge           </td> <td>                        10-04-2015            </td> <td>                        10-04-2015 8:27 am</td> </tr> <tr> <th> <a href=\"http://portal.iprachicago.org/1076214-2/\" rel=\"bookmark\">1076214</a> </th> <td>Incident in Police Custody           </td> <td>                        07-20-2015            </td> <td>                        07-20-2015 1:15 am</td> </tr> <tr> <th> <a href=\"http://portal.iprachicago.org/1067572-2/\" rel=\"bookmark\">1067572</a> </th> <td>Firearm Discharge           </td> <td>                        02-18-2014            </td> <td>                        02-18-2014 12:00 am</td> </tr> <tr> <th> <a href=\"http://portal.iprachicago.org/1078789-2/\" rel=\"bookmark\">1078789</a> </th> <td>Firearm Discharge           </td> <td>                        01-07-2016            </td> <td>                        01-07-2016 10:27 pm</td> </tr> <tr> <th> <a href=\"http://portal.iprachicago.org/1075866-2/\" rel=\"bookmark\">1075866</a> </th> <td>Incident in Police Custody           </td> <td>                        06-26-2015            </td> <td>                        08-27-2013 12:00 am</td> </tr> <tr> <th> <a href=\"http://portal.iprachicago.org/1077396-2/\" rel=\"bookmark\">1077396</a> </th> <td>Firearm Discharge           </td> <td>                        10-01-2015            </td> <td>                        10-01-2015 6:31 pm</td> </tr> <tr> <th> <a href=\"http://portal.iprachicago.org/1072859-2/\" rel=\"bookmark\">1072859</a> </th> <td>Firearm Discharge           </td> <td>                        12-07-2014            </td> <td>                        12-07-2014 6:27 pm</td> </tr> <tr> <th> <a href=\"http://portal.iprachicago.org/1066725-2/\" rel=\"bookmark\">1066725</a> </th> <td>Firearm Discharge           </td> <td>                        12-22-2013            </td> <td>                        12-22-2013 5:06 pm</td> </tr> <tr> <th> <a href=\"http://portal.iprachicago.org/1077328-2/\" rel=\"bookmark\">1077328</a> </th> <td>Firearm Discharge           </td> <td>                        09-25-2015            </td> <td>                        09-25-2015 8:53 pm</td> </tr> <tr> <th> <a href=\"http://portal.iprachicago.org/1075692-2/\" rel=\"bookmark\">1075692</a> </th> <td>Incident in Police Custody           </td> <td>                        06-16-2015            </td> <td>                        06-16-2015 12:20 am</td> </tr> <tr> <th> <a href=\"http://portal.iprachicago.org/1078952-2/\" rel=\"bookmark\">1078952</a> </th> <td>Firearm Discharge           </td> <td>                        01-21-2016            </td> <td>                        12-29-2015 2:40 am</td> </tr> <tr> <th> <a href=\"http://portal.iprachicago.org/1072855-2/\" rel=\"bookmark\">1072855</a> </th> <td>Firearm Discharge           </td> <td>                        12-07-2014            </td> <td>                        12-06-2014 10:49 pm</td> </tr> <tr> <th> <a href=\"http://portal.iprachicago.org/1065714-2/\" rel=\"bookmark\">1065714</a> </th> <td>Firearm Discharge           </td> <td>                        10-24-2013            </td> <td>                        10-24-2013 6:40 pm</td> </tr> <tr> <th> <a href=\"http://portal.iprachicago.org/1072297-2/\" rel=\"bookmark\">1072297</a> </th> <td>Firearm Discharge           </td> <td>                        10-30-2014            </td> <td>                        10-29-2014 11:03 pm</td> </tr> <tr> <th> <a href=\"http://portal.iprachicago.org/1075655-2/\" rel=\"bookmark\">1075655</a> </th> <td>Incident in Police Custody           </td> <td>                        06-13-2015            </td> <td>                        06-13-2015 4:20 am</td> </tr> <tr> <th> <a href=\"http://portal.iprachicago.org/1049286-2/\" rel=\"bookmark\">1049286</a> </th> <td>Incident in Police Custody           </td> <td>                        10-13-2011            </td> <td>                        10-13-2011 12:17 am</td> </tr> <tr> <th> <a href=\"http://portal.iprachicago.org/1077146-2/\" rel=\"bookmark\">1077146</a> </th> <td>Firearm Discharge           </td> <td>                        09-14-2015            </td> <td>                        09-14-2015 9:38 pm</td> </tr> <tr> <th> <a href=\"http://portal.iprachicago.org/1075069-2/\" rel=\"bookmark\">1075069</a> </th> <td>Incident in Police Custody           </td> <td>                        05-08-2015            </td> <td>                        05-08-2015 3:05 am</td> </tr> <tr> <th> <a href=\"http://portal.iprachicago.org/1074984-2/\" rel=\"bookmark\">1074984</a> </th> <td>Incident in Police Custody           </td> <td>                        05-04-2015            </td> <td>                        05-03-2015 10:30 pm</td> </tr> <tr> <th> <a href=\"http://portal.iprachicago.org/1065582-2/\" rel=\"bookmark\">1065582</a> </th> <td>Firearm Discharge           </td> <td>                        10-18-2013            </td> <td>                        10-18-2013 1:10 am</td> </tr> <tr> <th> <a href=\"http://portal.iprachicago.org/1076922-2/\" rel=\"bookmark\">1076922</a> </th> <td>Firearm Discharge           </td> <td>                        08-29-2015            </td> <td>                        08-29-2015 1:30 am</td> </tr> <tr> <th> <a href=\"http://portal.iprachicago.org/1074962-2/\" rel=\"bookmark\">1074962</a> </th> <td>Incident in Police Custody           </td> <td>                        05-02-2015            </td> <td>                        04-30-2015 2:00 am</td> </tr> <tr> <th> <a href=\"http://portal.iprachicago.org/1069633-2/\" rel=\"bookmark\">1069633</a> </th> <td>Other Use Of Force           </td> <td>                        06-06-2014            </td> <td>                        06-03-2014 11:16 pm</td> </tr> <tr> <th> <a href=\"http://portal.iprachicago.org/1063442-2/\" rel=\"bookmark\">1063442</a> </th> <td>Firearm Discharge           </td> <td>                        07-11-2013            </td> <td>                        07-11-2013 1:05 pm</td> </tr> <tr> <th> <a href=\"http://portal.iprachicago.org/1074111-2/\" rel=\"bookmark\">1074111</a> </th> <td>Incident in Police Custody           </td> <td>                        03-09-2015            </td> <td>                        03-09-2015 9:45 pm</td> </tr> <tr> <th> <a href=\"http://portal.iprachicago.org/1076815-2/\" rel=\"bookmark\">1076815</a> </th> <td>Firearm Discharge           </td> <td>                        08-21-2015            </td> <td>                        08-21-2015 7:28 pm</td> </tr> <tr> <th> <a href=\"http://portal.iprachicago.org/1076797-2/\" rel=\"bookmark\">1076797</a> </th> <td>Firearm Discharge           </td> <td>                        08-20-2015            </td> <td>                        08-20-2015 10:25 pm</td> </tr> <tr> <th> <a href=\"http://portal.iprachicago.org/1063127-2/\" rel=\"bookmark\">1063127</a> </th> <td>Firearm Discharge           </td> <td>                        06-26-2013            </td> <td>                        06-26-2013 12:09 am</td> </tr> <tr> <th> <a href=\"http://portal.iprachicago.org/1076714-2/\" rel=\"bookmark\">1076714</a> </th> <td>Firearm Discharge           </td> <td>                        08-15-2015            </td> <td>                        08-15-2015 7:48 pm</td> </tr> <tr> <th> <a href=\"http://portal.iprachicago.org/1073789-2/\" rel=\"bookmark\">1073789</a> </th> <td>Incident in Police Custody           </td> <td>                        02-14-2015            </td> <td>                        02-14-2015 3:22 am</td> </tr> <tr> <th> <a href=\"http://portal.iprachicago.org/1061883-2/\" rel=\"bookmark\">1061883</a> </th> <td>Firearm Discharge           </td> <td>                        04-30-2013            </td> <td>                        04-30-2013 9:30 pm</td> </tr> <tr> <th> <a href=\"http://portal.iprachicago.org/1076425-2/\" rel=\"bookmark\">1076425</a> </th> <td>Firearm Discharge           </td> <td>                        07-30-2015            </td> <td>                        07-30-2015 3:15 am</td> </tr> <tr> <th> <a href=\"http://portal.iprachicago.org/1060844-2/\" rel=\"bookmark\">1060844</a> </th> <td>Firearm Discharge           </td> <td>                        03-19-2013            </td> <td>                        03-19-2013 9:50 pm</td> </tr> <tr> <th> <a href=\"http://portal.iprachicago.org/1073410-2/\" rel=\"bookmark\">1073410</a> </th> <td>Incident in Police Custody           </td> <td>                        01-18-2015            </td> <td>                        01-18-2015 4:55 am</td> </tr> <tr> <th> <a href=\"http://portal.iprachicago.org/1076367-2/\" rel=\"bookmark\">1076367</a> </th> <td>Firearm Discharge           </td> <td>                        07-27-2015            </td> <td>                        07-27-2015 5:00 pm</td> </tr> <tr> <th> <a href=\"http://portal.iprachicago.org/1071635-2/\" rel=\"bookmark\">1071635</a> </th> <td>Incident in Police Custody           </td> <td>                        09-20-2014            </td> <td>                        09-20-2014 6:18 pm</td> </tr> <tr> <th> <a href=\"http://portal.iprachicago.org/1071970-2/\" rel=\"bookmark\">1071970</a> </th> <td>Firearm Discharge           </td> <td>                        10-12-2014            </td> <td>                        10-12-2014 12:35 am</td> </tr> <tr> <th> <a href=\"http://portal.iprachicago.org/1071320-2/\" rel=\"bookmark\">1071320</a> </th> <td>Incident in Police Custody           </td> <td>                        09-02-2014            </td> <td>                        07-12-2014 10:30 pm</td> </tr> <tr> <th> <a href=\"http://portal.iprachicago.org/1079273-3/\" rel=\"bookmark\">1079273</a> </th> <td>Incident in Police Custody           </td> <td>                        02-16-2016            </td> <td>                        09-11-2015 12:22 am</td> </tr> <tr> <th> <a href=\"http://portal.iprachicago.org/1070681-2/\" rel=\"bookmark\">1070681</a> </th> <td>Incident in Police Custody           </td> <td>                        07-31-2014            </td> <td>                        07-30-2014 3:00 am</td> </tr> <tr> <th> <a href=\"http://portal.iprachicago.org/1071168-2/\" rel=\"bookmark\">1071168</a> </th> <td>Firearm Discharge           </td> <td>                        08-24-2014            </td> <td>                        08-24-2014 8:58 pm</td> </tr> <tr> <th> <a href=\"http://portal.iprachicago.org/1060762-2/\" rel=\"bookmark\">1060762</a> </th> <td>Firearm Discharge           </td> <td>                        03-16-2013            </td> <td>                        03-16-2013 2:55 am</td> </tr> <tr> <th> <a href=\"http://portal.iprachicago.org/1079160-2/\" rel=\"bookmark\">1079160</a> </th> <td>Firearm Discharge           </td> <td>                        02-06-2016            </td> <td>                        02-06-2016 12:00 pm</td> </tr> <tr> <th> <a href=\"http://portal.iprachicago.org/1079618-2/\" rel=\"bookmark\">1079618</a> </th> <td>Firearm Discharge           </td> <td>                        03-12-2016            </td> <td>                        03-12-2016 12:40 am</td> </tr> <tr> <th> <a href=\"http://portal.iprachicago.org/1058573-2/\" rel=\"bookmark\">1058573</a> </th> <td>Firearm Discharge           </td> <td>                        11-22-2012            </td> <td>                        11-22-2012 3:55 pm</td> </tr> <tr> <th> <a href=\"http://portal.iprachicago.org/1079644-2/\" rel=\"bookmark\">1079644</a> </th> <td>Firearm Discharge           </td> <td>                        03-10-2016            </td> <td>                        03-10-2016 5:55 am</td> </tr> <tr> <th> <a href=\"http://portal.iprachicago.org/1058279-2/\" rel=\"bookmark\">1058279</a> </th> <td>Firearm Discharge           </td> <td>                        11-08-2012            </td> <td>                        11-08-2012 3:43 pm</td> </tr> <tr> <th> <a href=\"http://portal.iprachicago.org/1076261-2/\" rel=\"bookmark\">1076261</a> </th> <td>Firearm Discharge           </td> <td>                        07-22-2015            </td> <td>                        07-22-2015 1:41 am</td> </tr> <tr> <th> <a href=\"http://portal.iprachicago.org/1057079-2/\" rel=\"bookmark\">1057079</a> </th> <td>Firearm Discharge           </td> <td>                        09-14-2012            </td> <td>                        09-14-2012 9:33 pm</td> </tr> <tr> <th> <a href=\"http://portal.iprachicago.org/1079661-2/\" rel=\"bookmark\">1079661</a> </th> <td>Firearm Discharge           </td> <td>                        03-14-2016            </td> <td>                        03-14-2016 9:46 pm</td> </tr> <tr> <th> <a href=\"http://portal.iprachicago.org/1056803-2/\" rel=\"bookmark\">1056803</a> </th> <td>Firearm Discharge           </td> <td>                        09-04-2012            </td> <td>                        09-04-2012 3:39 am</td> </tr> <tr> <th> <a href=\"http://portal.iprachicago.org/1078622-2/\" rel=\"bookmark\">1078622</a> </th> <td>Firearm Discharge           </td> <td>                        12-26-2015            </td> <td>                        12-26-2015 1:30 pm</td> </tr> <tr> <th> <a href=\"http://portal.iprachicago.org/1078329-2/\" rel=\"bookmark\">1078329</a> </th> <td>Incident in Police Custody           </td> <td>                        12-05-2015            </td> <td>                        12-13-2012 7:45 am</td> </tr> <tr> <th> <a href=\"http://portal.iprachicago.org/1076216-2/\" rel=\"bookmark\">1076216</a> </th> <td>Firearm Discharge           </td> <td>                        07-20-2015            </td> <td>                        07-20-2015 4:01 am</td> </tr> <tr> <th> <a href=\"http://portal.iprachicago.org/1056252-2/\" rel=\"bookmark\">1056252</a> </th> <td>Firearm Discharge           </td> <td>                        08-11-2012            </td> <td>                        08-11-2012 9:51 pm</td> </tr> <tr> <th> <a href=\"http://portal.iprachicago.org/1053667-2/\" rel=\"bookmark\">1053667</a> </th> <td>Firearm Discharge           </td> <td>                        04-30-2012            </td> <td>                        04-30-2012 2:51 am</td> </tr> <tr> <th> <a href=\"http://portal.iprachicago.org/1044336-2/\" rel=\"bookmark\">1044336</a> </th> <td>Firearm Discharge           </td> <td>                        03-29-2011            </td> <td>                        03-29-2011 7:48 am</td> </tr> <tr> <th> <a href=\"http://portal.iprachicago.org/1077477-2/\" rel=\"bookmark\">1077477</a> </th> <td>Other Use Of Force           </td> <td>                        10-07-2015            </td> <td>                        10-07-2015 3:40 am</td> </tr></tbody></table>"
      ]
     },
     "execution_count": 9,
     "metadata": {},
     "output_type": "execute_result"
    }
   ],
   "source": [
    "soup"
   ]
  },
  {
   "cell_type": "code",
   "execution_count": 10,
   "metadata": {
    "collapsed": false
   },
   "outputs": [],
   "source": [
    "table = soup.find('table', attrs={'id':'ipra-case-search-data-table'})\n",
    "\n",
    "rows = table.find_all('tr')"
   ]
  },
  {
   "cell_type": "code",
   "execution_count": 11,
   "metadata": {
    "collapsed": false
   },
   "outputs": [
    {
     "data": {
      "text/plain": [
       "<tr> <th>Log#</th> <th>Incident Types</th> <th>IPRA Notification Date</th> <th>Incident Date &amp; Time</th> </tr>"
      ]
     },
     "execution_count": 11,
     "metadata": {},
     "output_type": "execute_result"
    }
   ],
   "source": [
    "rows[0]"
   ]
  },
  {
   "cell_type": "code",
   "execution_count": 12,
   "metadata": {
    "collapsed": false
   },
   "outputs": [
    {
     "data": {
      "text/plain": [
       "<tr> <th> <a href=\"http://portal.iprachicago.org/1062377-2/\" rel=\"bookmark\">1062377</a> </th> <td>Incident in Police Custody           </td> <td>                        05-21-2013            </td> <td>                        05-13-2013 11:00 pm</td> </tr>"
      ]
     },
     "execution_count": 12,
     "metadata": {},
     "output_type": "execute_result"
    }
   ],
   "source": [
    "rows[1]"
   ]
  },
  {
   "cell_type": "code",
   "execution_count": 13,
   "metadata": {
    "collapsed": false
   },
   "outputs": [
    {
     "data": {
      "text/plain": [
       "'1062377'"
      ]
     },
     "execution_count": 13,
     "metadata": {},
     "output_type": "execute_result"
    }
   ],
   "source": [
    "rows[1].find('th').find('a').string"
   ]
  },
  {
   "cell_type": "code",
   "execution_count": 14,
   "metadata": {
    "collapsed": false
   },
   "outputs": [
    {
     "data": {
      "text/plain": [
       "'http://portal.iprachicago.org/1062377-2/'"
      ]
     },
     "execution_count": 14,
     "metadata": {},
     "output_type": "execute_result"
    }
   ],
   "source": [
    "rows[1].find('th').find('a').get('href')"
   ]
  },
  {
   "cell_type": "code",
   "execution_count": 15,
   "metadata": {
    "collapsed": false
   },
   "outputs": [
    {
     "data": {
      "text/plain": [
       "[<td>Incident in Police Custody           </td>,\n",
       " <td>                        05-21-2013            </td>,\n",
       " <td>                        05-13-2013 11:00 pm</td>]"
      ]
     },
     "execution_count": 15,
     "metadata": {},
     "output_type": "execute_result"
    }
   ],
   "source": [
    "tdlist = rows[1].find_all('td')\n",
    "tdlist"
   ]
  },
  {
   "cell_type": "code",
   "execution_count": 16,
   "metadata": {
    "collapsed": false
   },
   "outputs": [
    {
     "data": {
      "text/plain": [
       "'05-13-2013 11:00 pm'"
      ]
     },
     "execution_count": 16,
     "metadata": {},
     "output_type": "execute_result"
    }
   ],
   "source": [
    "tdlist[2].string.strip()"
   ]
  },
  {
   "cell_type": "code",
   "execution_count": 17,
   "metadata": {
    "collapsed": false
   },
   "outputs": [
    {
     "data": {
      "text/plain": [
       "119"
      ]
     },
     "execution_count": 17,
     "metadata": {},
     "output_type": "execute_result"
    }
   ],
   "source": [
    "len(rows)"
   ]
  },
  {
   "cell_type": "code",
   "execution_count": 18,
   "metadata": {
    "collapsed": false
   },
   "outputs": [],
   "source": [
    "data = {'records' : {},\n",
    "       'scraped_date_time' : dt.datetime.now().isoformat()}\n",
    "for row in rows[1:]:\n",
    "    \n",
    "    th = row.find('th')\n",
    "    logno = th.find('a').string.strip()\n",
    "    \n",
    "    record = {}\n",
    "    record['record_url'] = th.find('a').get('href').strip()\n",
    "    \n",
    "    tdlist = row.find_all('td')\n",
    "    \n",
    "    record['incident_type'] = tdlist[0].string.strip()\n",
    "    record['ipra_notification_date'] = tdlist[1].string.strip()\n",
    "    record['incident_date_time'] = tdlist[2].string.strip()\n",
    "    \n",
    "    data['records'][logno] = record"
   ]
  },
  {
   "cell_type": "code",
   "execution_count": 19,
   "metadata": {
    "collapsed": false
   },
   "outputs": [
    {
     "data": {
      "text/plain": [
       "{'1042469': {'incident_date_time': '01-04-2011 9:35 pm',\n",
       "  'incident_type': 'Firearm Discharge',\n",
       "  'ipra_notification_date': '01-04-2011',\n",
       "  'record_url': 'http://portal.iprachicago.org/1042469-2/'},\n",
       " '1042532': {'incident_date_time': '01-07-2011 1:33 am',\n",
       "  'incident_type': 'Firearm Discharge',\n",
       "  'ipra_notification_date': '01-07-2011',\n",
       "  'record_url': 'http://portal.iprachicago.org/1042532-2/'},\n",
       " '1044336': {'incident_date_time': '03-29-2011 7:48 am',\n",
       "  'incident_type': 'Firearm Discharge',\n",
       "  'ipra_notification_date': '03-29-2011',\n",
       "  'record_url': 'http://portal.iprachicago.org/1044336-2/'},\n",
       " '1045673': {'incident_date_time': '05-25-2011 10:30 pm',\n",
       "  'incident_type': 'Firearm Discharge',\n",
       "  'ipra_notification_date': '05-25-2011',\n",
       "  'record_url': 'http://portal.iprachicago.org/1045673-2/'},\n",
       " '1045950': {'incident_date_time': '06-07-2011 1:48 am',\n",
       "  'incident_type': 'Firearm Discharge',\n",
       "  'ipra_notification_date': '06-07-2011',\n",
       "  'record_url': 'http://portal.iprachicago.org/1045950-2/'},\n",
       " '1049286': {'incident_date_time': '10-13-2011 12:17 am',\n",
       "  'incident_type': 'Incident in Police Custody',\n",
       "  'ipra_notification_date': '10-13-2011',\n",
       "  'record_url': 'http://portal.iprachicago.org/1049286-2/'},\n",
       " '1050919': {'incident_date_time': '12-28-2011 1:42 am',\n",
       "  'incident_type': 'Firearm Discharge',\n",
       "  'ipra_notification_date': '12-28-2011',\n",
       "  'record_url': 'http://portal.iprachicago.org/1050919-2/'},\n",
       " '1052578': {'incident_date_time': '03-14-2012 8:32 pm',\n",
       "  'incident_type': 'Firearm Discharge',\n",
       "  'ipra_notification_date': '03-14-2012',\n",
       "  'record_url': 'http://portal.iprachicago.org/1052578-2/'},\n",
       " '1052816': {'incident_date_time': '03-23-2012 11:05 pm',\n",
       "  'incident_type': 'Firearm Discharge',\n",
       "  'ipra_notification_date': '03-24-2012',\n",
       "  'record_url': 'http://portal.iprachicago.org/1052816-2/'},\n",
       " '1053667': {'incident_date_time': '04-30-2012 2:51 am',\n",
       "  'incident_type': 'Firearm Discharge',\n",
       "  'ipra_notification_date': '04-30-2012',\n",
       "  'record_url': 'http://portal.iprachicago.org/1053667-2/'},\n",
       " '1056252': {'incident_date_time': '08-11-2012 9:51 pm',\n",
       "  'incident_type': 'Firearm Discharge',\n",
       "  'ipra_notification_date': '08-11-2012',\n",
       "  'record_url': 'http://portal.iprachicago.org/1056252-2/'},\n",
       " '1056803': {'incident_date_time': '09-04-2012 3:39 am',\n",
       "  'incident_type': 'Firearm Discharge',\n",
       "  'ipra_notification_date': '09-04-2012',\n",
       "  'record_url': 'http://portal.iprachicago.org/1056803-2/'},\n",
       " '1057079': {'incident_date_time': '09-14-2012 9:33 pm',\n",
       "  'incident_type': 'Firearm Discharge',\n",
       "  'ipra_notification_date': '09-14-2012',\n",
       "  'record_url': 'http://portal.iprachicago.org/1057079-2/'},\n",
       " '1058279': {'incident_date_time': '11-08-2012 3:43 pm',\n",
       "  'incident_type': 'Firearm Discharge',\n",
       "  'ipra_notification_date': '11-08-2012',\n",
       "  'record_url': 'http://portal.iprachicago.org/1058279-2/'},\n",
       " '1058573': {'incident_date_time': '11-22-2012 3:55 pm',\n",
       "  'incident_type': 'Firearm Discharge',\n",
       "  'ipra_notification_date': '11-22-2012',\n",
       "  'record_url': 'http://portal.iprachicago.org/1058573-2/'},\n",
       " '1060762': {'incident_date_time': '03-16-2013 2:55 am',\n",
       "  'incident_type': 'Firearm Discharge',\n",
       "  'ipra_notification_date': '03-16-2013',\n",
       "  'record_url': 'http://portal.iprachicago.org/1060762-2/'},\n",
       " '1060844': {'incident_date_time': '03-19-2013 9:50 pm',\n",
       "  'incident_type': 'Firearm Discharge',\n",
       "  'ipra_notification_date': '03-19-2013',\n",
       "  'record_url': 'http://portal.iprachicago.org/1060844-2/'},\n",
       " '1061883': {'incident_date_time': '04-30-2013 9:30 pm',\n",
       "  'incident_type': 'Firearm Discharge',\n",
       "  'ipra_notification_date': '04-30-2013',\n",
       "  'record_url': 'http://portal.iprachicago.org/1061883-2/'},\n",
       " '1062377': {'incident_date_time': '05-13-2013 11:00 pm',\n",
       "  'incident_type': 'Incident in Police Custody',\n",
       "  'ipra_notification_date': '05-21-2013',\n",
       "  'record_url': 'http://portal.iprachicago.org/1062377-2/'},\n",
       " '1063127': {'incident_date_time': '06-26-2013 12:09 am',\n",
       "  'incident_type': 'Firearm Discharge',\n",
       "  'ipra_notification_date': '06-26-2013',\n",
       "  'record_url': 'http://portal.iprachicago.org/1063127-2/'},\n",
       " '1063442': {'incident_date_time': '07-11-2013 1:05 pm',\n",
       "  'incident_type': 'Firearm Discharge',\n",
       "  'ipra_notification_date': '07-11-2013',\n",
       "  'record_url': 'http://portal.iprachicago.org/1063442-2/'},\n",
       " '1065582': {'incident_date_time': '10-18-2013 1:10 am',\n",
       "  'incident_type': 'Firearm Discharge',\n",
       "  'ipra_notification_date': '10-18-2013',\n",
       "  'record_url': 'http://portal.iprachicago.org/1065582-2/'},\n",
       " '1065714': {'incident_date_time': '10-24-2013 6:40 pm',\n",
       "  'incident_type': 'Firearm Discharge',\n",
       "  'ipra_notification_date': '10-24-2013',\n",
       "  'record_url': 'http://portal.iprachicago.org/1065714-2/'},\n",
       " '1066296': {'incident_date_time': '11-25-2013 7:55 pm',\n",
       "  'incident_type': 'Incident in Police Custody',\n",
       "  'ipra_notification_date': '11-26-2013',\n",
       "  'record_url': 'http://portal.iprachicago.org/1066296-2/'},\n",
       " '1066371': {'incident_date_time': '07-25-2013 10:04 pm',\n",
       "  'incident_type': 'Incident in Police Custody',\n",
       "  'ipra_notification_date': '12-02-2013',\n",
       "  'record_url': 'http://portal.iprachicago.org/1066371-2/'},\n",
       " '1066725': {'incident_date_time': '12-22-2013 5:06 pm',\n",
       "  'incident_type': 'Firearm Discharge',\n",
       "  'ipra_notification_date': '12-22-2013',\n",
       "  'record_url': 'http://portal.iprachicago.org/1066725-2/'},\n",
       " '1067572': {'incident_date_time': '02-18-2014 12:00 am',\n",
       "  'incident_type': 'Firearm Discharge',\n",
       "  'ipra_notification_date': '02-18-2014',\n",
       "  'record_url': 'http://portal.iprachicago.org/1067572-2/'},\n",
       " '1068046': {'incident_date_time': '03-17-2014 9:51 pm',\n",
       "  'incident_type': 'Firearm Discharge',\n",
       "  'ipra_notification_date': '03-17-2014',\n",
       "  'record_url': 'http://portal.iprachicago.org/1068046-2/'},\n",
       " '1068101': {'incident_date_time': '03-20-2014 6:42 pm',\n",
       "  'incident_type': 'Firearm Discharge',\n",
       "  'ipra_notification_date': '03-20-2014',\n",
       "  'record_url': 'http://portal.iprachicago.org/1068101-2/'},\n",
       " '1068271': {'incident_date_time': '03-29-2014 8:49 pm',\n",
       "  'incident_type': 'Firearm Discharge',\n",
       "  'ipra_notification_date': '03-29-2014',\n",
       "  'record_url': 'http://portal.iprachicago.org/1068271-2/'},\n",
       " '1069058': {'incident_date_time': '05-07-2014 12:17 am',\n",
       "  'incident_type': 'Incident in Police Custody',\n",
       "  'ipra_notification_date': '05-09-2014',\n",
       "  'record_url': 'http://portal.iprachicago.org/1069058-2/'},\n",
       " '1069633': {'incident_date_time': '06-03-2014 11:16 pm',\n",
       "  'incident_type': 'Other Use Of Force',\n",
       "  'ipra_notification_date': '06-06-2014',\n",
       "  'record_url': 'http://portal.iprachicago.org/1069633-2/'},\n",
       " '1069651': {'incident_date_time': '06-06-2014 11:28 pm',\n",
       "  'incident_type': 'Firearm Discharge',\n",
       "  'ipra_notification_date': '06-07-2014',\n",
       "  'record_url': 'http://portal.iprachicago.org/1069651-2/'},\n",
       " '1069721': {'incident_date_time': '06-10-2014 11:46 pm',\n",
       "  'incident_type': 'Firearm Discharge',\n",
       "  'ipra_notification_date': '06-11-2014',\n",
       "  'record_url': 'http://portal.iprachicago.org/1069721-2/'},\n",
       " '1069981': {'incident_date_time': '06-24-2014 6:23 pm',\n",
       "  'incident_type': 'Firearm Discharge',\n",
       "  'ipra_notification_date': '06-24-2014',\n",
       "  'record_url': 'http://portal.iprachicago.org/1069981-2/'},\n",
       " '1070148': {'incident_date_time': '07-04-2014 9:53 pm',\n",
       "  'incident_type': 'Firearm Discharge',\n",
       "  'ipra_notification_date': '07-04-2014',\n",
       "  'record_url': 'http://portal.iprachicago.org/1070148-2/'},\n",
       " '1070168': {'incident_date_time': '07-05-2014 6:40 pm',\n",
       "  'incident_type': 'Firearm Discharge',\n",
       "  'ipra_notification_date': '07-05-2014',\n",
       "  'record_url': 'http://portal.iprachicago.org/1070168-2/'},\n",
       " '1070445': {'incident_date_time': '07-19-2014 6:10 am',\n",
       "  'incident_type': 'Firearm Discharge',\n",
       "  'ipra_notification_date': '07-19-2014',\n",
       "  'record_url': 'http://portal.iprachicago.org/1070445-2/'},\n",
       " '1070681': {'incident_date_time': '07-30-2014 3:00 am',\n",
       "  'incident_type': 'Incident in Police Custody',\n",
       "  'ipra_notification_date': '07-31-2014',\n",
       "  'record_url': 'http://portal.iprachicago.org/1070681-2/'},\n",
       " '1071168': {'incident_date_time': '08-24-2014 8:58 pm',\n",
       "  'incident_type': 'Firearm Discharge',\n",
       "  'ipra_notification_date': '08-24-2014',\n",
       "  'record_url': 'http://portal.iprachicago.org/1071168-2/'},\n",
       " '1071320': {'incident_date_time': '07-12-2014 10:30 pm',\n",
       "  'incident_type': 'Incident in Police Custody',\n",
       "  'ipra_notification_date': '09-02-2014',\n",
       "  'record_url': 'http://portal.iprachicago.org/1071320-2/'},\n",
       " '1071524': {'incident_date_time': '09-13-2014 10:12 pm',\n",
       "  'incident_type': 'Firearm Discharge',\n",
       "  'ipra_notification_date': '09-13-2014',\n",
       "  'record_url': 'http://portal.iprachicago.org/1071524-2/'},\n",
       " '1071635': {'incident_date_time': '09-20-2014 6:18 pm',\n",
       "  'incident_type': 'Incident in Police Custody',\n",
       "  'ipra_notification_date': '09-20-2014',\n",
       "  'record_url': 'http://portal.iprachicago.org/1071635-2/'},\n",
       " '1071970': {'incident_date_time': '10-12-2014 12:35 am',\n",
       "  'incident_type': 'Firearm Discharge',\n",
       "  'ipra_notification_date': '10-12-2014',\n",
       "  'record_url': 'http://portal.iprachicago.org/1071970-2/'},\n",
       " '1072297': {'incident_date_time': '10-29-2014 11:03 pm',\n",
       "  'incident_type': 'Firearm Discharge',\n",
       "  'ipra_notification_date': '10-30-2014',\n",
       "  'record_url': 'http://portal.iprachicago.org/1072297-2/'},\n",
       " '1072342': {'incident_date_time': '11-01-2014 8:22 pm',\n",
       "  'incident_type': 'Firearm Discharge',\n",
       "  'ipra_notification_date': '11-01-2014',\n",
       "  'record_url': 'http://portal.iprachicago.org/1072342-2/'},\n",
       " '1072855': {'incident_date_time': '12-06-2014 10:49 pm',\n",
       "  'incident_type': 'Firearm Discharge',\n",
       "  'ipra_notification_date': '12-07-2014',\n",
       "  'record_url': 'http://portal.iprachicago.org/1072855-2/'},\n",
       " '1072859': {'incident_date_time': '12-07-2014 6:27 pm',\n",
       "  'incident_type': 'Firearm Discharge',\n",
       "  'ipra_notification_date': '12-07-2014',\n",
       "  'record_url': 'http://portal.iprachicago.org/1072859-2/'},\n",
       " '1073105': {'incident_date_time': '12-25-2014 6:41 pm',\n",
       "  'incident_type': 'Firearm Discharge',\n",
       "  'ipra_notification_date': '12-25-2014',\n",
       "  'record_url': 'http://portal.iprachicago.org/1073105-2/'},\n",
       " '1073410': {'incident_date_time': '01-18-2015 4:55 am',\n",
       "  'incident_type': 'Incident in Police Custody',\n",
       "  'ipra_notification_date': '01-18-2015',\n",
       "  'record_url': 'http://portal.iprachicago.org/1073410-2/'},\n",
       " '1073693': {'incident_date_time': '02-07-2015 2:46 pm',\n",
       "  'incident_type': 'Firearm Discharge',\n",
       "  'ipra_notification_date': '02-07-2015',\n",
       "  'record_url': 'http://portal.iprachicago.org/1073693-2/'},\n",
       " '1073710': {'incident_date_time': '02-09-2015 3:30 am',\n",
       "  'incident_type': 'Firearm Discharge',\n",
       "  'ipra_notification_date': '02-09-2015',\n",
       "  'record_url': 'http://portal.iprachicago.org/1073710-2/'},\n",
       " '1073787': {'incident_date_time': '02-14-2015 12:29 am',\n",
       "  'incident_type': 'Firearm Discharge',\n",
       "  'ipra_notification_date': '02-14-2015',\n",
       "  'record_url': 'http://portal.iprachicago.org/1073787-2/'},\n",
       " '1073789': {'incident_date_time': '02-14-2015 3:22 am',\n",
       "  'incident_type': 'Incident in Police Custody',\n",
       "  'ipra_notification_date': '02-14-2015',\n",
       "  'record_url': 'http://portal.iprachicago.org/1073789-2/'},\n",
       " '1074111': {'incident_date_time': '03-09-2015 9:45 pm',\n",
       "  'incident_type': 'Incident in Police Custody',\n",
       "  'ipra_notification_date': '03-09-2015',\n",
       "  'record_url': 'http://portal.iprachicago.org/1074111-2/'},\n",
       " '1074270': {'incident_date_time': '03-04-2015 4:45 pm',\n",
       "  'incident_type': 'Incident in Police Custody',\n",
       "  'ipra_notification_date': '03-18-2015',\n",
       "  'record_url': 'http://portal.iprachicago.org/1074270-2/'},\n",
       " '1074294': {'incident_date_time': '03-17-2015 10:38 pm',\n",
       "  'incident_type': 'Incident in Police Custody',\n",
       "  'ipra_notification_date': '03-19-2015',\n",
       "  'record_url': 'http://portal.iprachicago.org/1074294-2/'},\n",
       " '1074534': {'incident_date_time': '04-04-2015 4:19 pm',\n",
       "  'incident_type': 'Firearm Discharge',\n",
       "  'ipra_notification_date': '04-04-2015',\n",
       "  'record_url': 'http://portal.iprachicago.org/1074534-2/'},\n",
       " '1074736': {'incident_date_time': '04-17-2015 10:53 pm',\n",
       "  'incident_type': 'Firearm Discharge',\n",
       "  'ipra_notification_date': '04-17-2015',\n",
       "  'record_url': 'http://portal.iprachicago.org/1074736-2/'},\n",
       " '1074934': {'incident_date_time': '05-01-2015 3:25 am',\n",
       "  'incident_type': 'Firearm Discharge',\n",
       "  'ipra_notification_date': '05-01-2015',\n",
       "  'record_url': 'http://portal.iprachicago.org/1074934-2/'},\n",
       " '1074962': {'incident_date_time': '04-30-2015 2:00 am',\n",
       "  'incident_type': 'Incident in Police Custody',\n",
       "  'ipra_notification_date': '05-02-2015',\n",
       "  'record_url': 'http://portal.iprachicago.org/1074962-2/'},\n",
       " '1074984': {'incident_date_time': '05-03-2015 10:30 pm',\n",
       "  'incident_type': 'Incident in Police Custody',\n",
       "  'ipra_notification_date': '05-04-2015',\n",
       "  'record_url': 'http://portal.iprachicago.org/1074984-2/'},\n",
       " '1075069': {'incident_date_time': '05-08-2015 3:05 am',\n",
       "  'incident_type': 'Incident in Police Custody',\n",
       "  'ipra_notification_date': '05-08-2015',\n",
       "  'record_url': 'http://portal.iprachicago.org/1075069-2/'},\n",
       " '1075655': {'incident_date_time': '06-13-2015 4:20 am',\n",
       "  'incident_type': 'Incident in Police Custody',\n",
       "  'ipra_notification_date': '06-13-2015',\n",
       "  'record_url': 'http://portal.iprachicago.org/1075655-2/'},\n",
       " '1075692': {'incident_date_time': '06-16-2015 12:20 am',\n",
       "  'incident_type': 'Incident in Police Custody',\n",
       "  'ipra_notification_date': '06-16-2015',\n",
       "  'record_url': 'http://portal.iprachicago.org/1075692-2/'},\n",
       " '1075770': {'incident_date_time': '06-20-2015 12:10 am',\n",
       "  'incident_type': 'Firearm Discharge',\n",
       "  'ipra_notification_date': '06-20-2015',\n",
       "  'record_url': 'http://portal.iprachicago.org/1075770-2/'},\n",
       " '1075866': {'incident_date_time': '08-27-2013 12:00 am',\n",
       "  'incident_type': 'Incident in Police Custody',\n",
       "  'ipra_notification_date': '06-26-2015',\n",
       "  'record_url': 'http://portal.iprachicago.org/1075866-2/'},\n",
       " '1076072': {'incident_date_time': '07-09-2015 11:34 pm',\n",
       "  'incident_type': 'Firearm Discharge',\n",
       "  'ipra_notification_date': '07-10-2015',\n",
       "  'record_url': 'http://portal.iprachicago.org/1076072-2/'},\n",
       " '1076081': {'incident_date_time': '07-10-2015 4:03 pm',\n",
       "  'incident_type': 'Firearm Discharge',\n",
       "  'ipra_notification_date': '07-10-2015',\n",
       "  'record_url': 'http://portal.iprachicago.org/1076081-2/'},\n",
       " '1076204': {'incident_date_time': '07-19-2015 3:56 am',\n",
       "  'incident_type': 'Firearm Discharge',\n",
       "  'ipra_notification_date': '07-19-2015',\n",
       "  'record_url': 'http://portal.iprachicago.org/1076204-2/'},\n",
       " '1076214': {'incident_date_time': '07-20-2015 1:15 am',\n",
       "  'incident_type': 'Incident in Police Custody',\n",
       "  'ipra_notification_date': '07-20-2015',\n",
       "  'record_url': 'http://portal.iprachicago.org/1076214-2/'},\n",
       " '1076216': {'incident_date_time': '07-20-2015 4:01 am',\n",
       "  'incident_type': 'Firearm Discharge',\n",
       "  'ipra_notification_date': '07-20-2015',\n",
       "  'record_url': 'http://portal.iprachicago.org/1076216-2/'},\n",
       " '1076261': {'incident_date_time': '07-22-2015 1:41 am',\n",
       "  'incident_type': 'Firearm Discharge',\n",
       "  'ipra_notification_date': '07-22-2015',\n",
       "  'record_url': 'http://portal.iprachicago.org/1076261-2/'},\n",
       " '1076367': {'incident_date_time': '07-27-2015 5:00 pm',\n",
       "  'incident_type': 'Firearm Discharge',\n",
       "  'ipra_notification_date': '07-27-2015',\n",
       "  'record_url': 'http://portal.iprachicago.org/1076367-2/'},\n",
       " '1076425': {'incident_date_time': '07-30-2015 3:15 am',\n",
       "  'incident_type': 'Firearm Discharge',\n",
       "  'ipra_notification_date': '07-30-2015',\n",
       "  'record_url': 'http://portal.iprachicago.org/1076425-2/'},\n",
       " '1076618': {'incident_date_time': '03-23-2014 10:11 pm',\n",
       "  'incident_type': 'Incident in Police Custody',\n",
       "  'ipra_notification_date': '08-10-2015',\n",
       "  'record_url': 'http://portal.iprachicago.org/1076618-2/'},\n",
       " '1076714': {'incident_date_time': '08-15-2015 7:48 pm',\n",
       "  'incident_type': 'Firearm Discharge',\n",
       "  'ipra_notification_date': '08-15-2015',\n",
       "  'record_url': 'http://portal.iprachicago.org/1076714-2/'},\n",
       " '1076797': {'incident_date_time': '08-20-2015 10:25 pm',\n",
       "  'incident_type': 'Firearm Discharge',\n",
       "  'ipra_notification_date': '08-20-2015',\n",
       "  'record_url': 'http://portal.iprachicago.org/1076797-2/'},\n",
       " '1076808': {'incident_date_time': '03-19-2015 5:09 am',\n",
       "  'incident_type': 'Incident in Police Custody',\n",
       "  'ipra_notification_date': '08-21-2015',\n",
       "  'record_url': 'http://portal.iprachicago.org/1076808-2/'},\n",
       " '1076815': {'incident_date_time': '08-21-2015 7:28 pm',\n",
       "  'incident_type': 'Firearm Discharge',\n",
       "  'ipra_notification_date': '08-21-2015',\n",
       "  'record_url': 'http://portal.iprachicago.org/1076815-2/'},\n",
       " '1076844': {'incident_date_time': '08-22-2015 11:45 am',\n",
       "  'incident_type': 'Incident in Police Custody',\n",
       "  'ipra_notification_date': '08-24-2015',\n",
       "  'record_url': 'http://portal.iprachicago.org/1076844-2/'},\n",
       " '1076922': {'incident_date_time': '08-29-2015 1:30 am',\n",
       "  'incident_type': 'Firearm Discharge',\n",
       "  'ipra_notification_date': '08-29-2015',\n",
       "  'record_url': 'http://portal.iprachicago.org/1076922-2/'},\n",
       " '1076980': {'incident_date_time': '09-02-2015 7:51 pm',\n",
       "  'incident_type': 'Incident in Police Custody',\n",
       "  'ipra_notification_date': '09-02-2015',\n",
       "  'record_url': 'http://portal.iprachicago.org/1076980-2/'},\n",
       " '1077051': {'incident_date_time': '09-04-2015 4:20 pm',\n",
       "  'incident_type': 'Incident in Police Custody',\n",
       "  'ipra_notification_date': '09-08-2015',\n",
       "  'record_url': 'http://portal.iprachicago.org/1077051-2/'},\n",
       " '1077146': {'incident_date_time': '09-14-2015 9:38 pm',\n",
       "  'incident_type': 'Firearm Discharge',\n",
       "  'ipra_notification_date': '09-14-2015',\n",
       "  'record_url': 'http://portal.iprachicago.org/1077146-2/'},\n",
       " '1077328': {'incident_date_time': '09-25-2015 8:53 pm',\n",
       "  'incident_type': 'Firearm Discharge',\n",
       "  'ipra_notification_date': '09-25-2015',\n",
       "  'record_url': 'http://portal.iprachicago.org/1077328-2/'},\n",
       " '1077396': {'incident_date_time': '10-01-2015 6:31 pm',\n",
       "  'incident_type': 'Firearm Discharge',\n",
       "  'ipra_notification_date': '10-01-2015',\n",
       "  'record_url': 'http://portal.iprachicago.org/1077396-2/'},\n",
       " '1077428': {'incident_date_time': '10-04-2015 8:27 am',\n",
       "  'incident_type': 'Firearm Discharge',\n",
       "  'ipra_notification_date': '10-04-2015',\n",
       "  'record_url': 'http://portal.iprachicago.org/1077428-2/'},\n",
       " '1077477': {'incident_date_time': '10-07-2015 3:40 am',\n",
       "  'incident_type': 'Other Use Of Force',\n",
       "  'ipra_notification_date': '10-07-2015',\n",
       "  'record_url': 'http://portal.iprachicago.org/1077477-2/'},\n",
       " '1077848': {'incident_date_time': '10-31-2015 1:26 am',\n",
       "  'incident_type': 'Firearm Discharge',\n",
       "  'ipra_notification_date': '10-31-2015',\n",
       "  'record_url': 'http://portal.iprachicago.org/1077848-2/'},\n",
       " '1078178': {'incident_date_time': '11-21-2015 10:05 pm',\n",
       "  'incident_type': 'Incident in Police Custody',\n",
       "  'ipra_notification_date': '11-24-2015',\n",
       "  'record_url': 'http://portal.iprachicago.org/1078178-2/'},\n",
       " '1078329': {'incident_date_time': '12-13-2012 7:45 am',\n",
       "  'incident_type': 'Incident in Police Custody',\n",
       "  'ipra_notification_date': '12-05-2015',\n",
       "  'record_url': 'http://portal.iprachicago.org/1078329-2/'},\n",
       " '1078413': {'incident_date_time': '12-12-2015 6:09 am',\n",
       "  'incident_type': 'Firearm Discharge',\n",
       "  'ipra_notification_date': '12-12-2015',\n",
       "  'record_url': 'http://portal.iprachicago.org/1078413-2/'},\n",
       " '1078435': {'incident_date_time': '12-08-2015 1:09 pm',\n",
       "  'incident_type': 'Taser Discharge',\n",
       "  'ipra_notification_date': '12-14-2015',\n",
       "  'record_url': 'http://portal.iprachicago.org/1078435-2/'},\n",
       " '1078530': {'incident_date_time': '12-20-2015 10:37 am',\n",
       "  'incident_type': 'Firearm Discharge',\n",
       "  'ipra_notification_date': '12-20-2015',\n",
       "  'record_url': 'http://portal.iprachicago.org/1078530-2/'},\n",
       " '1078616': {'incident_date_time': '12-26-2015 4:25 am',\n",
       "  'incident_type': 'Firearm Discharge',\n",
       "  'ipra_notification_date': '12-26-2015',\n",
       "  'record_url': 'http://portal.iprachicago.org/1078616-2/'},\n",
       " '1078622': {'incident_date_time': '12-26-2015 1:30 pm',\n",
       "  'incident_type': 'Firearm Discharge',\n",
       "  'ipra_notification_date': '12-26-2015',\n",
       "  'record_url': 'http://portal.iprachicago.org/1078622-2/'},\n",
       " '1078789': {'incident_date_time': '01-07-2016 10:27 pm',\n",
       "  'incident_type': 'Firearm Discharge',\n",
       "  'ipra_notification_date': '01-07-2016',\n",
       "  'record_url': 'http://portal.iprachicago.org/1078789-2/'},\n",
       " '1078952': {'incident_date_time': '12-29-2015 2:40 am',\n",
       "  'incident_type': 'Firearm Discharge',\n",
       "  'ipra_notification_date': '01-21-2016',\n",
       "  'record_url': 'http://portal.iprachicago.org/1078952-2/'},\n",
       " '1079080': {'incident_date_time': '01-31-2016 4:25 am',\n",
       "  'incident_type': 'Firearm Discharge',\n",
       "  'ipra_notification_date': '01-31-2016',\n",
       "  'record_url': 'http://portal.iprachicago.org/1079080-2/'},\n",
       " '1079160': {'incident_date_time': '02-06-2016 12:00 pm',\n",
       "  'incident_type': 'Firearm Discharge',\n",
       "  'ipra_notification_date': '02-06-2016',\n",
       "  'record_url': 'http://portal.iprachicago.org/1079160-2/'},\n",
       " '1079273': {'incident_date_time': '09-11-2015 12:22 am',\n",
       "  'incident_type': 'Incident in Police Custody',\n",
       "  'ipra_notification_date': '02-16-2016',\n",
       "  'record_url': 'http://portal.iprachicago.org/1079273-3/'},\n",
       " '1079618': {'incident_date_time': '03-12-2016 12:40 am',\n",
       "  'incident_type': 'Firearm Discharge',\n",
       "  'ipra_notification_date': '03-12-2016',\n",
       "  'record_url': 'http://portal.iprachicago.org/1079618-2/'},\n",
       " '1079644': {'incident_date_time': '03-10-2016 5:55 am',\n",
       "  'incident_type': 'Firearm Discharge',\n",
       "  'ipra_notification_date': '03-10-2016',\n",
       "  'record_url': 'http://portal.iprachicago.org/1079644-2/'},\n",
       " '1079661': {'incident_date_time': '03-14-2016 9:46 pm',\n",
       "  'incident_type': 'Firearm Discharge',\n",
       "  'ipra_notification_date': '03-14-2016',\n",
       "  'record_url': 'http://portal.iprachicago.org/1079661-2/'},\n",
       " '1079728': {'incident_date_time': '03-19-2016 9:30 pm',\n",
       "  'incident_type': 'Firearm Discharge',\n",
       "  'ipra_notification_date': '03-19-2016',\n",
       "  'record_url': 'http://portal.iprachicago.org/1079728-2/'},\n",
       " '1079743': {'incident_date_time': '03-21-2016 2:30 am',\n",
       "  'incident_type': 'Incident in Police Custody',\n",
       "  'ipra_notification_date': '03-21-2016',\n",
       "  'record_url': 'http://portal.iprachicago.org/1079743-2/'},\n",
       " '1080018': {'incident_date_time': '04-07-2016 6:49 pm',\n",
       "  'incident_type': 'Incident in Police Custody',\n",
       "  'ipra_notification_date': '04-08-2016',\n",
       "  'record_url': 'http://portal.iprachicago.org/1080018-2/'},\n",
       " '1080064': {'incident_date_time': '04-11-2016 7:43 pm',\n",
       "  'incident_type': 'Incident in Police Custody',\n",
       "  'ipra_notification_date': '04-11-2016',\n",
       "  'record_url': 'http://portal.iprachicago.org/1080064-2/'},\n",
       " '1080144': {'incident_date_time': '04-15-2016 10:27 pm',\n",
       "  'incident_type': 'Firearm Discharge',\n",
       "  'ipra_notification_date': '04-15-2016',\n",
       "  'record_url': 'http://portal.iprachicago.org/1080144-2/'},\n",
       " '1080395': {'incident_date_time': '05-04-2016 1:06 pm',\n",
       "  'incident_type': 'Taser Discharge',\n",
       "  'ipra_notification_date': '05-04-2016',\n",
       "  'record_url': 'http://portal.iprachicago.org/1080395-2/'},\n",
       " '1080417': {'incident_date_time': '05-06-2016 9:32 am',\n",
       "  'incident_type': 'Firearm Discharge',\n",
       "  'ipra_notification_date': '05-06-2016',\n",
       "  'record_url': 'http://portal.iprachicago.org/1080417-2/'},\n",
       " '1080437': {'incident_date_time': '05-07-2016 3:03 pm',\n",
       "  'incident_type': 'Incident in Police Custody',\n",
       "  'ipra_notification_date': '05-07-2016',\n",
       "  'record_url': 'http://portal.iprachicago.org/1080437-2/'},\n",
       " '1080449': {'incident_date_time': '05-09-2016 11:00 pm',\n",
       "  'incident_type': 'Firearm Discharge',\n",
       "  'ipra_notification_date': '05-09-2016',\n",
       "  'record_url': 'http://portal.iprachicago.org/1080449-2/'},\n",
       " '1080476': {'incident_date_time': '05-10-2016 10:41 pm',\n",
       "  'incident_type': 'Firearm Discharge',\n",
       "  'ipra_notification_date': '05-11-2016',\n",
       "  'record_url': 'http://portal.iprachicago.org/1080476-2/'},\n",
       " '1080505': {'incident_date_time': '05-12-2016 12:00 pm',\n",
       "  'incident_type': 'Firearm Discharge',\n",
       "  'ipra_notification_date': '05-12-2016',\n",
       "  'record_url': 'http://portal.iprachicago.org/1080505-2/'},\n",
       " '1080615': {'incident_date_time': '05-21-2016 10:19 pm',\n",
       "  'incident_type': 'Firearm Discharge',\n",
       "  'ipra_notification_date': '05-21-2016',\n",
       "  'record_url': 'http://portal.iprachicago.org/1080615-2/'},\n",
       " '1080972': {'incident_date_time': '06-13-2016 3:30 pm',\n",
       "  'incident_type': 'Incident in Police Custody',\n",
       "  'ipra_notification_date': '06-13-2016',\n",
       "  'record_url': 'http://portal.iprachicago.org/1080972-2/'}}"
      ]
     },
     "execution_count": 19,
     "metadata": {},
     "output_type": "execute_result"
    }
   ],
   "source": [
    "data['records']"
   ]
  },
  {
   "cell_type": "code",
   "execution_count": 20,
   "metadata": {
    "collapsed": false
   },
   "outputs": [
    {
     "ename": "AttributeError",
     "evalue": "'NoneType' object has no attribute 'find'",
     "output_type": "error",
     "traceback": [
      "\u001b[0;31m---------------------------------------------------------------------------\u001b[0m",
      "\u001b[0;31mAttributeError\u001b[0m                            Traceback (most recent call last)",
      "\u001b[0;32m<ipython-input-20-af7d576a8747>\u001b[0m in \u001b[0;36m<module>\u001b[0;34m()\u001b[0m\n\u001b[1;32m      1\u001b[0m \u001b[0mdata\u001b[0m \u001b[0;34m=\u001b[0m \u001b[0;34m[\u001b[0m\u001b[0;34m]\u001b[0m\u001b[0;34m\u001b[0m\u001b[0m\n\u001b[1;32m      2\u001b[0m \u001b[0mtable\u001b[0m \u001b[0;34m=\u001b[0m \u001b[0msoup\u001b[0m\u001b[0;34m.\u001b[0m\u001b[0mfind\u001b[0m\u001b[0;34m(\u001b[0m\u001b[0;34m'table'\u001b[0m\u001b[0;34m,\u001b[0m \u001b[0mattrs\u001b[0m\u001b[0;34m=\u001b[0m\u001b[0;34m{\u001b[0m\u001b[0;34m'class'\u001b[0m\u001b[0;34m:\u001b[0m\u001b[0;34m'lineItemsTable'\u001b[0m\u001b[0;34m}\u001b[0m\u001b[0;34m)\u001b[0m\u001b[0;34m\u001b[0m\u001b[0m\n\u001b[0;32m----> 3\u001b[0;31m \u001b[0mtable_body\u001b[0m \u001b[0;34m=\u001b[0m \u001b[0mtable\u001b[0m\u001b[0;34m.\u001b[0m\u001b[0mfind\u001b[0m\u001b[0;34m(\u001b[0m\u001b[0;34m'tbody'\u001b[0m\u001b[0;34m)\u001b[0m\u001b[0;34m\u001b[0m\u001b[0m\n\u001b[0m\u001b[1;32m      4\u001b[0m \u001b[0;34m\u001b[0m\u001b[0m\n\u001b[1;32m      5\u001b[0m \u001b[0mrows\u001b[0m \u001b[0;34m=\u001b[0m \u001b[0mtable_body\u001b[0m\u001b[0;34m.\u001b[0m\u001b[0mfind_all\u001b[0m\u001b[0;34m(\u001b[0m\u001b[0;34m'tr'\u001b[0m\u001b[0;34m)\u001b[0m\u001b[0;34m\u001b[0m\u001b[0m\n",
      "\u001b[0;31mAttributeError\u001b[0m: 'NoneType' object has no attribute 'find'"
     ]
    }
   ],
   "source": [
    "data = []\n",
    "table = soup.find('table', attrs={'class':'lineItemsTable'})\n",
    "table_body = table.find('tbody')\n",
    "\n",
    "rows = table_body.find_all('tr')\n",
    "for row in rows:\n",
    "    cols = row.find_all('td')\n",
    "    cols = [ele.text.strip() for ele in cols]\n",
    "    data.append([ele for ele in cols if ele]) # Get rid of empty values"
   ]
  },
  {
   "cell_type": "markdown",
   "metadata": {},
   "source": [
    "# Scrape pages"
   ]
  },
  {
   "cell_type": "code",
   "execution_count": 21,
   "metadata": {
    "collapsed": false
   },
   "outputs": [],
   "source": [
    "url = 'http://portal.iprachicago.org/1042469-2/'\n",
    "r = requests.get(url, headers=headers)"
   ]
  },
  {
   "cell_type": "code",
   "execution_count": 22,
   "metadata": {
    "collapsed": false
   },
   "outputs": [],
   "source": [
    "soup = BeautifulSoup(r.content,'html.parser')"
   ]
  },
  {
   "cell_type": "code",
   "execution_count": 23,
   "metadata": {
    "collapsed": false
   },
   "outputs": [
    {
     "data": {
      "text/plain": [
       "<main class=\"site-main\" id=\"main\" role=\"main\"><article class=\"post-173 post type-post status-publish format-standard hentry category-firearm-discharge\" id=\"post-173\"><header class=\"entry-header\"><h1 class=\"entry-title\">1042469</h1><div class=\"entry-meta\"> <span class=\"posted-on\">Posted on <a href=\"http://portal.iprachicago.org/1042469-2/\" rel=\"bookmark\" title=\"1:47 am\"><time class=\"entry-date published\" datetime=\"2016-06-03T01:47:12+00:00\">June 3, 2016</time></a> </span> <span class=\"byline\"> by <span class=\"author vcard\"><a class=\"url fn n\" href=\"http://portal.iprachicago.org/author/s-kenney/\" title=\"View all posts by IPRA\">IPRA</a></span></span></div></header><div class=\"entry-content\"><div class=\"table-responsive hidden-lg hidden-md stack-table\"><table class=\"table table-bordered table-striped\"><tbody><tr><th scope=\"row\">Log Number:</th><td>1042469</td></tr><tr><th scope=\"row\">Case Type(s):</th><td> Firearm Discharge</td></tr><tr><th scope=\"row\">IPRA Notification Date:</th><td> 01-04-2011</td></tr><tr><th scope=\"row\">Incident Date &amp; Time:</th><td> 01-04-2011 9:35 pm</td></tr></tbody></table></div><div class=\"table-responsive hidden-sm hidden-xs\"><table class=\"table table-striped\"><thead><tr><th scope=\"col\">Log#:</th><th scope=\"col\">Incident Type(s):</th><th scope=\"col\">IPRA Notification Date:</th><th scope=\"col\">Incident Date &amp; Time:</th></tr></thead><tbody><tr><th scope=\"row\"> 1042469</th><td> Firearm Discharge</td><td> 01-04-2011</td><td> 01-04-2011 9:35 pm</td></tr></tbody></table></div><p>Subject:  Jermaine Henry</p><p>Pursuant to the Illinois Juvenile Court Act, 705 ILCS 405/1-1, <em>et seq.</em>, the City is prohibited from releasing law enforcement records that relate to a minor who has been investigated, arrested, or taken into custody before his or her 18<sup>th</sup> birthday, without a court order.  As a result, the City is restricted from releasing records related to this incident.</p><hr/></div><footer class=\"entry-meta\"></footer></article></main>"
      ]
     },
     "execution_count": 23,
     "metadata": {},
     "output_type": "execute_result"
    }
   ],
   "source": [
    "content = soup.find(id='main')\n",
    "content"
   ]
  },
  {
   "cell_type": "code",
   "execution_count": 24,
   "metadata": {
    "collapsed": false
   },
   "outputs": [
    {
     "data": {
      "text/plain": [
       "'2016-06-03T01:47:12+00:00'"
      ]
     },
     "execution_count": 24,
     "metadata": {},
     "output_type": "execute_result"
    }
   ],
   "source": [
    "content.find('time',attrs={'class' : 'entry-date published'}).get(\"datetime\")"
   ]
  },
  {
   "cell_type": "code",
   "execution_count": 25,
   "metadata": {
    "collapsed": false
   },
   "outputs": [
    {
     "data": {
      "text/plain": [
       "<div class=\"entry-content\"><div class=\"table-responsive hidden-lg hidden-md stack-table\"><table class=\"table table-bordered table-striped\"><tbody><tr><th scope=\"row\">Log Number:</th><td>1042469</td></tr><tr><th scope=\"row\">Case Type(s):</th><td> Firearm Discharge</td></tr><tr><th scope=\"row\">IPRA Notification Date:</th><td> 01-04-2011</td></tr><tr><th scope=\"row\">Incident Date &amp; Time:</th><td> 01-04-2011 9:35 pm</td></tr></tbody></table></div><div class=\"table-responsive hidden-sm hidden-xs\"><table class=\"table table-striped\"><thead><tr><th scope=\"col\">Log#:</th><th scope=\"col\">Incident Type(s):</th><th scope=\"col\">IPRA Notification Date:</th><th scope=\"col\">Incident Date &amp; Time:</th></tr></thead><tbody><tr><th scope=\"row\"> 1042469</th><td> Firearm Discharge</td><td> 01-04-2011</td><td> 01-04-2011 9:35 pm</td></tr></tbody></table></div><p>Subject:  Jermaine Henry</p><p>Pursuant to the Illinois Juvenile Court Act, 705 ILCS 405/1-1, <em>et seq.</em>, the City is prohibited from releasing law enforcement records that relate to a minor who has been investigated, arrested, or taken into custody before his or her 18<sup>th</sup> birthday, without a court order.  As a result, the City is restricted from releasing records related to this incident.</p><hr/></div>"
      ]
     },
     "execution_count": 25,
     "metadata": {},
     "output_type": "execute_result"
    }
   ],
   "source": [
    "entry = content.find('div',attrs={'class' : 'entry-content'})\n",
    "entry"
   ]
  },
  {
   "cell_type": "code",
   "execution_count": 26,
   "metadata": {
    "collapsed": false
   },
   "outputs": [],
   "source": [
    "rows = entry.find_all('div',attrs={'class' : 'row'})"
   ]
  },
  {
   "cell_type": "code",
   "execution_count": 27,
   "metadata": {
    "collapsed": false
   },
   "outputs": [],
   "source": [
    "cols = entry.find_all('div',attrs={'class' : 'col-sm-4'})"
   ]
  },
  {
   "cell_type": "code",
   "execution_count": 28,
   "metadata": {
    "collapsed": false
   },
   "outputs": [
    {
     "ename": "IndexError",
     "evalue": "list index out of range",
     "output_type": "error",
     "traceback": [
      "\u001b[0;31m---------------------------------------------------------------------------\u001b[0m",
      "\u001b[0;31mIndexError\u001b[0m                                Traceback (most recent call last)",
      "\u001b[0;32m<ipython-input-28-0723c255ce76>\u001b[0m in \u001b[0;36m<module>\u001b[0;34m()\u001b[0m\n\u001b[0;32m----> 1\u001b[0;31m \u001b[0mcols\u001b[0m\u001b[0;34m[\u001b[0m\u001b[0;36m1\u001b[0m\u001b[0;34m]\u001b[0m\u001b[0;34m\u001b[0m\u001b[0m\n\u001b[0m",
      "\u001b[0;31mIndexError\u001b[0m: list index out of range"
     ]
    }
   ],
   "source": [
    "cols[1]"
   ]
  },
  {
   "cell_type": "code",
   "execution_count": 29,
   "metadata": {
    "collapsed": false
   },
   "outputs": [
    {
     "ename": "IndexError",
     "evalue": "list index out of range",
     "output_type": "error",
     "traceback": [
      "\u001b[0;31m---------------------------------------------------------------------------\u001b[0m",
      "\u001b[0;31mIndexError\u001b[0m                                Traceback (most recent call last)",
      "\u001b[0;32m<ipython-input-29-e7a1e2268670>\u001b[0m in \u001b[0;36m<module>\u001b[0;34m()\u001b[0m\n\u001b[0;32m----> 1\u001b[0;31m \u001b[0mcols\u001b[0m\u001b[0;34m[\u001b[0m\u001b[0;36m30\u001b[0m\u001b[0;34m]\u001b[0m\u001b[0;34m.\u001b[0m\u001b[0mfind\u001b[0m\u001b[0;34m(\u001b[0m\u001b[0;34m'span'\u001b[0m\u001b[0;34m,\u001b[0m\u001b[0mattrs\u001b[0m\u001b[0;34m=\u001b[0m\u001b[0;34m{\u001b[0m\u001b[0;34m'class'\u001b[0m\u001b[0;34m:\u001b[0m\u001b[0;34m'fa'\u001b[0m\u001b[0;34m}\u001b[0m\u001b[0;34m)\u001b[0m\u001b[0;34m.\u001b[0m\u001b[0mget\u001b[0m\u001b[0;34m(\u001b[0m\u001b[0;34m'class'\u001b[0m\u001b[0;34m)\u001b[0m\u001b[0;34m\u001b[0m\u001b[0m\n\u001b[0m",
      "\u001b[0;31mIndexError\u001b[0m: list index out of range"
     ]
    }
   ],
   "source": [
    "cols[30].find('span',attrs={'class':'fa'}).get('class')"
   ]
  },
  {
   "cell_type": "code",
   "execution_count": null,
   "metadata": {
    "collapsed": false
   },
   "outputs": [],
   "source": [
    "'fa-file-pdf-o' in cols[30].find('span',attrs={'class':'fa'}).get('class')"
   ]
  },
  {
   "cell_type": "code",
   "execution_count": null,
   "metadata": {
    "collapsed": false
   },
   "outputs": [],
   "source": [
    "cols[10]"
   ]
  },
  {
   "cell_type": "code",
   "execution_count": null,
   "metadata": {
    "collapsed": false
   },
   "outputs": [],
   "source": [
    "cols[10].find('div',attrs={'class':'large-icon'}).text.strip()"
   ]
  },
  {
   "cell_type": "code",
   "execution_count": null,
   "metadata": {
    "collapsed": false,
    "scrolled": true
   },
   "outputs": [],
   "source": [
    "js = cols[1].find('script').text\n",
    "js = re.sub(r'\\n','',js)\n",
    "js = re.sub(r'\\t','',js)\n",
    "js"
   ]
  },
  {
   "cell_type": "code",
   "execution_count": null,
   "metadata": {
    "collapsed": false
   },
   "outputs": [],
   "source": [
    "re.search(r\"var\\s+src\\s*=\\s*'([^']+)'\", js).groups()[0]"
   ]
  },
  {
   "cell_type": "code",
   "execution_count": null,
   "metadata": {
    "collapsed": false
   },
   "outputs": [],
   "source": [
    "re.search(r\"'#modal(\\d+)'\",js).groups()[0]"
   ]
  },
  {
   "cell_type": "code",
   "execution_count": 31,
   "metadata": {
    "collapsed": false
   },
   "outputs": [],
   "source": [
    "note = entry.find('p',string=re.compile(r\"Note:\"))\n",
    "note"
   ]
  },
  {
   "cell_type": "code",
   "execution_count": 32,
   "metadata": {
    "collapsed": false
   },
   "outputs": [
    {
     "data": {
      "text/plain": [
       "<p>Subject:  Jermaine Henry</p>"
      ]
     },
     "execution_count": 32,
     "metadata": {},
     "output_type": "execute_result"
    }
   ],
   "source": [
    "subject = entry.find('p',string=re.compile(r\"Subject:\"))\n",
    "subject "
   ]
  },
  {
   "cell_type": "code",
   "execution_count": null,
   "metadata": {
    "collapsed": false
   },
   "outputs": [],
   "source": [
    "re_subjectcapture = re.compile(r\"Subject:\\s*(.*)\")\n",
    "re.search(re_subjectcapture,subject.string).groups()[0].strip()"
   ]
  },
  {
   "cell_type": "code",
   "execution_count": 30,
   "metadata": {
    "collapsed": false
   },
   "outputs": [
    {
     "ename": "AttributeError",
     "evalue": "'NoneType' object has no attribute 'find_all'",
     "output_type": "error",
     "traceback": [
      "\u001b[0;31m---------------------------------------------------------------------------\u001b[0m",
      "\u001b[0;31mAttributeError\u001b[0m                            Traceback (most recent call last)",
      "\u001b[0;32m<ipython-input-30-03a41ec28349>\u001b[0m in \u001b[0;36m<module>\u001b[0;34m()\u001b[0m\n\u001b[0;32m----> 1\u001b[0;31m \u001b[0mentry\u001b[0m\u001b[0;34m.\u001b[0m\u001b[0mul\u001b[0m\u001b[0;34m.\u001b[0m\u001b[0mfind_all\u001b[0m\u001b[0;34m(\u001b[0m\u001b[0;34m'li'\u001b[0m\u001b[0;34m)\u001b[0m\u001b[0;34m\u001b[0m\u001b[0m\n\u001b[0m",
      "\u001b[0;31mAttributeError\u001b[0m: 'NoneType' object has no attribute 'find_all'"
     ]
    }
   ],
   "source": [
    "entry.ul.find_all('li')"
   ]
  },
  {
   "cell_type": "code",
   "execution_count": null,
   "metadata": {
    "collapsed": false
   },
   "outputs": [],
   "source": [
    "re_juvnotefind = re.compile(r\"S\")\n",
    "entry.find_all('p',contents=re_juvnotefind,recursive=True)"
   ]
  },
  {
   "cell_type": "code",
   "execution_count": null,
   "metadata": {
    "collapsed": false
   },
   "outputs": [],
   "source": [
    "re_juvnotefind = re.compile(r\"P\")\n",
    "for p in entry.find_all('p'):\n",
    "    if re_juvnotefind.search(p.text):\n",
    "        print(p.text.strip())"
   ]
  },
  {
   "cell_type": "code",
   "execution_count": null,
   "metadata": {
    "collapsed": false,
    "scrolled": true
   },
   "outputs": [],
   "source": [
    "entry.find_all('p')[1].text"
   ]
  },
  {
   "cell_type": "code",
   "execution_count": 33,
   "metadata": {
    "collapsed": false
   },
   "outputs": [
    {
     "ename": "TypeError",
     "evalue": "list indices must be integers or slices, not str",
     "output_type": "error",
     "traceback": [
      "\u001b[0;31m---------------------------------------------------------------------------\u001b[0m",
      "\u001b[0;31mTypeError\u001b[0m                                 Traceback (most recent call last)",
      "\u001b[0;32m<ipython-input-33-b59196b8a883>\u001b[0m in \u001b[0;36m<module>\u001b[0;34m()\u001b[0m\n\u001b[1;32m     10\u001b[0m \u001b[0;34m\u001b[0m\u001b[0m\n\u001b[1;32m     11\u001b[0m \u001b[0;34m\u001b[0m\u001b[0m\n\u001b[0;32m---> 12\u001b[0;31m \u001b[0;32mfor\u001b[0m \u001b[0mlogno\u001b[0m\u001b[0;34m,\u001b[0m \u001b[0mrecord\u001b[0m \u001b[0;32min\u001b[0m \u001b[0mdata\u001b[0m\u001b[0;34m[\u001b[0m\u001b[0;34m'records'\u001b[0m\u001b[0;34m]\u001b[0m\u001b[0;34m.\u001b[0m\u001b[0mitems\u001b[0m\u001b[0;34m(\u001b[0m\u001b[0;34m)\u001b[0m\u001b[0;34m:\u001b[0m\u001b[0;34m\u001b[0m\u001b[0m\n\u001b[0m\u001b[1;32m     13\u001b[0m \u001b[0;34m\u001b[0m\u001b[0m\n\u001b[1;32m     14\u001b[0m     \u001b[0mr\u001b[0m \u001b[0;34m=\u001b[0m \u001b[0mrequests\u001b[0m\u001b[0;34m.\u001b[0m\u001b[0mget\u001b[0m\u001b[0;34m(\u001b[0m\u001b[0mrecord\u001b[0m\u001b[0;34m[\u001b[0m\u001b[0;34m'record_url'\u001b[0m\u001b[0;34m]\u001b[0m\u001b[0;34m,\u001b[0m \u001b[0mheaders\u001b[0m\u001b[0;34m=\u001b[0m\u001b[0mheaders\u001b[0m\u001b[0;34m)\u001b[0m\u001b[0;34m\u001b[0m\u001b[0m\n",
      "\u001b[0;31mTypeError\u001b[0m: list indices must be integers or slices, not str"
     ]
    }
   ],
   "source": [
    "# Compiled regex\n",
    "re_notefind = re.compile(r\"Note:\")\n",
    "re_notecapture = re.compile(r\"Note:\\s*(.*)\")\n",
    "re_juvnotefind = re.compile(r\"Pursuant\")\n",
    "re_subjectcapture = re.compile(r\"Subject[^<:]*:([^<:]+)\")\n",
    "\n",
    "re_fileid = re.compile(r\"'#modal(\\d+)'\")\n",
    "re_mediasrc = re.compile(r\"var\\s+src\\s*=\\s*'([^']+)'\")\n",
    "\n",
    "\n",
    "\n",
    "for logno, record in data['records'].items():\n",
    "    \n",
    "    r = requests.get(record['record_url'], headers=headers)\n",
    "    soup = BeautifulSoup(r.content,'html.parser')\n",
    "    \n",
    "    # Convenient sections\n",
    "    content = soup.find(id='main')\n",
    "    entry = content.find('div',attrs={'class' : 'entry-content'})\n",
    "    \n",
    "    # Get date and time posted on IPRA portal\n",
    "    record['post_date_time'] = content.find('time',attrs={'class' : 'entry-date published'}).get(\"datetime\")\n",
    "    \n",
    "    # Get notes\n",
    "    record['notes'] = []\n",
    "    # If \"Note:\" exists\n",
    "    note = entry.find('p',string=re_notefind)\n",
    "    if note:\n",
    "        record['notes'].append(re_notecapture.search(note.string).groups()[0].strip())\n",
    "    # If Illinois Juvenile Court Act note exists\n",
    "    for p in entry.find_all('p'):\n",
    "        if re_juvnotefind.search(p.text):\n",
    "            record['notes'].append(p.text.strip())\n",
    "    \n",
    "    # Subjects\n",
    "    record['subjects'] = []\n",
    "    # Check if there is an unordered list of multiple subjects\n",
    "    subjectlist = entry.find('ul')\n",
    "    if subjectlist:\n",
    "        for subject in subjectlist.find_all('li'):\n",
    "            record['subjects'].append(subject.string.strip())\n",
    "    # Else check for single line subject\n",
    "    elif entry.find('p',string=re_subjectcapture):\n",
    "        subjectline = entry.find('p',string=re_subjectcapture).string\n",
    "        subjectlist.append(re_subjectcapture.search(subjectline).groups()[0].strip())\n",
    "    '''\n",
    "    # Get single Subject if exists\n",
    "    subject = entry.find('p',string=re_subjectfind)\n",
    "    if subject:\n",
    "        record['subjects'] = [re_subjectcapture.search(subject.string).groups()[0].strip()]\n",
    "    # Get multiple Subjects if exists\n",
    "    if entry.find('p',string=re_subjectsmultfind):\n",
    "            record['subjects'] = [li.string.strip() for li in entry.ul.find_all('li')]\n",
    "        \n",
    "    # Get multiple Subjects if exists\n",
    "    if entry.find('p',string=re_subjectsmultfind):\n",
    "        record['subjects'] = [li.string.strip() for li in entry.ul.find_all('li')]\n",
    "    '''\n",
    "    \n",
    "    \n",
    "    # Scrape media\n",
    "    media = entry.find_all('div',attrs={'class' : 'col-sm-4'})\n",
    "    \n",
    "    record['documents'] = []\n",
    "    record['audio'] = []\n",
    "    record['video'] = []\n",
    "    \n",
    "    for elem in media:\n",
    "        iconclasses = elem.find('span',attrs={'class':'fa'}).get('class')\n",
    "        \n",
    "        # If document\n",
    "        if 'fa-file-pdf-o' in iconclasses:\n",
    "            record['documents'].append(\n",
    "                {'description' : elem.a.text.strip(), \n",
    "                'url' : elem.a.get('href').strip()}\n",
    "                )\n",
    "        \n",
    "        # If video\n",
    "        elif 'fa-file-video-o' in iconclasses:\n",
    "            descript = elem.find('div',attrs={'class':'large-icon'}).text.strip()\n",
    "            \n",
    "            js = elem.find('script').text\n",
    "            js = re.sub(r'\\n','',js)\n",
    "            js = re.sub(r'\\t','',js)\n",
    "            \n",
    "            file_id = re_fileid.search(js).groups()[0]\n",
    "            \n",
    "            url = re_mediasrc.search(js).groups()[0]\n",
    "            \n",
    "            record['video'].append({\n",
    "                    'description' : descript, \n",
    "                    'file_id' : file_id,\n",
    "                    'url' : url})\n",
    "            \n",
    "        # If audio\n",
    "        elif 'fa-file-sound-o' in iconclasses:\n",
    "            descript = elem.find('div',attrs={'class':'large-icon'}).text.strip()\n",
    "            \n",
    "            js = elem.find('script').text\n",
    "            js = re.sub(r'\\n','',js)\n",
    "            js = re.sub(r'\\t','',js)\n",
    "            \n",
    "            file_id = re_fileid.search(js).groups()[0]\n",
    "            \n",
    "            url = re_mediasrc.search(js).groups()[0]\n",
    "            \n",
    "            record['audio'].append({\n",
    "                    'description' : descript, \n",
    "                    'file_id' : file_id,\n",
    "                    'url' : url})"
   ]
  },
  {
   "cell_type": "code",
   "execution_count": null,
   "metadata": {
    "collapsed": false
   },
   "outputs": [],
   "source": [
    "data['records']['1052578']"
   ]
  },
  {
   "cell_type": "code",
   "execution_count": null,
   "metadata": {
    "collapsed": true
   },
   "outputs": [],
   "source": []
  }
 ],
 "metadata": {
  "kernelspec": {
   "display_name": "Python 3",
   "language": "python",
   "name": "python3"
  },
  "language_info": {
   "codemirror_mode": {
    "name": "ipython",
    "version": 3
   },
   "file_extension": ".py",
   "mimetype": "text/x-python",
   "name": "python",
   "nbconvert_exporter": "python",
   "pygments_lexer": "ipython3",
   "version": "3.5.1"
  }
 },
 "nbformat": 4,
 "nbformat_minor": 0
}
